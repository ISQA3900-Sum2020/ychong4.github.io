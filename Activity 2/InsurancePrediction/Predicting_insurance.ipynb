{
 "cells": [
  {
   "cell_type": "code",
   "execution_count": 1,
   "metadata": {
    "id": "_A_9tA7B6uyd"
   },
   "outputs": [],
   "source": [
    "#!unzip data.zip"
   ]
  },
  {
   "cell_type": "code",
   "execution_count": 2,
   "metadata": {
    "id": "Xuoi8sCL61HH"
   },
   "outputs": [],
   "source": [
    "import pandas as pd\n",
    "import numpy as np\n",
    "import matplotlib.pyplot as plt\n",
    "import seaborn as sns\n",
    "from sklearn.preprocessing import StandardScaler, LabelEncoder\n",
    "from sklearn.linear_model import LogisticRegression\n",
    "from sklearn.metrics import roc_auc_score\n",
    "from sklearn.model_selection import train_test_split, GridSearchCV\n",
    "from sklearn.ensemble import RandomForestClassifier, GradientBoostingClassifier, AdaBoostClassifier, ExtraTreesClassifier, VotingClassifier\n",
    "from sklearn.svm import SVC \n",
    "from imblearn.over_sampling import RandomOverSampler\n",
    "from sklearn.neighbors import KNeighborsClassifier\n",
    "import xgboost"
   ]
  },
  {
   "cell_type": "code",
   "execution_count": 3,
   "metadata": {
    "id": "h8qCNsg068VW"
   },
   "outputs": [],
   "source": [
    "dfTrain = pd.read_csv(\"Health Insurance Cross Sell Prediction/data/train.csv\")\n",
    "dfTest = pd.read_csv(\"Health Insurance Cross Sell Prediction/data/test.csv\")"
   ]
  },
  {
   "cell_type": "code",
   "execution_count": 4,
   "metadata": {
    "colab": {
     "base_uri": "https://localhost:8080/",
     "height": 423
    },
    "id": "vZH3deTy68ao",
    "outputId": "8b35c2fd-152a-4fa4-b7ac-4b23637c4a49"
   },
   "outputs": [
    {
     "data": {
      "text/html": [
       "<div>\n",
       "<style scoped>\n",
       "    .dataframe tbody tr th:only-of-type {\n",
       "        vertical-align: middle;\n",
       "    }\n",
       "\n",
       "    .dataframe tbody tr th {\n",
       "        vertical-align: top;\n",
       "    }\n",
       "\n",
       "    .dataframe thead th {\n",
       "        text-align: right;\n",
       "    }\n",
       "</style>\n",
       "<table border=\"1\" class=\"dataframe\">\n",
       "  <thead>\n",
       "    <tr style=\"text-align: right;\">\n",
       "      <th></th>\n",
       "      <th>id</th>\n",
       "      <th>Gender</th>\n",
       "      <th>Age</th>\n",
       "      <th>Driving_License</th>\n",
       "      <th>Region_Code</th>\n",
       "      <th>Previously_Insured</th>\n",
       "      <th>Vehicle_Age</th>\n",
       "      <th>Vehicle_Damage</th>\n",
       "      <th>Annual_Premium</th>\n",
       "      <th>Policy_Sales_Channel</th>\n",
       "      <th>Vintage</th>\n",
       "      <th>Response</th>\n",
       "    </tr>\n",
       "  </thead>\n",
       "  <tbody>\n",
       "    <tr>\n",
       "      <th>0</th>\n",
       "      <td>1</td>\n",
       "      <td>Male</td>\n",
       "      <td>44</td>\n",
       "      <td>1</td>\n",
       "      <td>28.0</td>\n",
       "      <td>0</td>\n",
       "      <td>&gt; 2 Years</td>\n",
       "      <td>Yes</td>\n",
       "      <td>40454.0</td>\n",
       "      <td>26.0</td>\n",
       "      <td>217</td>\n",
       "      <td>1.0</td>\n",
       "    </tr>\n",
       "    <tr>\n",
       "      <th>1</th>\n",
       "      <td>2</td>\n",
       "      <td>Male</td>\n",
       "      <td>76</td>\n",
       "      <td>1</td>\n",
       "      <td>3.0</td>\n",
       "      <td>0</td>\n",
       "      <td>1-2 Year</td>\n",
       "      <td>No</td>\n",
       "      <td>33536.0</td>\n",
       "      <td>26.0</td>\n",
       "      <td>183</td>\n",
       "      <td>0.0</td>\n",
       "    </tr>\n",
       "    <tr>\n",
       "      <th>2</th>\n",
       "      <td>3</td>\n",
       "      <td>Male</td>\n",
       "      <td>47</td>\n",
       "      <td>1</td>\n",
       "      <td>28.0</td>\n",
       "      <td>0</td>\n",
       "      <td>&gt; 2 Years</td>\n",
       "      <td>Yes</td>\n",
       "      <td>38294.0</td>\n",
       "      <td>26.0</td>\n",
       "      <td>27</td>\n",
       "      <td>1.0</td>\n",
       "    </tr>\n",
       "    <tr>\n",
       "      <th>3</th>\n",
       "      <td>4</td>\n",
       "      <td>Male</td>\n",
       "      <td>21</td>\n",
       "      <td>1</td>\n",
       "      <td>11.0</td>\n",
       "      <td>1</td>\n",
       "      <td>&lt; 1 Year</td>\n",
       "      <td>No</td>\n",
       "      <td>28619.0</td>\n",
       "      <td>152.0</td>\n",
       "      <td>203</td>\n",
       "      <td>0.0</td>\n",
       "    </tr>\n",
       "    <tr>\n",
       "      <th>4</th>\n",
       "      <td>5</td>\n",
       "      <td>Female</td>\n",
       "      <td>29</td>\n",
       "      <td>1</td>\n",
       "      <td>41.0</td>\n",
       "      <td>1</td>\n",
       "      <td>&lt; 1 Year</td>\n",
       "      <td>No</td>\n",
       "      <td>27496.0</td>\n",
       "      <td>152.0</td>\n",
       "      <td>39</td>\n",
       "      <td>0.0</td>\n",
       "    </tr>\n",
       "    <tr>\n",
       "      <th>...</th>\n",
       "      <td>...</td>\n",
       "      <td>...</td>\n",
       "      <td>...</td>\n",
       "      <td>...</td>\n",
       "      <td>...</td>\n",
       "      <td>...</td>\n",
       "      <td>...</td>\n",
       "      <td>...</td>\n",
       "      <td>...</td>\n",
       "      <td>...</td>\n",
       "      <td>...</td>\n",
       "      <td>...</td>\n",
       "    </tr>\n",
       "    <tr>\n",
       "      <th>127032</th>\n",
       "      <td>508142</td>\n",
       "      <td>Female</td>\n",
       "      <td>26</td>\n",
       "      <td>1</td>\n",
       "      <td>37.0</td>\n",
       "      <td>1</td>\n",
       "      <td>&lt; 1 Year</td>\n",
       "      <td>No</td>\n",
       "      <td>30867.0</td>\n",
       "      <td>152.0</td>\n",
       "      <td>56</td>\n",
       "      <td>NaN</td>\n",
       "    </tr>\n",
       "    <tr>\n",
       "      <th>127033</th>\n",
       "      <td>508143</td>\n",
       "      <td>Female</td>\n",
       "      <td>38</td>\n",
       "      <td>1</td>\n",
       "      <td>28.0</td>\n",
       "      <td>0</td>\n",
       "      <td>1-2 Year</td>\n",
       "      <td>Yes</td>\n",
       "      <td>28700.0</td>\n",
       "      <td>122.0</td>\n",
       "      <td>165</td>\n",
       "      <td>NaN</td>\n",
       "    </tr>\n",
       "    <tr>\n",
       "      <th>127034</th>\n",
       "      <td>508144</td>\n",
       "      <td>Male</td>\n",
       "      <td>21</td>\n",
       "      <td>1</td>\n",
       "      <td>46.0</td>\n",
       "      <td>1</td>\n",
       "      <td>&lt; 1 Year</td>\n",
       "      <td>No</td>\n",
       "      <td>29802.0</td>\n",
       "      <td>152.0</td>\n",
       "      <td>74</td>\n",
       "      <td>NaN</td>\n",
       "    </tr>\n",
       "    <tr>\n",
       "      <th>127035</th>\n",
       "      <td>508145</td>\n",
       "      <td>Male</td>\n",
       "      <td>71</td>\n",
       "      <td>1</td>\n",
       "      <td>28.0</td>\n",
       "      <td>1</td>\n",
       "      <td>1-2 Year</td>\n",
       "      <td>No</td>\n",
       "      <td>62875.0</td>\n",
       "      <td>26.0</td>\n",
       "      <td>265</td>\n",
       "      <td>NaN</td>\n",
       "    </tr>\n",
       "    <tr>\n",
       "      <th>127036</th>\n",
       "      <td>508146</td>\n",
       "      <td>Male</td>\n",
       "      <td>41</td>\n",
       "      <td>1</td>\n",
       "      <td>29.0</td>\n",
       "      <td>1</td>\n",
       "      <td>1-2 Year</td>\n",
       "      <td>No</td>\n",
       "      <td>27927.0</td>\n",
       "      <td>124.0</td>\n",
       "      <td>231</td>\n",
       "      <td>NaN</td>\n",
       "    </tr>\n",
       "  </tbody>\n",
       "</table>\n",
       "<p>508146 rows × 12 columns</p>\n",
       "</div>"
      ],
      "text/plain": [
       "            id  Gender  Age  Driving_License  Region_Code  Previously_Insured  \\\n",
       "0            1    Male   44                1         28.0                   0   \n",
       "1            2    Male   76                1          3.0                   0   \n",
       "2            3    Male   47                1         28.0                   0   \n",
       "3            4    Male   21                1         11.0                   1   \n",
       "4            5  Female   29                1         41.0                   1   \n",
       "...        ...     ...  ...              ...          ...                 ...   \n",
       "127032  508142  Female   26                1         37.0                   1   \n",
       "127033  508143  Female   38                1         28.0                   0   \n",
       "127034  508144    Male   21                1         46.0                   1   \n",
       "127035  508145    Male   71                1         28.0                   1   \n",
       "127036  508146    Male   41                1         29.0                   1   \n",
       "\n",
       "       Vehicle_Age Vehicle_Damage  Annual_Premium  Policy_Sales_Channel  \\\n",
       "0        > 2 Years            Yes         40454.0                  26.0   \n",
       "1         1-2 Year             No         33536.0                  26.0   \n",
       "2        > 2 Years            Yes         38294.0                  26.0   \n",
       "3         < 1 Year             No         28619.0                 152.0   \n",
       "4         < 1 Year             No         27496.0                 152.0   \n",
       "...            ...            ...             ...                   ...   \n",
       "127032    < 1 Year             No         30867.0                 152.0   \n",
       "127033    1-2 Year            Yes         28700.0                 122.0   \n",
       "127034    < 1 Year             No         29802.0                 152.0   \n",
       "127035    1-2 Year             No         62875.0                  26.0   \n",
       "127036    1-2 Year             No         27927.0                 124.0   \n",
       "\n",
       "        Vintage  Response  \n",
       "0           217       1.0  \n",
       "1           183       0.0  \n",
       "2            27       1.0  \n",
       "3           203       0.0  \n",
       "4            39       0.0  \n",
       "...         ...       ...  \n",
       "127032       56       NaN  \n",
       "127033      165       NaN  \n",
       "127034       74       NaN  \n",
       "127035      265       NaN  \n",
       "127036      231       NaN  \n",
       "\n",
       "[508146 rows x 12 columns]"
      ]
     },
     "execution_count": 4,
     "metadata": {},
     "output_type": "execute_result"
    }
   ],
   "source": [
    "df = pd.concat([dfTrain, dfTest], axis=0)\n",
    "\n",
    "df"
   ]
  },
  {
   "cell_type": "code",
   "execution_count": 5,
   "metadata": {
    "colab": {
     "base_uri": "https://localhost:8080/"
    },
    "id": "CMP0o-FL7ZgE",
    "outputId": "13fd281d-c0cd-4a88-e6d4-14b7aa9c1483"
   },
   "outputs": [
    {
     "name": "stdout",
     "output_type": "stream",
     "text": [
      "<class 'pandas.core.frame.DataFrame'>\n",
      "Int64Index: 508146 entries, 0 to 127036\n",
      "Data columns (total 12 columns):\n",
      " #   Column                Non-Null Count   Dtype  \n",
      "---  ------                --------------   -----  \n",
      " 0   id                    508146 non-null  int64  \n",
      " 1   Gender                508146 non-null  object \n",
      " 2   Age                   508146 non-null  int64  \n",
      " 3   Driving_License       508146 non-null  int64  \n",
      " 4   Region_Code           508146 non-null  float64\n",
      " 5   Previously_Insured    508146 non-null  int64  \n",
      " 6   Vehicle_Age           508146 non-null  object \n",
      " 7   Vehicle_Damage        508146 non-null  object \n",
      " 8   Annual_Premium        508146 non-null  float64\n",
      " 9   Policy_Sales_Channel  508146 non-null  float64\n",
      " 10  Vintage               508146 non-null  int64  \n",
      " 11  Response              381109 non-null  float64\n",
      "dtypes: float64(4), int64(5), object(3)\n",
      "memory usage: 50.4+ MB\n"
     ]
    }
   ],
   "source": [
    "# Check missing data\n",
    "\n",
    "df.info()\n",
    "\n",
    "# No missing data is detected"
   ]
  },
  {
   "cell_type": "markdown",
   "metadata": {
    "id": "Kga7XvlakjM8"
   },
   "source": [
    "**Correlation plot**"
   ]
  },
  {
   "cell_type": "code",
   "execution_count": 6,
   "metadata": {
    "colab": {
     "base_uri": "https://localhost:8080/",
     "height": 811
    },
    "id": "6HPXCASl8ghs",
    "outputId": "ba49f2f0-4734-4c71-9226-db5816baac9f"
   },
   "outputs": [
    {
     "data": {
      "text/plain": [
       "<AxesSubplot:>"
      ]
     },
     "execution_count": 6,
     "metadata": {},
     "output_type": "execute_result"
    },
    {
     "data": {
      "image/png": "[encoded data removed]",
      "text/plain": [
       "<Figure size 1008x504 with 2 Axes>"
      ]
     },
     "metadata": {
      "needs_background": "light"
     },
     "output_type": "display_data"
    }
   ],
   "source": [
    "fig, ax = plt.subplots(figsize = (14,7))\n",
    "corr = dfTrain.corr().round(2)\n",
    "sns.heatmap(corr, annot = True, ax=ax, vmin=-1, vmax=1, center=0, cmap='YlOrBr')\n",
    "\n",
    "# We observe that previously_insured is a relatively stronger correlated variable to Response\n",
    "# Policy_Sales_Channel has a strong correlation with Age"
   ]
  },
  {
   "cell_type": "markdown",
   "metadata": {
    "id": "CQawvydQkrPB"
   },
   "source": [
    "**Check data skewness**"
   ]
  },
  {
   "cell_type": "code",
   "execution_count": 7,
   "metadata": {
    "colab": {
     "base_uri": "https://localhost:8080/",
     "height": 331
    },
    "id": "pHsxKiLf8Rjk",
    "outputId": "348e3612-a422-46ce-bafd-df88591a7729"
   },
   "outputs": [
    {
     "data": {
      "text/html": [
       "<div>\n",
       "<style scoped>\n",
       "    .dataframe tbody tr th:only-of-type {\n",
       "        vertical-align: middle;\n",
       "    }\n",
       "\n",
       "    .dataframe tbody tr th {\n",
       "        vertical-align: top;\n",
       "    }\n",
       "\n",
       "    .dataframe thead th {\n",
       "        text-align: right;\n",
       "    }\n",
       "</style>\n",
       "<table border=\"1\" class=\"dataframe\">\n",
       "  <thead>\n",
       "    <tr style=\"text-align: right;\">\n",
       "      <th></th>\n",
       "      <th>count</th>\n",
       "      <th>mean</th>\n",
       "      <th>std</th>\n",
       "      <th>min</th>\n",
       "      <th>25%</th>\n",
       "      <th>50%</th>\n",
       "      <th>75%</th>\n",
       "      <th>max</th>\n",
       "    </tr>\n",
       "  </thead>\n",
       "  <tbody>\n",
       "    <tr>\n",
       "      <th>id</th>\n",
       "      <td>508146.0</td>\n",
       "      <td>254073.500000</td>\n",
       "      <td>146689.259281</td>\n",
       "      <td>1.0</td>\n",
       "      <td>127037.25</td>\n",
       "      <td>254073.5</td>\n",
       "      <td>381109.75</td>\n",
       "      <td>508146.0</td>\n",
       "    </tr>\n",
       "    <tr>\n",
       "      <th>Age</th>\n",
       "      <td>508146.0</td>\n",
       "      <td>38.808413</td>\n",
       "      <td>15.500179</td>\n",
       "      <td>20.0</td>\n",
       "      <td>25.00</td>\n",
       "      <td>36.0</td>\n",
       "      <td>49.00</td>\n",
       "      <td>85.0</td>\n",
       "    </tr>\n",
       "    <tr>\n",
       "      <th>Driving_License</th>\n",
       "      <td>508146.0</td>\n",
       "      <td>0.997936</td>\n",
       "      <td>0.045388</td>\n",
       "      <td>0.0</td>\n",
       "      <td>1.00</td>\n",
       "      <td>1.0</td>\n",
       "      <td>1.00</td>\n",
       "      <td>1.0</td>\n",
       "    </tr>\n",
       "    <tr>\n",
       "      <th>Region_Code</th>\n",
       "      <td>508146.0</td>\n",
       "      <td>26.406572</td>\n",
       "      <td>13.224921</td>\n",
       "      <td>0.0</td>\n",
       "      <td>15.00</td>\n",
       "      <td>28.0</td>\n",
       "      <td>35.00</td>\n",
       "      <td>52.0</td>\n",
       "    </tr>\n",
       "    <tr>\n",
       "      <th>Previously_Insured</th>\n",
       "      <td>508146.0</td>\n",
       "      <td>0.458667</td>\n",
       "      <td>0.498289</td>\n",
       "      <td>0.0</td>\n",
       "      <td>0.00</td>\n",
       "      <td>0.0</td>\n",
       "      <td>1.00</td>\n",
       "      <td>1.0</td>\n",
       "    </tr>\n",
       "    <tr>\n",
       "      <th>Annual_Premium</th>\n",
       "      <td>508146.0</td>\n",
       "      <td>30554.453041</td>\n",
       "      <td>17146.574625</td>\n",
       "      <td>2630.0</td>\n",
       "      <td>24381.00</td>\n",
       "      <td>31661.0</td>\n",
       "      <td>39403.75</td>\n",
       "      <td>540165.0</td>\n",
       "    </tr>\n",
       "    <tr>\n",
       "      <th>Policy_Sales_Channel</th>\n",
       "      <td>508146.0</td>\n",
       "      <td>111.975838</td>\n",
       "      <td>54.246027</td>\n",
       "      <td>1.0</td>\n",
       "      <td>26.00</td>\n",
       "      <td>133.0</td>\n",
       "      <td>152.00</td>\n",
       "      <td>163.0</td>\n",
       "    </tr>\n",
       "    <tr>\n",
       "      <th>Vintage</th>\n",
       "      <td>508146.0</td>\n",
       "      <td>154.340123</td>\n",
       "      <td>83.668793</td>\n",
       "      <td>10.0</td>\n",
       "      <td>82.00</td>\n",
       "      <td>154.0</td>\n",
       "      <td>227.00</td>\n",
       "      <td>299.0</td>\n",
       "    </tr>\n",
       "    <tr>\n",
       "      <th>Response</th>\n",
       "      <td>381109.0</td>\n",
       "      <td>0.122563</td>\n",
       "      <td>0.327936</td>\n",
       "      <td>0.0</td>\n",
       "      <td>0.00</td>\n",
       "      <td>0.0</td>\n",
       "      <td>0.00</td>\n",
       "      <td>1.0</td>\n",
       "    </tr>\n",
       "  </tbody>\n",
       "</table>\n",
       "</div>"
      ],
      "text/plain": [
       "                         count           mean            std     min  \\\n",
       "id                    508146.0  254073.500000  146689.259281     1.0   \n",
       "Age                   508146.0      38.808413      15.500179    20.0   \n",
       "Driving_License       508146.0       0.997936       0.045388     0.0   \n",
       "Region_Code           508146.0      26.406572      13.224921     0.0   \n",
       "Previously_Insured    508146.0       0.458667       0.498289     0.0   \n",
       "Annual_Premium        508146.0   30554.453041   17146.574625  2630.0   \n",
       "Policy_Sales_Channel  508146.0     111.975838      54.246027     1.0   \n",
       "Vintage               508146.0     154.340123      83.668793    10.0   \n",
       "Response              381109.0       0.122563       0.327936     0.0   \n",
       "\n",
       "                            25%       50%        75%       max  \n",
       "id                    127037.25  254073.5  381109.75  508146.0  \n",
       "Age                       25.00      36.0      49.00      85.0  \n",
       "Driving_License            1.00       1.0       1.00       1.0  \n",
       "Region_Code               15.00      28.0      35.00      52.0  \n",
       "Previously_Insured         0.00       0.0       1.00       1.0  \n",
       "Annual_Premium         24381.00   31661.0   39403.75  540165.0  \n",
       "Policy_Sales_Channel      26.00     133.0     152.00     163.0  \n",
       "Vintage                   82.00     154.0     227.00     299.0  \n",
       "Response                   0.00       0.0       0.00       1.0  "
      ]
     },
     "execution_count": 7,
     "metadata": {},
     "output_type": "execute_result"
    }
   ],
   "source": [
    "df.describe().transpose()\n",
    "\n",
    "# Annual_Premium is right skewed"
   ]
  },
  {
   "cell_type": "code",
   "execution_count": 8,
   "metadata": {
    "colab": {
     "base_uri": "https://localhost:8080/",
     "height": 471
    },
    "id": "xqMEtV4Mr6wK",
    "outputId": "9fd947e5-0f70-485f-a7e2-2ce94e32c983"
   },
   "outputs": [
    {
     "data": {
      "text/plain": [
       "<AxesSubplot:xlabel='Response', ylabel='count'>"
      ]
     },
     "execution_count": 8,
     "metadata": {},
     "output_type": "execute_result"
    },
    {
     "data": {
      "image/png": "[encoded data removed]",
      "text/plain": [
       "<Figure size 432x288 with 1 Axes>"
      ]
     },
     "metadata": {
      "needs_background": "light"
     },
     "output_type": "display_data"
    }
   ],
   "source": [
    "# Check Predictor: Response\n",
    "\n",
    "sns.countplot(x= 'Response', data=df)\n",
    "\n",
    "# Most of the participants do not want to purchase insurance"
   ]
  },
  {
   "cell_type": "code",
   "execution_count": 9,
   "metadata": {
    "colab": {
     "base_uri": "https://localhost:8080/",
     "height": 569
    },
    "id": "u_Nf0Y_r89w1",
    "outputId": "f8fa3ca6-bfcf-48d4-e701-47176dc70c63"
   },
   "outputs": [
    {
     "data": {
      "text/plain": [
       "{'whiskers': [<matplotlib.lines.Line2D at 0x27e1ce7ccd0>,\n",
       "  <matplotlib.lines.Line2D at 0x27e1ce7cfa0>],\n",
       " 'caps': [<matplotlib.lines.Line2D at 0x27e1ce8d370>,\n",
       "  <matplotlib.lines.Line2D at 0x27e1ce8d580>],\n",
       " 'boxes': [<matplotlib.lines.Line2D at 0x27e1ce7ca00>],\n",
       " 'medians': [<matplotlib.lines.Line2D at 0x27e1ce8d850>],\n",
       " 'fliers': [<matplotlib.lines.Line2D at 0x27e1ce8db20>],\n",
       " 'means': []}"
      ]
     },
     "execution_count": 9,
     "metadata": {},
     "output_type": "execute_result"
    },
    {
     "data": {
      "image/png": "[encoded data removed]",
      "text/plain": [
       "<Figure size 432x288 with 1 Axes>"
      ]
     },
     "metadata": {
      "needs_background": "light"
     },
     "output_type": "display_data"
    }
   ],
   "source": [
    "plt.boxplot(df.Annual_Premium)"
   ]
  },
  {
   "cell_type": "code",
   "execution_count": 10,
   "metadata": {
    "id": "joQWXG-zlGQA"
   },
   "outputs": [],
   "source": [
    "# Define numeric and categorical variables\n",
    "\n",
    "numeric_col = ['Age', 'Region_Code', 'Annual_Premium', 'Policy_Sales_Channel', 'Vintage']\n",
    "cat_col = ['Driving_License', 'Previously_Insured', 'Vehicle_Age', 'Gender', 'Vehicle_Damage']\n"
   ]
  },
  {
   "cell_type": "markdown",
   "metadata": {
    "id": "F-M9x4spnmMD"
   },
   "source": [
    "**Plot numerical columns**"
   ]
  },
  {
   "cell_type": "code",
   "execution_count": 11,
   "metadata": {
    "colab": {
     "base_uri": "https://localhost:8080/",
     "height": 925
    },
    "id": "fCoKsmsrlTWv",
    "outputId": "59a7f8d7-1ab2-48cb-cd4e-bafa5b956a82"
   },
   "outputs": [
    {
     "data": {
      "image/png": "[encoded data removed]",
      "text/plain": [
       "<Figure size 1440x1080 with 5 Axes>"
      ]
     },
     "metadata": {
      "needs_background": "light"
     },
     "output_type": "display_data"
    }
   ],
   "source": [
    "plt.figure(figsize=(20,15))\n",
    "#sns.set(color_codes = True)\n",
    "\n",
    "for i, col in enumerate(numeric_col):\n",
    "    plt.subplot(4, 2, numeric_col.index(col)+1)\n",
    "    sns.histplot(x= col, data=df)\n",
    "\n",
    "# Age is right skewed\n",
    "# Annual premium is right skewed"
   ]
  },
  {
   "cell_type": "code",
   "execution_count": 12,
   "metadata": {
    "id": "Mo-iP0vMBRJh"
   },
   "outputs": [],
   "source": [
    "# Define categorical columns\n",
    "# Label Encoding for categorical columns\n",
    "for col in cat_col:\n",
    "    le = LabelEncoder()\n",
    "    df[col] = df[col].astype('category')\n",
    "    df[col] = le.fit_transform(df[col])"
   ]
  },
  {
   "cell_type": "markdown",
   "metadata": {
    "id": "wdRSGlJAsONl"
   },
   "source": [
    "**Plot categorical variables**"
   ]
  },
  {
   "cell_type": "code",
   "execution_count": 13,
   "metadata": {
    "colab": {
     "base_uri": "https://localhost:8080/",
     "height": 921
    },
    "id": "BwmdmnTssQ87",
    "outputId": "a42eb0b2-9eeb-4487-98ce-52009615dfac"
   },
   "outputs": [
    {
     "data": {
      "image/png": "[encoded data removed]",
      "text/plain": [
       "<Figure size 1440x1080 with 5 Axes>"
      ]
     },
     "metadata": {
      "needs_background": "light"
     },
     "output_type": "display_data"
    }
   ],
   "source": [
    "plt.figure(figsize=(20,15))\n",
    "sns.set(color_codes = True)\n",
    "\n",
    "for i, col in enumerate(cat_col):\n",
    "    plt.subplot(4, 2, cat_col.index(col)+1)\n",
    "    sns.countplot(x= col, data=df)\n",
    "\n",
    "# Most of the participants have driving license"
   ]
  },
  {
   "cell_type": "markdown",
   "metadata": {
    "id": "_Lar1MoDsUb3"
   },
   "source": [
    "**Bivariate Analysis**"
   ]
  },
  {
   "cell_type": "code",
   "execution_count": 14,
   "metadata": {
    "colab": {
     "base_uri": "https://localhost:8080/",
     "height": 926
    },
    "id": "QmsJFZ6isXMG",
    "outputId": "da139d4e-bbc2-48e2-b3e4-aceb0d8570ad"
   },
   "outputs": [
    {
     "data": {
      "image/png": "[encoded data removed]",
      "text/plain": [
       "<Figure size 1440x1080 with 5 Axes>"
      ]
     },
     "metadata": {},
     "output_type": "display_data"
    }
   ],
   "source": [
    "plt.figure(figsize=(20,15))\n",
    "\n",
    "for i, col in enumerate(cat_col):\n",
    "    plt.subplot(4, 2, cat_col.index(col)+1)\n",
    "    sns.countplot(x= 'Response', hue =col, data=df)\n",
    "\n",
    "# People who had vehicle damage are more likely to purchase insurance\n",
    "# People who were not previously insured are more likely to purchase insurance"
   ]
  },
  {
   "cell_type": "code",
   "execution_count": 15,
   "metadata": {
    "colab": {
     "base_uri": "https://localhost:8080/",
     "height": 928
    },
    "id": "JITAjL92seuZ",
    "outputId": "f0230106-199a-47d3-fd0d-9d3a8b848802"
   },
   "outputs": [
    {
     "data": {
      "image/png": "[encoded data removed]",
      "text/plain": [
       "<Figure size 1440x1080 with 5 Axes>"
      ]
     },
     "metadata": {},
     "output_type": "display_data"
    }
   ],
   "source": [
    "plt.figure(figsize=(20,15))\n",
    "\n",
    "for i, col in enumerate(numeric_col):\n",
    "    plt.subplot(4, 2, numeric_col.index(col)+1)\n",
    "    sns.kdeplot(x= col, hue= 'Response', data=df, fill=True)\n",
    "\n",
    "# Younger participants tend to reject insurance"
   ]
  },
  {
   "cell_type": "code",
   "execution_count": 16,
   "metadata": {
    "id": "bLrdshuXsq9W"
   },
   "outputs": [],
   "source": [
    "# We can drop driving license column due to heavy skewness\n",
    "df = df.drop(columns='Driving_License')\n",
    "\n",
    "cat_col = ['Previously_Insured', 'Vehicle_Age', 'Gender', 'Vehicle_Damage']"
   ]
  },
  {
   "cell_type": "code",
   "execution_count": 17,
   "metadata": {
    "id": "K7pW3Mn_uHD2"
   },
   "outputs": [],
   "source": [
    "# Split dataset to train and test set\n",
    "dfTrain = df.iloc[0:381109,]\n",
    "dfTest = df.iloc[381110:,]\n",
    "\n",
    "# Define independent and dependent variables\n",
    "Y = dfTrain['Response']\n",
    "X = dfTrain.drop(['Response', 'id'], axis=1)"
   ]
  },
  {
   "cell_type": "markdown",
   "metadata": {
    "id": "QlSE9y3qtsu9"
   },
   "source": [
    "**Class Balancing**"
   ]
  },
  {
   "cell_type": "code",
   "execution_count": 18,
   "metadata": {
    "id": "SKUQVu6FtupY"
   },
   "outputs": [],
   "source": [
    "ros = RandomOverSampler(random_state=0)\n",
    "\n",
    "X, Y = ros.fit_resample(X, Y)"
   ]
  },
  {
   "cell_type": "code",
   "execution_count": 19,
   "metadata": {
    "colab": {
     "base_uri": "https://localhost:8080/",
     "height": 480
    },
    "id": "6zcOoBkYuO1E",
    "outputId": "91198175-1867-4757-fe91-3e240817ec2d"
   },
   "outputs": [
    {
     "data": {
      "text/plain": [
       "<AxesSubplot:xlabel='Response', ylabel='count'>"
      ]
     },
     "execution_count": 19,
     "metadata": {},
     "output_type": "execute_result"
    },
    {
     "data": {
      "image/png": "[encoded data removed]",
      "text/plain": [
       "<Figure size 432x288 with 1 Axes>"
      ]
     },
     "metadata": {},
     "output_type": "display_data"
    }
   ],
   "source": [
    "sns.countplot(x=Y)"
   ]
  },
  {
   "cell_type": "code",
   "execution_count": 20,
   "metadata": {
    "id": "uMGf0Os6DNsJ"
   },
   "outputs": [],
   "source": [
    "# Normalizing numeric columns\n",
    "for col in numeric_col:\n",
    "    sc = StandardScaler()\n",
    "    df[[col]] = sc.fit_transform(df[[col]])"
   ]
  },
  {
   "cell_type": "code",
   "execution_count": 21,
   "metadata": {
    "id": "GNjHLS4AEBkx"
   },
   "outputs": [],
   "source": [
    "# One hot encoding for categorical columns\n",
    "\n",
    "df = pd.get_dummies(df, columns = cat_col)"
   ]
  },
  {
   "cell_type": "code",
   "execution_count": 22,
   "metadata": {
    "id": "o7C4MvXLUZDK"
   },
   "outputs": [],
   "source": [
    "# Reset index using id\n",
    "#df.reset_index('id', inplace=True)\n",
    "#df"
   ]
  },
  {
   "cell_type": "code",
   "execution_count": 23,
   "metadata": {
    "colab": {
     "base_uri": "https://localhost:8080/",
     "height": 423
    },
    "id": "fR7_PPG_ENgV",
    "outputId": "c9072e80-7764-4c89-bc30-69bd834a64cc"
   },
   "outputs": [
    {
     "data": {
      "text/html": [
       "<div>\n",
       "<style scoped>\n",
       "    .dataframe tbody tr th:only-of-type {\n",
       "        vertical-align: middle;\n",
       "    }\n",
       "\n",
       "    .dataframe tbody tr th {\n",
       "        vertical-align: top;\n",
       "    }\n",
       "\n",
       "    .dataframe thead th {\n",
       "        text-align: right;\n",
       "    }\n",
       "</style>\n",
       "<table border=\"1\" class=\"dataframe\">\n",
       "  <thead>\n",
       "    <tr style=\"text-align: right;\">\n",
       "      <th></th>\n",
       "      <th>Gender</th>\n",
       "      <th>Age</th>\n",
       "      <th>Region_Code</th>\n",
       "      <th>Previously_Insured</th>\n",
       "      <th>Vehicle_Age</th>\n",
       "      <th>Vehicle_Damage</th>\n",
       "      <th>Annual_Premium</th>\n",
       "      <th>Policy_Sales_Channel</th>\n",
       "      <th>Vintage</th>\n",
       "    </tr>\n",
       "  </thead>\n",
       "  <tbody>\n",
       "    <tr>\n",
       "      <th>1</th>\n",
       "      <td>1</td>\n",
       "      <td>40</td>\n",
       "      <td>28.0</td>\n",
       "      <td>0</td>\n",
       "      <td>0</td>\n",
       "      <td>1</td>\n",
       "      <td>33762.0</td>\n",
       "      <td>7.0</td>\n",
       "      <td>111</td>\n",
       "    </tr>\n",
       "    <tr>\n",
       "      <th>2</th>\n",
       "      <td>1</td>\n",
       "      <td>47</td>\n",
       "      <td>28.0</td>\n",
       "      <td>0</td>\n",
       "      <td>0</td>\n",
       "      <td>1</td>\n",
       "      <td>40050.0</td>\n",
       "      <td>124.0</td>\n",
       "      <td>199</td>\n",
       "    </tr>\n",
       "    <tr>\n",
       "      <th>3</th>\n",
       "      <td>1</td>\n",
       "      <td>24</td>\n",
       "      <td>27.0</td>\n",
       "      <td>1</td>\n",
       "      <td>1</td>\n",
       "      <td>1</td>\n",
       "      <td>37356.0</td>\n",
       "      <td>152.0</td>\n",
       "      <td>187</td>\n",
       "    </tr>\n",
       "    <tr>\n",
       "      <th>4</th>\n",
       "      <td>1</td>\n",
       "      <td>27</td>\n",
       "      <td>28.0</td>\n",
       "      <td>1</td>\n",
       "      <td>1</td>\n",
       "      <td>0</td>\n",
       "      <td>59097.0</td>\n",
       "      <td>152.0</td>\n",
       "      <td>297</td>\n",
       "    </tr>\n",
       "    <tr>\n",
       "      <th>5</th>\n",
       "      <td>1</td>\n",
       "      <td>22</td>\n",
       "      <td>30.0</td>\n",
       "      <td>1</td>\n",
       "      <td>1</td>\n",
       "      <td>0</td>\n",
       "      <td>40207.0</td>\n",
       "      <td>152.0</td>\n",
       "      <td>266</td>\n",
       "    </tr>\n",
       "    <tr>\n",
       "      <th>...</th>\n",
       "      <td>...</td>\n",
       "      <td>...</td>\n",
       "      <td>...</td>\n",
       "      <td>...</td>\n",
       "      <td>...</td>\n",
       "      <td>...</td>\n",
       "      <td>...</td>\n",
       "      <td>...</td>\n",
       "      <td>...</td>\n",
       "    </tr>\n",
       "    <tr>\n",
       "      <th>127032</th>\n",
       "      <td>0</td>\n",
       "      <td>26</td>\n",
       "      <td>37.0</td>\n",
       "      <td>1</td>\n",
       "      <td>1</td>\n",
       "      <td>0</td>\n",
       "      <td>30867.0</td>\n",
       "      <td>152.0</td>\n",
       "      <td>56</td>\n",
       "    </tr>\n",
       "    <tr>\n",
       "      <th>127033</th>\n",
       "      <td>0</td>\n",
       "      <td>38</td>\n",
       "      <td>28.0</td>\n",
       "      <td>0</td>\n",
       "      <td>0</td>\n",
       "      <td>1</td>\n",
       "      <td>28700.0</td>\n",
       "      <td>122.0</td>\n",
       "      <td>165</td>\n",
       "    </tr>\n",
       "    <tr>\n",
       "      <th>127034</th>\n",
       "      <td>1</td>\n",
       "      <td>21</td>\n",
       "      <td>46.0</td>\n",
       "      <td>1</td>\n",
       "      <td>1</td>\n",
       "      <td>0</td>\n",
       "      <td>29802.0</td>\n",
       "      <td>152.0</td>\n",
       "      <td>74</td>\n",
       "    </tr>\n",
       "    <tr>\n",
       "      <th>127035</th>\n",
       "      <td>1</td>\n",
       "      <td>71</td>\n",
       "      <td>28.0</td>\n",
       "      <td>1</td>\n",
       "      <td>0</td>\n",
       "      <td>0</td>\n",
       "      <td>62875.0</td>\n",
       "      <td>26.0</td>\n",
       "      <td>265</td>\n",
       "    </tr>\n",
       "    <tr>\n",
       "      <th>127036</th>\n",
       "      <td>1</td>\n",
       "      <td>41</td>\n",
       "      <td>29.0</td>\n",
       "      <td>1</td>\n",
       "      <td>0</td>\n",
       "      <td>0</td>\n",
       "      <td>27927.0</td>\n",
       "      <td>124.0</td>\n",
       "      <td>231</td>\n",
       "    </tr>\n",
       "  </tbody>\n",
       "</table>\n",
       "<p>127036 rows × 9 columns</p>\n",
       "</div>"
      ],
      "text/plain": [
       "        Gender  Age  Region_Code  Previously_Insured  Vehicle_Age  \\\n",
       "1            1   40         28.0                   0            0   \n",
       "2            1   47         28.0                   0            0   \n",
       "3            1   24         27.0                   1            1   \n",
       "4            1   27         28.0                   1            1   \n",
       "5            1   22         30.0                   1            1   \n",
       "...        ...  ...          ...                 ...          ...   \n",
       "127032       0   26         37.0                   1            1   \n",
       "127033       0   38         28.0                   0            0   \n",
       "127034       1   21         46.0                   1            1   \n",
       "127035       1   71         28.0                   1            0   \n",
       "127036       1   41         29.0                   1            0   \n",
       "\n",
       "        Vehicle_Damage  Annual_Premium  Policy_Sales_Channel  Vintage  \n",
       "1                    1         33762.0                   7.0      111  \n",
       "2                    1         40050.0                 124.0      199  \n",
       "3                    1         37356.0                 152.0      187  \n",
       "4                    0         59097.0                 152.0      297  \n",
       "5                    0         40207.0                 152.0      266  \n",
       "...                ...             ...                   ...      ...  \n",
       "127032               0         30867.0                 152.0       56  \n",
       "127033               1         28700.0                 122.0      165  \n",
       "127034               0         29802.0                 152.0       74  \n",
       "127035               0         62875.0                  26.0      265  \n",
       "127036               0         27927.0                 124.0      231  \n",
       "\n",
       "[127036 rows x 9 columns]"
      ]
     },
     "execution_count": 23,
     "metadata": {},
     "output_type": "execute_result"
    }
   ],
   "source": [
    "# Train test split\n",
    "X_train, X_val, Y_train, Y_val = train_test_split(X, Y, test_size=0.2, random_state=10, shuffle=True)\n",
    "\n",
    "X_test = dfTest.drop(['Response', 'id'], axis=1)\n",
    "\n",
    "X_test"
   ]
  },
  {
   "cell_type": "code",
   "execution_count": 24,
   "metadata": {
    "colab": {
     "base_uri": "https://localhost:8080/"
    },
    "id": "4U6qb-IFEzcA",
    "outputId": "72483ec5-61f4-4f96-91b4-ddb950466c76"
   },
   "outputs": [
    {
     "name": "stdout",
     "output_type": "stream",
     "text": [
      "Size of X_train DataFrame:  (535038, 9)\n",
      "Size of X_val DataFrame:  (133760, 9)\n",
      "Size of X_test DataFrame:  (127036, 9)\n"
     ]
    }
   ],
   "source": [
    "print(\"Size of X_train DataFrame: \", X_train.shape)\n",
    "print(\"Size of X_val DataFrame: \", X_val.shape)\n",
    "print(\"Size of X_test DataFrame: \", X_test.shape)"
   ]
  },
  {
   "cell_type": "markdown",
   "metadata": {
    "id": "nNoaj3ejs9xA"
   },
   "source": [
    "## **Create Baseline Models**"
   ]
  },
  {
   "cell_type": "markdown",
   "metadata": {
    "id": "4iF21MO4yVi7"
   },
   "source": [
    "### **Model 1: Logistic Regression**"
   ]
  },
  {
   "cell_type": "code",
   "execution_count": 25,
   "metadata": {
    "colab": {
     "base_uri": "https://localhost:8080/"
    },
    "id": "ES4WKzQhtBB9",
    "outputId": "c303996b-c49f-4cae-962a-cc10c07b9a1b"
   },
   "outputs": [
    {
     "name": "stdout",
     "output_type": "stream",
     "text": [
      "Baseline logistic regression model AUC score: 0.7772852555380961\n"
     ]
    }
   ],
   "source": [
    "log_clf = LogisticRegression(max_iter=2000)\n",
    "log_clf.fit(X_train, Y_train)\n",
    "Y_pred_log_val = log_clf.predict(X_val)\n",
    "auc_log_val_base = roc_auc_score(Y_val, Y_pred_log_val) \n",
    "\n",
    "print(\"Baseline logistic regression model AUC score:\", auc_log_val_base)"
   ]
  },
  {
   "cell_type": "markdown",
   "metadata": {
    "id": "g2XX6cEYybAB"
   },
   "source": [
    "### **Model 2: Random Forest Classifier**"
   ]
  },
  {
   "cell_type": "code",
   "execution_count": 26,
   "metadata": {
    "colab": {
     "base_uri": "https://localhost:8080/"
    },
    "id": "Hq4YQF2vtBLD",
    "outputId": "003ab5f2-bd2f-4919-fc10-092c68f7b05a"
   },
   "outputs": [
    {
     "name": "stdout",
     "output_type": "stream",
     "text": [
      "Baseline Random Forest model AUC score: 0.9488202737324476\n"
     ]
    }
   ],
   "source": [
    "rf_clf = RandomForestClassifier()\n",
    "rf_clf.fit(X_train, Y_train)\n",
    "Y_pred_rf_val = rf_clf.predict(X_val)\n",
    "auc_rf_val_base = roc_auc_score(Y_val, Y_pred_rf_val)\n",
    "\n",
    "print(\"Baseline Random Forest model AUC score:\", auc_rf_val_base)"
   ]
  },
  {
   "cell_type": "markdown",
   "metadata": {
    "id": "8PZCHyBFzdCF"
   },
   "source": [
    "### **Model 3: Gradient Boosting Classifier**"
   ]
  },
  {
   "cell_type": "code",
   "execution_count": 27,
   "metadata": {
    "colab": {
     "base_uri": "https://localhost:8080/"
    },
    "id": "EKiLQ9TXtBVp",
    "outputId": "e213d451-7a93-4b59-af39-376593b7b712"
   },
   "outputs": [
    {
     "name": "stdout",
     "output_type": "stream",
     "text": [
      "Baseline Gradient Boosting model AUC score: 0.8193361672151894\n"
     ]
    }
   ],
   "source": [
    "gb_clf = GradientBoostingClassifier()\n",
    "gb_clf.fit(X_train, Y_train)\n",
    "Y_pred_gb_val = gb_clf.predict(X_val)\n",
    "auc_gb_val_base = roc_auc_score(Y_pred_gb_val, Y_val)\n",
    "\n",
    "print(\"Baseline Gradient Boosting model AUC score:\", auc_gb_val_base)"
   ]
  },
  {
   "cell_type": "markdown",
   "metadata": {
    "id": "COIeJEVw43ae"
   },
   "source": [
    "### **Model 4: K Nearest Neighbor (KNN) Classifier**"
   ]
  },
  {
   "cell_type": "code",
   "execution_count": 28,
   "metadata": {
    "colab": {
     "base_uri": "https://localhost:8080/"
    },
    "id": "551L77It49Ll",
    "outputId": "10c17572-c6b6-4d75-a4dc-660a132e471c"
   },
   "outputs": [
    {
     "name": "stdout",
     "output_type": "stream",
     "text": [
      "Baseline K Nearest Neighbor model AUC score: 0.8494137536565356\n"
     ]
    }
   ],
   "source": [
    "knn_clf = KNeighborsClassifier()\n",
    "knn_clf.fit(X_train, Y_train)\n",
    "Y_pred_knn_val = knn_clf.predict(X_val)\n",
    "auc_knn_val_base = roc_auc_score(Y_pred_knn_val, Y_val)\n",
    "\n",
    "print(\"Baseline K Nearest Neighbor model AUC score:\", auc_knn_val_base)"
   ]
  },
  {
   "cell_type": "markdown",
   "metadata": {
    "id": "59oaeIoS33Zs"
   },
   "source": [
    "### **Model 5: XGBoost Classifier**"
   ]
  },
  {
   "cell_type": "code",
   "execution_count": 29,
   "metadata": {
    "colab": {
     "base_uri": "https://localhost:8080/"
    },
    "id": "l0sqPmlO35aE",
    "outputId": "b02d663d-67f9-46b8-8ac1-b10e74301c42"
   },
   "outputs": [
    {
     "name": "stdout",
     "output_type": "stream",
     "text": [
      "Baseline XGBoost Classifier model AUC score: 0.8334065111798612\n"
     ]
    }
   ],
   "source": [
    "xgb_clf = xgboost.XGBClassifier()\n",
    "xgb_clf.fit(X_train, Y_train)\n",
    "Y_pred_xgb_val = xgb_clf.predict(X_val)\n",
    "auc_xgb_val_base = roc_auc_score(Y_pred_xgb_val, Y_val)\n",
    "\n",
    "print(\"Baseline XGBoost Classifier model AUC score:\", auc_xgb_val_base)"
   ]
  },
  {
   "cell_type": "markdown",
   "metadata": {
    "id": "kNqTatTpBu1x"
   },
   "source": [
    "### **Model 6: ExtraTrees Classifier**\n",
    "\n"
   ]
  },
  {
   "cell_type": "code",
   "execution_count": 30,
   "metadata": {
    "colab": {
     "base_uri": "https://localhost:8080/"
    },
    "id": "ZacbNqlyB2I9",
    "outputId": "743edd10-bd29-4190-ac8a-7b3d248ac7f2"
   },
   "outputs": [
    {
     "name": "stdout",
     "output_type": "stream",
     "text": [
      "Baseline ExtraTrees Classifier model AUC score: 0.9712393320715207\n"
     ]
    }
   ],
   "source": [
    "xt_clf = ExtraTreesClassifier()\n",
    "xt_clf.fit(X_train, Y_train)\n",
    "Y_pred_xt_val = xt_clf.predict(X_val)\n",
    "auc_xt_val_base = roc_auc_score(Y_pred_xt_val, Y_val)\n",
    "\n",
    "print(\"Baseline ExtraTrees Classifier model AUC score:\", auc_xt_val_base)"
   ]
  },
  {
   "cell_type": "markdown",
   "metadata": {
    "id": "zx9yi0WnCQpq"
   },
   "source": [
    "### **Model 7: AdaBoost Classifier**"
   ]
  },
  {
   "cell_type": "code",
   "execution_count": 31,
   "metadata": {
    "colab": {
     "base_uri": "https://localhost:8080/"
    },
    "id": "eUWEXc1YCYgV",
    "outputId": "edc75317-5c5b-4625-ca58-ed2c32d4c9b7"
   },
   "outputs": [
    {
     "name": "stdout",
     "output_type": "stream",
     "text": [
      "Baseline AdaBoost Classifier model AUC score: 0.8213143913247711\n"
     ]
    }
   ],
   "source": [
    "ab_clf = AdaBoostClassifier()\n",
    "ab_clf.fit(X_train, Y_train)\n",
    "Y_pred_ab_val = ab_clf.predict(X_val)\n",
    "auc_ab_val_base = roc_auc_score(Y_pred_ab_val, Y_val)\n",
    "\n",
    "print(\"Baseline AdaBoost Classifier model AUC score:\", auc_ab_val_base)"
   ]
  },
  {
   "cell_type": "markdown",
   "metadata": {
    "id": "ecQczN6WC5PL"
   },
   "source": [
    "### **Model 8: VotingClassifier**"
   ]
  },
  {
   "cell_type": "code",
   "execution_count": 32,
   "metadata": {
    "colab": {
     "base_uri": "https://localhost:8080/"
    },
    "id": "WPTq1AnnDBRq",
    "outputId": "ec6438b9-fac0-4922-8676-a04e5d17354d"
   },
   "outputs": [
    {
     "name": "stdout",
     "output_type": "stream",
     "text": [
      "Baseline Voting Classifier model AUC score: 0.9635401018243899\n"
     ]
    }
   ],
   "source": [
    "estimators = []\n",
    "estimators.append(('RF', RandomForestClassifier()))\n",
    "estimators.append(('XT', ExtraTreesClassifier()))\n",
    "\n",
    "vt_clf = VotingClassifier(estimators = estimators, voting='soft')\n",
    "vt_clf.fit(X_train, Y_train)\n",
    "Y_pred_vt_val = vt_clf.predict(X_val)\n",
    "auc_vt_val_base = roc_auc_score(Y_pred_vt_val, Y_val)\n",
    "\n",
    "print(\"Baseline Voting Classifier model AUC score:\", auc_vt_val_base)"
   ]
  },
  {
   "cell_type": "markdown",
   "metadata": {
    "id": "IoFh-zsLHWK3"
   },
   "source": [
    "### **Base Models Conclusion**"
   ]
  },
  {
   "cell_type": "code",
   "execution_count": 33,
   "metadata": {
    "colab": {
     "base_uri": "https://localhost:8080/",
     "height": 300
    },
    "id": "nbz_KOZgHaSR",
    "outputId": "cbc0d067-3c5a-4893-baff-0f6a44e297b0"
   },
   "outputs": [
    {
     "data": {
      "text/html": [
       "<div>\n",
       "<style scoped>\n",
       "    .dataframe tbody tr th:only-of-type {\n",
       "        vertical-align: middle;\n",
       "    }\n",
       "\n",
       "    .dataframe tbody tr th {\n",
       "        vertical-align: top;\n",
       "    }\n",
       "\n",
       "    .dataframe thead th {\n",
       "        text-align: right;\n",
       "    }\n",
       "</style>\n",
       "<table border=\"1\" class=\"dataframe\">\n",
       "  <thead>\n",
       "    <tr style=\"text-align: right;\">\n",
       "      <th></th>\n",
       "      <th>Model</th>\n",
       "      <th>Val_Set_AUC</th>\n",
       "    </tr>\n",
       "  </thead>\n",
       "  <tbody>\n",
       "    <tr>\n",
       "      <th>0</th>\n",
       "      <td>Logistic Regression</td>\n",
       "      <td>0.777285</td>\n",
       "    </tr>\n",
       "    <tr>\n",
       "      <th>1</th>\n",
       "      <td>Random Forest Classifier</td>\n",
       "      <td>0.948820</td>\n",
       "    </tr>\n",
       "    <tr>\n",
       "      <th>2</th>\n",
       "      <td>Gradient Boosting Classifier</td>\n",
       "      <td>0.819336</td>\n",
       "    </tr>\n",
       "    <tr>\n",
       "      <th>3</th>\n",
       "      <td>KNN classifier</td>\n",
       "      <td>0.849414</td>\n",
       "    </tr>\n",
       "    <tr>\n",
       "      <th>4</th>\n",
       "      <td>XGBoost Classifier</td>\n",
       "      <td>0.833407</td>\n",
       "    </tr>\n",
       "    <tr>\n",
       "      <th>5</th>\n",
       "      <td>ExtraTrees Classifier</td>\n",
       "      <td>0.971239</td>\n",
       "    </tr>\n",
       "    <tr>\n",
       "      <th>6</th>\n",
       "      <td>AdaBoost Classifier</td>\n",
       "      <td>0.821314</td>\n",
       "    </tr>\n",
       "    <tr>\n",
       "      <th>7</th>\n",
       "      <td>VotingClassifier</td>\n",
       "      <td>0.963540</td>\n",
       "    </tr>\n",
       "  </tbody>\n",
       "</table>\n",
       "</div>"
      ],
      "text/plain": [
       "                          Model  Val_Set_AUC\n",
       "0           Logistic Regression     0.777285\n",
       "1      Random Forest Classifier     0.948820\n",
       "2  Gradient Boosting Classifier     0.819336\n",
       "3                KNN classifier     0.849414\n",
       "4            XGBoost Classifier     0.833407\n",
       "5         ExtraTrees Classifier     0.971239\n",
       "6           AdaBoost Classifier     0.821314\n",
       "7              VotingClassifier     0.963540"
      ]
     },
     "execution_count": 33,
     "metadata": {},
     "output_type": "execute_result"
    }
   ],
   "source": [
    "base_models =['Logistic Regression', 'Random Forest Classifier', 'Gradient Boosting Classifier', 'KNN classifier', 'XGBoost Classifier', 'ExtraTrees Classifier', 'AdaBoost Classifier', 'VotingClassifier']\n",
    "auc_val = [auc_log_val_base, auc_rf_val_base, auc_gb_val_base, auc_knn_val_base, auc_xgb_val_base, auc_xt_val_base, auc_ab_val_base, auc_vt_val_base]\n",
    "\n",
    "base_models_auc_scores = pd.DataFrame({'Model': base_models, 'Val_Set_AUC': auc_val,})\n",
    "base_models_auc_scores\n",
    "\n",
    "# Random Forest Classifier, ExtraTrees Classifier, and Voting Classifier are the top 3. We will perform grid search for these three models."
   ]
  },
  {
   "cell_type": "markdown",
   "metadata": {
    "id": "xEfFRa4-ImzE"
   },
   "source": [
    "## **Grid Search**"
   ]
  },
  {
   "cell_type": "markdown",
   "metadata": {
    "id": "I8sxIhoFXXge"
   },
   "source": [
    "### **Model 1: Random Forest Classifier**"
   ]
  },
  {
   "cell_type": "code",
   "execution_count": 34,
   "metadata": {
    "colab": {
     "base_uri": "https://localhost:8080/"
    },
    "id": "KmJ7cMy3JHrJ",
    "outputId": "359fadf7-5b4d-4a75-880a-214e9bb574a4"
   },
   "outputs": [
    {
     "name": "stdout",
     "output_type": "stream",
     "text": [
      "Fitting 5 folds for each of 108 candidates, totalling 540 fits\n",
      "[CV] END criterion=gini, min_samples_leaf=1, min_samples_split=2, n_estimators=100; total time= 1.5min\n",
      "[CV] END criterion=gini, min_samples_leaf=1, min_samples_split=2, n_estimators=100; total time= 1.5min\n",
      "[CV] END criterion=gini, min_samples_leaf=1, min_samples_split=2, n_estimators=100; total time= 1.5min\n",
      "[CV] END criterion=gini, min_samples_leaf=1, min_samples_split=2, n_estimators=100; total time= 1.5min\n",
      "[CV] END criterion=gini, min_samples_leaf=1, min_samples_split=2, n_estimators=100; total time= 1.4min\n",
      "[CV] END criterion=gini, min_samples_leaf=1, min_samples_split=2, n_estimators=300; total time= 4.7min\n",
      "[CV] END criterion=gini, min_samples_leaf=1, min_samples_split=2, n_estimators=300; total time= 4.5min\n",
      "[CV] END criterion=gini, min_samples_leaf=1, min_samples_split=2, n_estimators=300; total time= 4.2min\n",
      "[CV] END criterion=gini, min_samples_leaf=1, min_samples_split=2, n_estimators=300; total time= 4.3min\n",
      "[CV] END criterion=gini, min_samples_leaf=1, min_samples_split=2, n_estimators=300; total time= 4.3min\n",
      "[CV] END criterion=gini, min_samples_leaf=1, min_samples_split=2, n_estimators=500; total time= 7.2min\n",
      "[CV] END criterion=gini, min_samples_leaf=1, min_samples_split=2, n_estimators=500; total time= 6.7min\n",
      "[CV] END criterion=gini, min_samples_leaf=1, min_samples_split=2, n_estimators=500; total time= 6.9min\n",
      "[CV] END criterion=gini, min_samples_leaf=1, min_samples_split=2, n_estimators=500; total time= 7.2min\n",
      "[CV] END criterion=gini, min_samples_leaf=1, min_samples_split=2, n_estimators=500; total time= 7.0min\n",
      "[CV] END criterion=gini, min_samples_leaf=1, min_samples_split=3, n_estimators=100; total time= 1.4min\n",
      "[CV] END criterion=gini, min_samples_leaf=1, min_samples_split=3, n_estimators=100; total time= 1.5min\n",
      "[CV] END criterion=gini, min_samples_leaf=1, min_samples_split=3, n_estimators=100; total time= 1.4min\n",
      "[CV] END criterion=gini, min_samples_leaf=1, min_samples_split=3, n_estimators=100; total time= 1.3min\n",
      "[CV] END criterion=gini, min_samples_leaf=1, min_samples_split=3, n_estimators=100; total time= 1.3min\n",
      "[CV] END criterion=gini, min_samples_leaf=1, min_samples_split=3, n_estimators=300; total time= 4.3min\n",
      "[CV] END criterion=gini, min_samples_leaf=1, min_samples_split=3, n_estimators=300; total time= 4.1min\n",
      "[CV] END criterion=gini, min_samples_leaf=1, min_samples_split=3, n_estimators=300; total time= 4.2min\n",
      "[CV] END criterion=gini, min_samples_leaf=1, min_samples_split=3, n_estimators=300; total time= 4.4min\n",
      "[CV] END criterion=gini, min_samples_leaf=1, min_samples_split=3, n_estimators=300; total time= 4.5min\n",
      "[CV] END criterion=gini, min_samples_leaf=1, min_samples_split=3, n_estimators=500; total time= 7.5min\n",
      "[CV] END criterion=gini, min_samples_leaf=1, min_samples_split=3, n_estimators=500; total time= 7.5min\n",
      "[CV] END criterion=gini, min_samples_leaf=1, min_samples_split=3, n_estimators=500; total time= 7.5min\n",
      "[CV] END criterion=gini, min_samples_leaf=1, min_samples_split=3, n_estimators=500; total time= 7.2min\n",
      "[CV] END criterion=gini, min_samples_leaf=1, min_samples_split=3, n_estimators=500; total time= 7.5min\n",
      "[CV] END criterion=gini, min_samples_leaf=1, min_samples_split=5, n_estimators=100; total time= 1.4min\n",
      "[CV] END criterion=gini, min_samples_leaf=1, min_samples_split=5, n_estimators=100; total time= 1.4min\n",
      "[CV] END criterion=gini, min_samples_leaf=1, min_samples_split=5, n_estimators=100; total time= 1.4min\n",
      "[CV] END criterion=gini, min_samples_leaf=1, min_samples_split=5, n_estimators=100; total time= 1.5min\n",
      "[CV] END criterion=gini, min_samples_leaf=1, min_samples_split=5, n_estimators=100; total time= 1.5min\n",
      "[CV] END criterion=gini, min_samples_leaf=1, min_samples_split=5, n_estimators=300; total time= 4.6min\n",
      "[CV] END criterion=gini, min_samples_leaf=1, min_samples_split=5, n_estimators=300; total time= 4.5min\n",
      "[CV] END criterion=gini, min_samples_leaf=1, min_samples_split=5, n_estimators=300; total time= 4.4min\n",
      "[CV] END criterion=gini, min_samples_leaf=1, min_samples_split=5, n_estimators=300; total time= 4.3min\n",
      "[CV] END criterion=gini, min_samples_leaf=1, min_samples_split=5, n_estimators=300; total time= 4.5min\n",
      "[CV] END criterion=gini, min_samples_leaf=1, min_samples_split=5, n_estimators=500; total time= 7.5min\n",
      "[CV] END criterion=gini, min_samples_leaf=1, min_samples_split=5, n_estimators=500; total time= 7.3min\n",
      "[CV] END criterion=gini, min_samples_leaf=1, min_samples_split=5, n_estimators=500; total time= 7.2min\n",
      "[CV] END criterion=gini, min_samples_leaf=1, min_samples_split=5, n_estimators=500; total time= 7.4min\n",
      "[CV] END criterion=gini, min_samples_leaf=1, min_samples_split=5, n_estimators=500; total time= 7.4min\n",
      "[CV] END criterion=gini, min_samples_leaf=2, min_samples_split=2, n_estimators=100; total time= 1.4min\n",
      "[CV] END criterion=gini, min_samples_leaf=2, min_samples_split=2, n_estimators=100; total time= 1.3min\n",
      "[CV] END criterion=gini, min_samples_leaf=2, min_samples_split=2, n_estimators=100; total time= 1.3min\n",
      "[CV] END criterion=gini, min_samples_leaf=2, min_samples_split=2, n_estimators=100; total time= 1.4min\n",
      "[CV] END criterion=gini, min_samples_leaf=2, min_samples_split=2, n_estimators=100; total time= 1.4min\n",
      "[CV] END criterion=gini, min_samples_leaf=2, min_samples_split=2, n_estimators=300; total time= 4.0min\n",
      "[CV] END criterion=gini, min_samples_leaf=2, min_samples_split=2, n_estimators=300; total time= 4.2min\n",
      "[CV] END criterion=gini, min_samples_leaf=2, min_samples_split=2, n_estimators=300; total time= 4.1min\n",
      "[CV] END criterion=gini, min_samples_leaf=2, min_samples_split=2, n_estimators=300; total time= 4.2min\n",
      "[CV] END criterion=gini, min_samples_leaf=2, min_samples_split=2, n_estimators=300; total time= 4.2min\n",
      "[CV] END criterion=gini, min_samples_leaf=2, min_samples_split=2, n_estimators=500; total time= 6.9min\n",
      "[CV] END criterion=gini, min_samples_leaf=2, min_samples_split=2, n_estimators=500; total time= 6.9min\n",
      "[CV] END criterion=gini, min_samples_leaf=2, min_samples_split=2, n_estimators=500; total time= 6.9min\n",
      "[CV] END criterion=gini, min_samples_leaf=2, min_samples_split=2, n_estimators=500; total time= 7.0min\n",
      "[CV] END criterion=gini, min_samples_leaf=2, min_samples_split=2, n_estimators=500; total time= 6.9min\n",
      "[CV] END criterion=gini, min_samples_leaf=2, min_samples_split=3, n_estimators=100; total time= 1.4min\n",
      "[CV] END criterion=gini, min_samples_leaf=2, min_samples_split=3, n_estimators=100; total time= 1.4min\n",
      "[CV] END criterion=gini, min_samples_leaf=2, min_samples_split=3, n_estimators=100; total time= 1.4min\n",
      "[CV] END criterion=gini, min_samples_leaf=2, min_samples_split=3, n_estimators=100; total time= 1.4min\n",
      "[CV] END criterion=gini, min_samples_leaf=2, min_samples_split=3, n_estimators=100; total time= 1.4min\n",
      "[CV] END criterion=gini, min_samples_leaf=2, min_samples_split=3, n_estimators=300; total time= 4.0min\n",
      "[CV] END criterion=gini, min_samples_leaf=2, min_samples_split=3, n_estimators=300; total time= 3.9min\n",
      "[CV] END criterion=gini, min_samples_leaf=2, min_samples_split=3, n_estimators=300; total time= 3.9min\n",
      "[CV] END criterion=gini, min_samples_leaf=2, min_samples_split=3, n_estimators=300; total time= 4.0min\n",
      "[CV] END criterion=gini, min_samples_leaf=2, min_samples_split=3, n_estimators=300; total time= 3.9min\n",
      "[CV] END criterion=gini, min_samples_leaf=2, min_samples_split=3, n_estimators=500; total time= 6.6min\n",
      "[CV] END criterion=gini, min_samples_leaf=2, min_samples_split=3, n_estimators=500; total time= 6.6min\n",
      "[CV] END criterion=gini, min_samples_leaf=2, min_samples_split=3, n_estimators=500; total time= 6.5min\n",
      "[CV] END criterion=gini, min_samples_leaf=2, min_samples_split=3, n_estimators=500; total time= 6.7min\n",
      "[CV] END criterion=gini, min_samples_leaf=2, min_samples_split=3, n_estimators=500; total time= 6.9min\n",
      "[CV] END criterion=gini, min_samples_leaf=2, min_samples_split=5, n_estimators=100; total time= 1.3min\n",
      "[CV] END criterion=gini, min_samples_leaf=2, min_samples_split=5, n_estimators=100; total time= 1.3min\n",
      "[CV] END criterion=gini, min_samples_leaf=2, min_samples_split=5, n_estimators=100; total time= 1.3min\n",
      "[CV] END criterion=gini, min_samples_leaf=2, min_samples_split=5, n_estimators=100; total time= 1.4min\n",
      "[CV] END criterion=gini, min_samples_leaf=2, min_samples_split=5, n_estimators=100; total time= 1.3min\n",
      "[CV] END criterion=gini, min_samples_leaf=2, min_samples_split=5, n_estimators=300; total time= 4.0min\n",
      "[CV] END criterion=gini, min_samples_leaf=2, min_samples_split=5, n_estimators=300; total time= 3.9min\n",
      "[CV] END criterion=gini, min_samples_leaf=2, min_samples_split=5, n_estimators=300; total time= 3.9min\n",
      "[CV] END criterion=gini, min_samples_leaf=2, min_samples_split=5, n_estimators=300; total time= 4.0min\n",
      "[CV] END criterion=gini, min_samples_leaf=2, min_samples_split=5, n_estimators=300; total time= 3.9min\n",
      "[CV] END criterion=gini, min_samples_leaf=2, min_samples_split=5, n_estimators=500; total time= 6.7min\n",
      "[CV] END criterion=gini, min_samples_leaf=2, min_samples_split=5, n_estimators=500; total time= 7.0min\n",
      "[CV] END criterion=gini, min_samples_leaf=2, min_samples_split=5, n_estimators=500; total time= 6.9min\n",
      "[CV] END criterion=gini, min_samples_leaf=2, min_samples_split=5, n_estimators=500; total time= 7.0min\n",
      "[CV] END criterion=gini, min_samples_leaf=2, min_samples_split=5, n_estimators=500; total time= 7.0min\n",
      "[CV] END criterion=gini, min_samples_leaf=3, min_samples_split=2, n_estimators=100; total time= 1.4min\n",
      "[CV] END criterion=gini, min_samples_leaf=3, min_samples_split=2, n_estimators=100; total time= 1.4min\n",
      "[CV] END criterion=gini, min_samples_leaf=3, min_samples_split=2, n_estimators=100; total time= 1.4min\n",
      "[CV] END criterion=gini, min_samples_leaf=3, min_samples_split=2, n_estimators=100; total time= 1.4min\n",
      "[CV] END criterion=gini, min_samples_leaf=3, min_samples_split=2, n_estimators=100; total time= 1.4min\n",
      "[CV] END criterion=gini, min_samples_leaf=3, min_samples_split=2, n_estimators=300; total time= 4.1min\n",
      "[CV] END criterion=gini, min_samples_leaf=3, min_samples_split=2, n_estimators=300; total time= 4.1min\n",
      "[CV] END criterion=gini, min_samples_leaf=3, min_samples_split=2, n_estimators=300; total time= 4.1min\n",
      "[CV] END criterion=gini, min_samples_leaf=3, min_samples_split=2, n_estimators=300; total time= 4.1min\n",
      "[CV] END criterion=gini, min_samples_leaf=3, min_samples_split=2, n_estimators=300; total time= 4.1min\n",
      "[CV] END criterion=gini, min_samples_leaf=3, min_samples_split=2, n_estimators=500; total time= 6.7min\n",
      "[CV] END criterion=gini, min_samples_leaf=3, min_samples_split=2, n_estimators=500; total time= 6.4min\n",
      "[CV] END criterion=gini, min_samples_leaf=3, min_samples_split=2, n_estimators=500; total time= 6.4min\n",
      "[CV] END criterion=gini, min_samples_leaf=3, min_samples_split=2, n_estimators=500; total time= 6.5min\n",
      "[CV] END criterion=gini, min_samples_leaf=3, min_samples_split=2, n_estimators=500; total time= 6.4min\n",
      "[CV] END criterion=gini, min_samples_leaf=3, min_samples_split=3, n_estimators=100; total time= 1.3min\n",
      "[CV] END criterion=gini, min_samples_leaf=3, min_samples_split=3, n_estimators=100; total time= 1.3min\n",
      "[CV] END criterion=gini, min_samples_leaf=3, min_samples_split=3, n_estimators=100; total time= 1.3min\n",
      "[CV] END criterion=gini, min_samples_leaf=3, min_samples_split=3, n_estimators=100; total time= 1.3min\n",
      "[CV] END criterion=gini, min_samples_leaf=3, min_samples_split=3, n_estimators=100; total time= 1.3min\n",
      "[CV] END criterion=gini, min_samples_leaf=3, min_samples_split=3, n_estimators=300; total time= 3.9min\n",
      "[CV] END criterion=gini, min_samples_leaf=3, min_samples_split=3, n_estimators=300; total time= 3.8min\n",
      "[CV] END criterion=gini, min_samples_leaf=3, min_samples_split=3, n_estimators=300; total time= 3.9min\n",
      "[CV] END criterion=gini, min_samples_leaf=3, min_samples_split=3, n_estimators=300; total time= 3.9min\n",
      "[CV] END criterion=gini, min_samples_leaf=3, min_samples_split=3, n_estimators=300; total time= 3.9min\n",
      "[CV] END criterion=gini, min_samples_leaf=3, min_samples_split=3, n_estimators=500; total time= 6.5min\n",
      "[CV] END criterion=gini, min_samples_leaf=3, min_samples_split=3, n_estimators=500; total time= 6.9min\n",
      "[CV] END criterion=gini, min_samples_leaf=3, min_samples_split=3, n_estimators=500; total time= 6.8min\n",
      "[CV] END criterion=gini, min_samples_leaf=3, min_samples_split=3, n_estimators=500; total time= 6.9min\n",
      "[CV] END criterion=gini, min_samples_leaf=3, min_samples_split=3, n_estimators=500; total time= 6.8min\n",
      "[CV] END criterion=gini, min_samples_leaf=3, min_samples_split=5, n_estimators=100; total time= 1.4min\n",
      "[CV] END criterion=gini, min_samples_leaf=3, min_samples_split=5, n_estimators=100; total time= 1.3min\n",
      "[CV] END criterion=gini, min_samples_leaf=3, min_samples_split=5, n_estimators=100; total time= 1.4min\n",
      "[CV] END criterion=gini, min_samples_leaf=3, min_samples_split=5, n_estimators=100; total time= 1.4min\n",
      "[CV] END criterion=gini, min_samples_leaf=3, min_samples_split=5, n_estimators=100; total time= 1.3min\n",
      "[CV] END criterion=gini, min_samples_leaf=3, min_samples_split=5, n_estimators=300; total time= 4.1min\n",
      "[CV] END criterion=gini, min_samples_leaf=3, min_samples_split=5, n_estimators=300; total time= 4.1min\n",
      "[CV] END criterion=gini, min_samples_leaf=3, min_samples_split=5, n_estimators=300; total time= 4.1min\n",
      "[CV] END criterion=gini, min_samples_leaf=3, min_samples_split=5, n_estimators=300; total time= 4.1min\n",
      "[CV] END criterion=gini, min_samples_leaf=3, min_samples_split=5, n_estimators=300; total time= 4.1min\n",
      "[CV] END criterion=gini, min_samples_leaf=3, min_samples_split=5, n_estimators=500; total time= 6.7min\n",
      "[CV] END criterion=gini, min_samples_leaf=3, min_samples_split=5, n_estimators=500; total time= 6.4min\n",
      "[CV] END criterion=gini, min_samples_leaf=3, min_samples_split=5, n_estimators=500; total time= 6.4min\n",
      "[CV] END criterion=gini, min_samples_leaf=3, min_samples_split=5, n_estimators=500; total time= 6.5min\n",
      "[CV] END criterion=gini, min_samples_leaf=3, min_samples_split=5, n_estimators=500; total time= 6.4min\n",
      "[CV] END criterion=gini, min_samples_leaf=5, min_samples_split=2, n_estimators=100; total time= 1.2min\n",
      "[CV] END criterion=gini, min_samples_leaf=5, min_samples_split=2, n_estimators=100; total time= 1.2min\n",
      "[CV] END criterion=gini, min_samples_leaf=5, min_samples_split=2, n_estimators=100; total time= 1.2min\n",
      "[CV] END criterion=gini, min_samples_leaf=5, min_samples_split=2, n_estimators=100; total time= 1.3min\n",
      "[CV] END criterion=gini, min_samples_leaf=5, min_samples_split=2, n_estimators=100; total time= 1.2min\n",
      "[CV] END criterion=gini, min_samples_leaf=5, min_samples_split=2, n_estimators=300; total time= 3.7min\n",
      "[CV] END criterion=gini, min_samples_leaf=5, min_samples_split=2, n_estimators=300; total time= 3.7min\n",
      "[CV] END criterion=gini, min_samples_leaf=5, min_samples_split=2, n_estimators=300; total time= 3.7min\n",
      "[CV] END criterion=gini, min_samples_leaf=5, min_samples_split=2, n_estimators=300; total time= 3.8min\n",
      "[CV] END criterion=gini, min_samples_leaf=5, min_samples_split=2, n_estimators=300; total time= 3.7min\n",
      "[CV] END criterion=gini, min_samples_leaf=5, min_samples_split=2, n_estimators=500; total time= 6.2min\n",
      "[CV] END criterion=gini, min_samples_leaf=5, min_samples_split=2, n_estimators=500; total time= 6.6min\n",
      "[CV] END criterion=gini, min_samples_leaf=5, min_samples_split=2, n_estimators=500; total time= 6.6min\n",
      "[CV] END criterion=gini, min_samples_leaf=5, min_samples_split=2, n_estimators=500; total time= 6.7min\n",
      "[CV] END criterion=gini, min_samples_leaf=5, min_samples_split=2, n_estimators=500; total time= 6.6min\n",
      "[CV] END criterion=gini, min_samples_leaf=5, min_samples_split=3, n_estimators=100; total time= 1.3min\n",
      "[CV] END criterion=gini, min_samples_leaf=5, min_samples_split=3, n_estimators=100; total time= 1.3min\n",
      "[CV] END criterion=gini, min_samples_leaf=5, min_samples_split=3, n_estimators=100; total time= 1.3min\n",
      "[CV] END criterion=gini, min_samples_leaf=5, min_samples_split=3, n_estimators=100; total time= 1.3min\n",
      "[CV] END criterion=gini, min_samples_leaf=5, min_samples_split=3, n_estimators=100; total time= 1.4min\n",
      "[CV] END criterion=gini, min_samples_leaf=5, min_samples_split=3, n_estimators=300; total time= 4.0min\n",
      "[CV] END criterion=gini, min_samples_leaf=5, min_samples_split=3, n_estimators=300; total time= 4.0min\n",
      "[CV] END criterion=gini, min_samples_leaf=5, min_samples_split=3, n_estimators=300; total time= 4.0min\n",
      "[CV] END criterion=gini, min_samples_leaf=5, min_samples_split=3, n_estimators=300; total time= 4.1min\n",
      "[CV] END criterion=gini, min_samples_leaf=5, min_samples_split=3, n_estimators=300; total time= 4.0min\n",
      "[CV] END criterion=gini, min_samples_leaf=5, min_samples_split=3, n_estimators=500; total time= 6.6min\n",
      "[CV] END criterion=gini, min_samples_leaf=5, min_samples_split=3, n_estimators=500; total time= 6.6min\n",
      "[CV] END criterion=gini, min_samples_leaf=5, min_samples_split=3, n_estimators=500; total time= 6.6min\n",
      "[CV] END criterion=gini, min_samples_leaf=5, min_samples_split=3, n_estimators=500; total time= 6.7min\n",
      "[CV] END criterion=gini, min_samples_leaf=5, min_samples_split=3, n_estimators=500; total time= 6.5min\n",
      "[CV] END criterion=gini, min_samples_leaf=5, min_samples_split=5, n_estimators=100; total time= 1.3min\n",
      "[CV] END criterion=gini, min_samples_leaf=5, min_samples_split=5, n_estimators=100; total time= 1.3min\n",
      "[CV] END criterion=gini, min_samples_leaf=5, min_samples_split=5, n_estimators=100; total time= 1.3min\n",
      "[CV] END criterion=gini, min_samples_leaf=5, min_samples_split=5, n_estimators=100; total time= 1.3min\n",
      "[CV] END criterion=gini, min_samples_leaf=5, min_samples_split=5, n_estimators=100; total time= 1.3min\n",
      "[CV] END criterion=gini, min_samples_leaf=5, min_samples_split=5, n_estimators=300; total time= 4.1min\n",
      "[CV] END criterion=gini, min_samples_leaf=5, min_samples_split=5, n_estimators=300; total time= 4.0min\n",
      "[CV] END criterion=gini, min_samples_leaf=5, min_samples_split=5, n_estimators=300; total time= 4.0min\n",
      "[CV] END criterion=gini, min_samples_leaf=5, min_samples_split=5, n_estimators=300; total time= 4.0min\n",
      "[CV] END criterion=gini, min_samples_leaf=5, min_samples_split=5, n_estimators=300; total time= 4.0min\n",
      "[CV] END criterion=gini, min_samples_leaf=5, min_samples_split=5, n_estimators=500; total time= 6.6min\n",
      "[CV] END criterion=gini, min_samples_leaf=5, min_samples_split=5, n_estimators=500; total time= 6.7min\n",
      "[CV] END criterion=gini, min_samples_leaf=5, min_samples_split=5, n_estimators=500; total time= 6.2min\n",
      "[CV] END criterion=gini, min_samples_leaf=5, min_samples_split=5, n_estimators=500; total time= 6.4min\n",
      "[CV] END criterion=gini, min_samples_leaf=5, min_samples_split=5, n_estimators=500; total time= 6.2min\n",
      "[CV] END criterion=entropy, min_samples_leaf=1, min_samples_split=2, n_estimators=100; total time= 1.5min\n",
      "[CV] END criterion=entropy, min_samples_leaf=1, min_samples_split=2, n_estimators=100; total time= 1.5min\n",
      "[CV] END criterion=entropy, min_samples_leaf=1, min_samples_split=2, n_estimators=100; total time= 1.5min\n",
      "[CV] END criterion=entropy, min_samples_leaf=1, min_samples_split=2, n_estimators=100; total time= 1.5min\n",
      "[CV] END criterion=entropy, min_samples_leaf=1, min_samples_split=2, n_estimators=100; total time= 1.5min\n",
      "[CV] END criterion=entropy, min_samples_leaf=1, min_samples_split=2, n_estimators=300; total time= 4.6min\n",
      "[CV] END criterion=entropy, min_samples_leaf=1, min_samples_split=2, n_estimators=300; total time= 4.5min\n",
      "[CV] END criterion=entropy, min_samples_leaf=1, min_samples_split=2, n_estimators=300; total time= 4.5min\n",
      "[CV] END criterion=entropy, min_samples_leaf=1, min_samples_split=2, n_estimators=300; total time= 4.6min\n",
      "[CV] END criterion=entropy, min_samples_leaf=1, min_samples_split=2, n_estimators=300; total time= 4.5min\n",
      "[CV] END criterion=entropy, min_samples_leaf=1, min_samples_split=2, n_estimators=500; total time= 7.6min\n",
      "[CV] END criterion=entropy, min_samples_leaf=1, min_samples_split=2, n_estimators=500; total time= 7.6min\n",
      "[CV] END criterion=entropy, min_samples_leaf=1, min_samples_split=2, n_estimators=500; total time= 7.5min\n",
      "[CV] END criterion=entropy, min_samples_leaf=1, min_samples_split=2, n_estimators=500; total time= 7.5min\n",
      "[CV] END criterion=entropy, min_samples_leaf=1, min_samples_split=2, n_estimators=500; total time= 7.6min\n",
      "[CV] END criterion=entropy, min_samples_leaf=1, min_samples_split=3, n_estimators=100; total time= 1.5min\n",
      "[CV] END criterion=entropy, min_samples_leaf=1, min_samples_split=3, n_estimators=100; total time= 1.5min\n",
      "[CV] END criterion=entropy, min_samples_leaf=1, min_samples_split=3, n_estimators=100; total time= 1.5min\n",
      "[CV] END criterion=entropy, min_samples_leaf=1, min_samples_split=3, n_estimators=100; total time= 1.5min\n",
      "[CV] END criterion=entropy, min_samples_leaf=1, min_samples_split=3, n_estimators=100; total time= 1.5min\n",
      "[CV] END criterion=entropy, min_samples_leaf=1, min_samples_split=3, n_estimators=300; total time= 4.5min\n",
      "[CV] END criterion=entropy, min_samples_leaf=1, min_samples_split=3, n_estimators=300; total time= 4.6min\n",
      "[CV] END criterion=entropy, min_samples_leaf=1, min_samples_split=3, n_estimators=300; total time= 4.5min\n",
      "[CV] END criterion=entropy, min_samples_leaf=1, min_samples_split=3, n_estimators=300; total time= 4.5min\n",
      "[CV] END criterion=entropy, min_samples_leaf=1, min_samples_split=3, n_estimators=300; total time= 4.8min\n",
      "[CV] END criterion=entropy, min_samples_leaf=1, min_samples_split=3, n_estimators=500; total time= 8.0min\n",
      "[CV] END criterion=entropy, min_samples_leaf=1, min_samples_split=3, n_estimators=500; total time= 8.0min\n",
      "[CV] END criterion=entropy, min_samples_leaf=1, min_samples_split=3, n_estimators=500; total time= 8.0min\n",
      "[CV] END criterion=entropy, min_samples_leaf=1, min_samples_split=3, n_estimators=500; total time= 8.1min\n",
      "[CV] END criterion=entropy, min_samples_leaf=1, min_samples_split=3, n_estimators=500; total time= 8.0min\n",
      "[CV] END criterion=entropy, min_samples_leaf=1, min_samples_split=5, n_estimators=100; total time= 1.6min\n",
      "[CV] END criterion=entropy, min_samples_leaf=1, min_samples_split=5, n_estimators=100; total time= 1.6min\n",
      "[CV] END criterion=entropy, min_samples_leaf=1, min_samples_split=5, n_estimators=100; total time= 1.7min\n",
      "[CV] END criterion=entropy, min_samples_leaf=1, min_samples_split=5, n_estimators=100; total time= 1.6min\n",
      "[CV] END criterion=entropy, min_samples_leaf=1, min_samples_split=5, n_estimators=100; total time= 1.6min\n",
      "[CV] END criterion=entropy, min_samples_leaf=1, min_samples_split=5, n_estimators=300; total time= 4.8min\n",
      "[CV] END criterion=entropy, min_samples_leaf=1, min_samples_split=5, n_estimators=300; total time= 4.7min\n",
      "[CV] END criterion=entropy, min_samples_leaf=1, min_samples_split=5, n_estimators=300; total time= 4.5min\n",
      "[CV] END criterion=entropy, min_samples_leaf=1, min_samples_split=5, n_estimators=300; total time= 4.5min\n",
      "[CV] END criterion=entropy, min_samples_leaf=1, min_samples_split=5, n_estimators=300; total time= 4.5min\n",
      "[CV] END criterion=entropy, min_samples_leaf=1, min_samples_split=5, n_estimators=500; total time= 7.6min\n",
      "[CV] END criterion=entropy, min_samples_leaf=1, min_samples_split=5, n_estimators=500; total time= 7.5min\n",
      "[CV] END criterion=entropy, min_samples_leaf=1, min_samples_split=5, n_estimators=500; total time= 7.6min\n",
      "[CV] END criterion=entropy, min_samples_leaf=1, min_samples_split=5, n_estimators=500; total time= 7.5min\n",
      "[CV] END criterion=entropy, min_samples_leaf=1, min_samples_split=5, n_estimators=500; total time= 7.5min\n",
      "[CV] END criterion=entropy, min_samples_leaf=2, min_samples_split=2, n_estimators=100; total time= 1.5min\n",
      "[CV] END criterion=entropy, min_samples_leaf=2, min_samples_split=2, n_estimators=100; total time= 1.5min\n",
      "[CV] END criterion=entropy, min_samples_leaf=2, min_samples_split=2, n_estimators=100; total time= 1.5min\n",
      "[CV] END criterion=entropy, min_samples_leaf=2, min_samples_split=2, n_estimators=100; total time= 1.5min\n",
      "[CV] END criterion=entropy, min_samples_leaf=2, min_samples_split=2, n_estimators=100; total time= 1.5min\n",
      "[CV] END criterion=entropy, min_samples_leaf=2, min_samples_split=2, n_estimators=300; total time= 4.7min\n",
      "[CV] END criterion=entropy, min_samples_leaf=2, min_samples_split=2, n_estimators=300; total time= 4.7min\n",
      "[CV] END criterion=entropy, min_samples_leaf=2, min_samples_split=2, n_estimators=300; total time= 4.6min\n",
      "[CV] END criterion=entropy, min_samples_leaf=2, min_samples_split=2, n_estimators=300; total time= 4.7min\n",
      "[CV] END criterion=entropy, min_samples_leaf=2, min_samples_split=2, n_estimators=300; total time= 4.7min\n",
      "[CV] END criterion=entropy, min_samples_leaf=2, min_samples_split=2, n_estimators=500; total time= 7.8min\n",
      "[CV] END criterion=entropy, min_samples_leaf=2, min_samples_split=2, n_estimators=500; total time= 7.8min\n",
      "[CV] END criterion=entropy, min_samples_leaf=2, min_samples_split=2, n_estimators=500; total time= 7.7min\n",
      "[CV] END criterion=entropy, min_samples_leaf=2, min_samples_split=2, n_estimators=500; total time= 7.8min\n",
      "[CV] END criterion=entropy, min_samples_leaf=2, min_samples_split=2, n_estimators=500; total time= 7.8min\n",
      "[CV] END criterion=entropy, min_samples_leaf=2, min_samples_split=3, n_estimators=100; total time= 1.5min\n",
      "[CV] END criterion=entropy, min_samples_leaf=2, min_samples_split=3, n_estimators=100; total time= 1.5min\n",
      "[CV] END criterion=entropy, min_samples_leaf=2, min_samples_split=3, n_estimators=100; total time= 1.5min\n",
      "[CV] END criterion=entropy, min_samples_leaf=2, min_samples_split=3, n_estimators=100; total time= 1.5min\n",
      "[CV] END criterion=entropy, min_samples_leaf=2, min_samples_split=3, n_estimators=100; total time= 1.5min\n",
      "[CV] END criterion=entropy, min_samples_leaf=2, min_samples_split=3, n_estimators=300; total time= 4.4min\n",
      "[CV] END criterion=entropy, min_samples_leaf=2, min_samples_split=3, n_estimators=300; total time= 4.4min\n",
      "[CV] END criterion=entropy, min_samples_leaf=2, min_samples_split=3, n_estimators=300; total time= 4.4min\n",
      "[CV] END criterion=entropy, min_samples_leaf=2, min_samples_split=3, n_estimators=300; total time= 4.4min\n",
      "[CV] END criterion=entropy, min_samples_leaf=2, min_samples_split=3, n_estimators=300; total time= 4.4min\n",
      "[CV] END criterion=entropy, min_samples_leaf=2, min_samples_split=3, n_estimators=500; total time= 7.6min\n",
      "[CV] END criterion=entropy, min_samples_leaf=2, min_samples_split=3, n_estimators=500; total time= 7.5min\n",
      "[CV] END criterion=entropy, min_samples_leaf=2, min_samples_split=3, n_estimators=500; total time= 7.5min\n",
      "[CV] END criterion=entropy, min_samples_leaf=2, min_samples_split=3, n_estimators=500; total time= 7.6min\n",
      "[CV] END criterion=entropy, min_samples_leaf=2, min_samples_split=3, n_estimators=500; total time= 8.0min\n",
      "[CV] END criterion=entropy, min_samples_leaf=2, min_samples_split=5, n_estimators=100; total time= 1.6min\n",
      "[CV] END criterion=entropy, min_samples_leaf=2, min_samples_split=5, n_estimators=100; total time= 1.6min\n",
      "[CV] END criterion=entropy, min_samples_leaf=2, min_samples_split=5, n_estimators=100; total time= 1.6min\n",
      "[CV] END criterion=entropy, min_samples_leaf=2, min_samples_split=5, n_estimators=100; total time= 1.6min\n",
      "[CV] END criterion=entropy, min_samples_leaf=2, min_samples_split=5, n_estimators=100; total time= 1.6min\n",
      "[CV] END criterion=entropy, min_samples_leaf=2, min_samples_split=5, n_estimators=300; total time= 4.8min\n",
      "[CV] END criterion=entropy, min_samples_leaf=2, min_samples_split=5, n_estimators=300; total time= 4.7min\n",
      "[CV] END criterion=entropy, min_samples_leaf=2, min_samples_split=5, n_estimators=300; total time= 4.7min\n",
      "[CV] END criterion=entropy, min_samples_leaf=2, min_samples_split=5, n_estimators=300; total time= 4.9min\n",
      "[CV] END criterion=entropy, min_samples_leaf=2, min_samples_split=5, n_estimators=300; total time= 4.8min\n",
      "[CV] END criterion=entropy, min_samples_leaf=2, min_samples_split=5, n_estimators=500; total time= 8.0min\n",
      "[CV] END criterion=entropy, min_samples_leaf=2, min_samples_split=5, n_estimators=500; total time= 7.9min\n",
      "[CV] END criterion=entropy, min_samples_leaf=2, min_samples_split=5, n_estimators=500; total time= 7.7min\n",
      "[CV] END criterion=entropy, min_samples_leaf=2, min_samples_split=5, n_estimators=500; total time= 7.5min\n",
      "[CV] END criterion=entropy, min_samples_leaf=2, min_samples_split=5, n_estimators=500; total time= 7.6min\n",
      "[CV] END criterion=entropy, min_samples_leaf=3, min_samples_split=2, n_estimators=100; total time= 1.5min\n",
      "[CV] END criterion=entropy, min_samples_leaf=3, min_samples_split=2, n_estimators=100; total time= 1.4min\n",
      "[CV] END criterion=entropy, min_samples_leaf=3, min_samples_split=2, n_estimators=100; total time= 1.5min\n",
      "[CV] END criterion=entropy, min_samples_leaf=3, min_samples_split=2, n_estimators=100; total time= 1.5min\n",
      "[CV] END criterion=entropy, min_samples_leaf=3, min_samples_split=2, n_estimators=100; total time= 1.5min\n",
      "[CV] END criterion=entropy, min_samples_leaf=3, min_samples_split=2, n_estimators=300; total time= 4.9min\n",
      "[CV] END criterion=entropy, min_samples_leaf=3, min_samples_split=2, n_estimators=300; total time= 4.9min\n",
      "[CV] END criterion=entropy, min_samples_leaf=3, min_samples_split=2, n_estimators=300; total time= 4.7min\n",
      "[CV] END criterion=entropy, min_samples_leaf=3, min_samples_split=2, n_estimators=300; total time= 4.8min\n",
      "[CV] END criterion=entropy, min_samples_leaf=3, min_samples_split=2, n_estimators=300; total time= 4.6min\n",
      "[CV] END criterion=entropy, min_samples_leaf=3, min_samples_split=2, n_estimators=500; total time= 7.9min\n",
      "[CV] END criterion=entropy, min_samples_leaf=3, min_samples_split=2, n_estimators=500; total time= 7.8min\n",
      "[CV] END criterion=entropy, min_samples_leaf=3, min_samples_split=2, n_estimators=500; total time= 8.7min\n",
      "[CV] END criterion=entropy, min_samples_leaf=3, min_samples_split=2, n_estimators=500; total time= 7.9min\n",
      "[CV] END criterion=entropy, min_samples_leaf=3, min_samples_split=2, n_estimators=500; total time= 8.4min\n",
      "[CV] END criterion=entropy, min_samples_leaf=3, min_samples_split=3, n_estimators=100; total time= 1.7min\n",
      "[CV] END criterion=entropy, min_samples_leaf=3, min_samples_split=3, n_estimators=100; total time= 1.7min\n",
      "[CV] END criterion=entropy, min_samples_leaf=3, min_samples_split=3, n_estimators=100; total time= 1.7min\n",
      "[CV] END criterion=entropy, min_samples_leaf=3, min_samples_split=3, n_estimators=100; total time= 1.7min\n",
      "[CV] END criterion=entropy, min_samples_leaf=3, min_samples_split=3, n_estimators=100; total time= 1.7min\n",
      "[CV] END criterion=entropy, min_samples_leaf=3, min_samples_split=3, n_estimators=300; total time= 5.0min\n",
      "[CV] END criterion=entropy, min_samples_leaf=3, min_samples_split=3, n_estimators=300; total time= 5.1min\n",
      "[CV] END criterion=entropy, min_samples_leaf=3, min_samples_split=3, n_estimators=300; total time= 4.9min\n",
      "[CV] END criterion=entropy, min_samples_leaf=3, min_samples_split=3, n_estimators=300; total time= 4.9min\n",
      "[CV] END criterion=entropy, min_samples_leaf=3, min_samples_split=3, n_estimators=300; total time= 4.9min\n",
      "[CV] END criterion=entropy, min_samples_leaf=3, min_samples_split=3, n_estimators=500; total time= 8.1min\n",
      "[CV] END criterion=entropy, min_samples_leaf=3, min_samples_split=3, n_estimators=500; total time= 8.1min\n",
      "[CV] END criterion=entropy, min_samples_leaf=3, min_samples_split=3, n_estimators=500; total time= 8.3min\n",
      "[CV] END criterion=entropy, min_samples_leaf=3, min_samples_split=3, n_estimators=500; total time= 8.2min\n",
      "[CV] END criterion=entropy, min_samples_leaf=3, min_samples_split=3, n_estimators=500; total time= 8.0min\n",
      "[CV] END criterion=entropy, min_samples_leaf=3, min_samples_split=5, n_estimators=100; total time= 1.7min\n",
      "[CV] END criterion=entropy, min_samples_leaf=3, min_samples_split=5, n_estimators=100; total time= 1.7min\n",
      "[CV] END criterion=entropy, min_samples_leaf=3, min_samples_split=5, n_estimators=100; total time= 1.7min\n",
      "[CV] END criterion=entropy, min_samples_leaf=3, min_samples_split=5, n_estimators=100; total time= 1.7min\n",
      "[CV] END criterion=entropy, min_samples_leaf=3, min_samples_split=5, n_estimators=100; total time= 1.7min\n",
      "[CV] END criterion=entropy, min_samples_leaf=3, min_samples_split=5, n_estimators=300; total time= 4.8min\n",
      "[CV] END criterion=entropy, min_samples_leaf=3, min_samples_split=5, n_estimators=300; total time= 4.9min\n",
      "[CV] END criterion=entropy, min_samples_leaf=3, min_samples_split=5, n_estimators=300; total time= 4.9min\n",
      "[CV] END criterion=entropy, min_samples_leaf=3, min_samples_split=5, n_estimators=300; total time= 4.7min\n",
      "[CV] END criterion=entropy, min_samples_leaf=3, min_samples_split=5, n_estimators=300; total time= 4.8min\n",
      "[CV] END criterion=entropy, min_samples_leaf=3, min_samples_split=5, n_estimators=500; total time= 7.8min\n",
      "[CV] END criterion=entropy, min_samples_leaf=3, min_samples_split=5, n_estimators=500; total time= 7.8min\n",
      "[CV] END criterion=entropy, min_samples_leaf=3, min_samples_split=5, n_estimators=500; total time= 7.7min\n",
      "[CV] END criterion=entropy, min_samples_leaf=3, min_samples_split=5, n_estimators=500; total time= 7.9min\n",
      "[CV] END criterion=entropy, min_samples_leaf=3, min_samples_split=5, n_estimators=500; total time= 7.8min\n",
      "[CV] END criterion=entropy, min_samples_leaf=5, min_samples_split=2, n_estimators=100; total time= 1.5min\n",
      "[CV] END criterion=entropy, min_samples_leaf=5, min_samples_split=2, n_estimators=100; total time= 1.5min\n",
      "[CV] END criterion=entropy, min_samples_leaf=5, min_samples_split=2, n_estimators=100; total time= 1.5min\n",
      "[CV] END criterion=entropy, min_samples_leaf=5, min_samples_split=2, n_estimators=100; total time= 1.6min\n",
      "[CV] END criterion=entropy, min_samples_leaf=5, min_samples_split=2, n_estimators=100; total time= 1.5min\n",
      "[CV] END criterion=entropy, min_samples_leaf=5, min_samples_split=2, n_estimators=300; total time= 4.5min\n",
      "[CV] END criterion=entropy, min_samples_leaf=5, min_samples_split=2, n_estimators=300; total time= 4.5min\n",
      "[CV] END criterion=entropy, min_samples_leaf=5, min_samples_split=2, n_estimators=300; total time= 4.6min\n",
      "[CV] END criterion=entropy, min_samples_leaf=5, min_samples_split=2, n_estimators=300; total time= 4.5min\n",
      "[CV] END criterion=entropy, min_samples_leaf=5, min_samples_split=2, n_estimators=300; total time= 4.6min\n",
      "[CV] END criterion=entropy, min_samples_leaf=5, min_samples_split=2, n_estimators=500; total time= 7.5min\n",
      "[CV] END criterion=entropy, min_samples_leaf=5, min_samples_split=2, n_estimators=500; total time= 7.4min\n",
      "[CV] END criterion=entropy, min_samples_leaf=5, min_samples_split=2, n_estimators=500; total time= 7.5min\n",
      "[CV] END criterion=entropy, min_samples_leaf=5, min_samples_split=2, n_estimators=500; total time= 7.8min\n",
      "[CV] END criterion=entropy, min_samples_leaf=5, min_samples_split=2, n_estimators=500; total time= 7.9min\n",
      "[CV] END criterion=entropy, min_samples_leaf=5, min_samples_split=3, n_estimators=100; total time= 1.6min\n",
      "[CV] END criterion=entropy, min_samples_leaf=5, min_samples_split=3, n_estimators=100; total time= 1.6min\n",
      "[CV] END criterion=entropy, min_samples_leaf=5, min_samples_split=3, n_estimators=100; total time= 1.6min\n",
      "[CV] END criterion=entropy, min_samples_leaf=5, min_samples_split=3, n_estimators=100; total time= 1.6min\n",
      "[CV] END criterion=entropy, min_samples_leaf=5, min_samples_split=3, n_estimators=100; total time= 1.6min\n",
      "[CV] END criterion=entropy, min_samples_leaf=5, min_samples_split=3, n_estimators=300; total time= 4.9min\n",
      "[CV] END criterion=entropy, min_samples_leaf=5, min_samples_split=3, n_estimators=300; total time= 4.9min\n",
      "[CV] END criterion=entropy, min_samples_leaf=5, min_samples_split=3, n_estimators=300; total time= 4.9min\n",
      "[CV] END criterion=entropy, min_samples_leaf=5, min_samples_split=3, n_estimators=300; total time= 5.0min\n",
      "[CV] END criterion=entropy, min_samples_leaf=5, min_samples_split=3, n_estimators=300; total time= 4.8min\n",
      "[CV] END criterion=entropy, min_samples_leaf=5, min_samples_split=3, n_estimators=500; total time= 7.7min\n",
      "[CV] END criterion=entropy, min_samples_leaf=5, min_samples_split=3, n_estimators=500; total time= 7.6min\n",
      "[CV] END criterion=entropy, min_samples_leaf=5, min_samples_split=3, n_estimators=500; total time= 7.8min\n",
      "[CV] END criterion=entropy, min_samples_leaf=5, min_samples_split=3, n_estimators=500; total time= 7.8min\n",
      "[CV] END criterion=entropy, min_samples_leaf=5, min_samples_split=3, n_estimators=500; total time= 8.1min\n",
      "[CV] END criterion=entropy, min_samples_leaf=5, min_samples_split=5, n_estimators=100; total time= 1.7min\n",
      "[CV] END criterion=entropy, min_samples_leaf=5, min_samples_split=5, n_estimators=100; total time= 1.6min\n",
      "[CV] END criterion=entropy, min_samples_leaf=5, min_samples_split=5, n_estimators=100; total time= 1.5min\n",
      "[CV] END criterion=entropy, min_samples_leaf=5, min_samples_split=5, n_estimators=100; total time= 1.6min\n",
      "[CV] END criterion=entropy, min_samples_leaf=5, min_samples_split=5, n_estimators=100; total time= 1.5min\n",
      "[CV] END criterion=entropy, min_samples_leaf=5, min_samples_split=5, n_estimators=300; total time= 4.6min\n",
      "[CV] END criterion=entropy, min_samples_leaf=5, min_samples_split=5, n_estimators=300; total time= 4.5min\n",
      "[CV] END criterion=entropy, min_samples_leaf=5, min_samples_split=5, n_estimators=300; total time= 4.4min\n",
      "[CV] END criterion=entropy, min_samples_leaf=5, min_samples_split=5, n_estimators=300; total time= 4.5min\n",
      "[CV] END criterion=entropy, min_samples_leaf=5, min_samples_split=5, n_estimators=300; total time= 4.4min\n",
      "[CV] END criterion=entropy, min_samples_leaf=5, min_samples_split=5, n_estimators=500; total time= 7.4min\n",
      "[CV] END criterion=entropy, min_samples_leaf=5, min_samples_split=5, n_estimators=500; total time= 7.3min\n",
      "[CV] END criterion=entropy, min_samples_leaf=5, min_samples_split=5, n_estimators=500; total time= 7.1min\n",
      "[CV] END criterion=entropy, min_samples_leaf=5, min_samples_split=5, n_estimators=500; total time= 7.3min\n",
      "[CV] END criterion=entropy, min_samples_leaf=5, min_samples_split=5, n_estimators=500; total time= 7.2min\n",
      "[CV] END criterion=log_loss, min_samples_leaf=1, min_samples_split=2, n_estimators=100; total time=   0.1s\n",
      "[CV] END criterion=log_loss, min_samples_leaf=1, min_samples_split=2, n_estimators=100; total time=   0.1s\n",
      "[CV] END criterion=log_loss, min_samples_leaf=1, min_samples_split=2, n_estimators=100; total time=   0.1s\n",
      "[CV] END criterion=log_loss, min_samples_leaf=1, min_samples_split=2, n_estimators=100; total time=   0.1s\n",
      "[CV] END criterion=log_loss, min_samples_leaf=1, min_samples_split=2, n_estimators=100; total time=   0.1s\n",
      "[CV] END criterion=log_loss, min_samples_leaf=1, min_samples_split=2, n_estimators=300; total time=   0.1s\n",
      "[CV] END criterion=log_loss, min_samples_leaf=1, min_samples_split=2, n_estimators=300; total time=   0.1s\n",
      "[CV] END criterion=log_loss, min_samples_leaf=1, min_samples_split=2, n_estimators=300; total time=   0.1s\n",
      "[CV] END criterion=log_loss, min_samples_leaf=1, min_samples_split=2, n_estimators=300; total time=   0.1s\n",
      "[CV] END criterion=log_loss, min_samples_leaf=1, min_samples_split=2, n_estimators=300; total time=   0.1s\n",
      "[CV] END criterion=log_loss, min_samples_leaf=1, min_samples_split=2, n_estimators=500; total time=   0.2s\n",
      "[CV] END criterion=log_loss, min_samples_leaf=1, min_samples_split=2, n_estimators=500; total time=   0.2s\n",
      "[CV] END criterion=log_loss, min_samples_leaf=1, min_samples_split=2, n_estimators=500; total time=   0.2s\n",
      "[CV] END criterion=log_loss, min_samples_leaf=1, min_samples_split=2, n_estimators=500; total time=   0.2s\n",
      "[CV] END criterion=log_loss, min_samples_leaf=1, min_samples_split=2, n_estimators=500; total time=   0.2s\n",
      "[CV] END criterion=log_loss, min_samples_leaf=1, min_samples_split=3, n_estimators=100; total time=   0.1s\n",
      "[CV] END criterion=log_loss, min_samples_leaf=1, min_samples_split=3, n_estimators=100; total time=   0.1s\n",
      "[CV] END criterion=log_loss, min_samples_leaf=1, min_samples_split=3, n_estimators=100; total time=   0.1s\n",
      "[CV] END criterion=log_loss, min_samples_leaf=1, min_samples_split=3, n_estimators=100; total time=   0.1s\n",
      "[CV] END criterion=log_loss, min_samples_leaf=1, min_samples_split=3, n_estimators=100; total time=   0.1s\n",
      "[CV] END criterion=log_loss, min_samples_leaf=1, min_samples_split=3, n_estimators=300; total time=   0.1s\n",
      "[CV] END criterion=log_loss, min_samples_leaf=1, min_samples_split=3, n_estimators=300; total time=   0.1s\n",
      "[CV] END criterion=log_loss, min_samples_leaf=1, min_samples_split=3, n_estimators=300; total time=   0.1s\n",
      "[CV] END criterion=log_loss, min_samples_leaf=1, min_samples_split=3, n_estimators=300; total time=   0.1s\n",
      "[CV] END criterion=log_loss, min_samples_leaf=1, min_samples_split=3, n_estimators=300; total time=   0.1s\n",
      "[CV] END criterion=log_loss, min_samples_leaf=1, min_samples_split=3, n_estimators=500; total time=   0.2s\n",
      "[CV] END criterion=log_loss, min_samples_leaf=1, min_samples_split=3, n_estimators=500; total time=   0.2s\n",
      "[CV] END criterion=log_loss, min_samples_leaf=1, min_samples_split=3, n_estimators=500; total time=   0.2s\n",
      "[CV] END criterion=log_loss, min_samples_leaf=1, min_samples_split=3, n_estimators=500; total time=   0.2s\n",
      "[CV] END criterion=log_loss, min_samples_leaf=1, min_samples_split=3, n_estimators=500; total time=   0.2s\n",
      "[CV] END criterion=log_loss, min_samples_leaf=1, min_samples_split=5, n_estimators=100; total time=   0.1s\n",
      "[CV] END criterion=log_loss, min_samples_leaf=1, min_samples_split=5, n_estimators=100; total time=   0.1s\n",
      "[CV] END criterion=log_loss, min_samples_leaf=1, min_samples_split=5, n_estimators=100; total time=   0.1s\n",
      "[CV] END criterion=log_loss, min_samples_leaf=1, min_samples_split=5, n_estimators=100; total time=   0.1s\n",
      "[CV] END criterion=log_loss, min_samples_leaf=1, min_samples_split=5, n_estimators=100; total time=   0.1s\n",
      "[CV] END criterion=log_loss, min_samples_leaf=1, min_samples_split=5, n_estimators=300; total time=   0.1s\n",
      "[CV] END criterion=log_loss, min_samples_leaf=1, min_samples_split=5, n_estimators=300; total time=   0.1s\n",
      "[CV] END criterion=log_loss, min_samples_leaf=1, min_samples_split=5, n_estimators=300; total time=   0.1s\n",
      "[CV] END criterion=log_loss, min_samples_leaf=1, min_samples_split=5, n_estimators=300; total time=   0.1s\n",
      "[CV] END criterion=log_loss, min_samples_leaf=1, min_samples_split=5, n_estimators=300; total time=   0.1s\n",
      "[CV] END criterion=log_loss, min_samples_leaf=1, min_samples_split=5, n_estimators=500; total time=   0.2s\n",
      "[CV] END criterion=log_loss, min_samples_leaf=1, min_samples_split=5, n_estimators=500; total time=   0.2s\n",
      "[CV] END criterion=log_loss, min_samples_leaf=1, min_samples_split=5, n_estimators=500; total time=   0.2s\n",
      "[CV] END criterion=log_loss, min_samples_leaf=1, min_samples_split=5, n_estimators=500; total time=   0.2s\n",
      "[CV] END criterion=log_loss, min_samples_leaf=1, min_samples_split=5, n_estimators=500; total time=   0.2s\n",
      "[CV] END criterion=log_loss, min_samples_leaf=2, min_samples_split=2, n_estimators=100; total time=   0.1s\n",
      "[CV] END criterion=log_loss, min_samples_leaf=2, min_samples_split=2, n_estimators=100; total time=   0.1s\n",
      "[CV] END criterion=log_loss, min_samples_leaf=2, min_samples_split=2, n_estimators=100; total time=   0.1s\n",
      "[CV] END criterion=log_loss, min_samples_leaf=2, min_samples_split=2, n_estimators=100; total time=   0.1s\n",
      "[CV] END criterion=log_loss, min_samples_leaf=2, min_samples_split=2, n_estimators=100; total time=   0.1s\n",
      "[CV] END criterion=log_loss, min_samples_leaf=2, min_samples_split=2, n_estimators=300; total time=   0.1s\n",
      "[CV] END criterion=log_loss, min_samples_leaf=2, min_samples_split=2, n_estimators=300; total time=   0.1s\n",
      "[CV] END criterion=log_loss, min_samples_leaf=2, min_samples_split=2, n_estimators=300; total time=   0.1s\n",
      "[CV] END criterion=log_loss, min_samples_leaf=2, min_samples_split=2, n_estimators=300; total time=   0.1s\n",
      "[CV] END criterion=log_loss, min_samples_leaf=2, min_samples_split=2, n_estimators=300; total time=   0.1s\n",
      "[CV] END criterion=log_loss, min_samples_leaf=2, min_samples_split=2, n_estimators=500; total time=   0.2s\n",
      "[CV] END criterion=log_loss, min_samples_leaf=2, min_samples_split=2, n_estimators=500; total time=   0.2s\n",
      "[CV] END criterion=log_loss, min_samples_leaf=2, min_samples_split=2, n_estimators=500; total time=   0.2s\n",
      "[CV] END criterion=log_loss, min_samples_leaf=2, min_samples_split=2, n_estimators=500; total time=   0.2s\n",
      "[CV] END criterion=log_loss, min_samples_leaf=2, min_samples_split=2, n_estimators=500; total time=   0.2s\n",
      "[CV] END criterion=log_loss, min_samples_leaf=2, min_samples_split=3, n_estimators=100; total time=   0.1s\n",
      "[CV] END criterion=log_loss, min_samples_leaf=2, min_samples_split=3, n_estimators=100; total time=   0.1s\n",
      "[CV] END criterion=log_loss, min_samples_leaf=2, min_samples_split=3, n_estimators=100; total time=   0.1s\n",
      "[CV] END criterion=log_loss, min_samples_leaf=2, min_samples_split=3, n_estimators=100; total time=   0.1s\n",
      "[CV] END criterion=log_loss, min_samples_leaf=2, min_samples_split=3, n_estimators=100; total time=   0.1s\n",
      "[CV] END criterion=log_loss, min_samples_leaf=2, min_samples_split=3, n_estimators=300; total time=   0.1s\n",
      "[CV] END criterion=log_loss, min_samples_leaf=2, min_samples_split=3, n_estimators=300; total time=   0.1s\n",
      "[CV] END criterion=log_loss, min_samples_leaf=2, min_samples_split=3, n_estimators=300; total time=   0.1s\n",
      "[CV] END criterion=log_loss, min_samples_leaf=2, min_samples_split=3, n_estimators=300; total time=   0.1s\n",
      "[CV] END criterion=log_loss, min_samples_leaf=2, min_samples_split=3, n_estimators=300; total time=   0.1s\n",
      "[CV] END criterion=log_loss, min_samples_leaf=2, min_samples_split=3, n_estimators=500; total time=   0.2s\n",
      "[CV] END criterion=log_loss, min_samples_leaf=2, min_samples_split=3, n_estimators=500; total time=   0.2s\n",
      "[CV] END criterion=log_loss, min_samples_leaf=2, min_samples_split=3, n_estimators=500; total time=   0.2s\n",
      "[CV] END criterion=log_loss, min_samples_leaf=2, min_samples_split=3, n_estimators=500; total time=   0.2s\n",
      "[CV] END criterion=log_loss, min_samples_leaf=2, min_samples_split=3, n_estimators=500; total time=   0.2s\n",
      "[CV] END criterion=log_loss, min_samples_leaf=2, min_samples_split=5, n_estimators=100; total time=   0.1s\n",
      "[CV] END criterion=log_loss, min_samples_leaf=2, min_samples_split=5, n_estimators=100; total time=   0.1s\n",
      "[CV] END criterion=log_loss, min_samples_leaf=2, min_samples_split=5, n_estimators=100; total time=   0.1s\n",
      "[CV] END criterion=log_loss, min_samples_leaf=2, min_samples_split=5, n_estimators=100; total time=   0.1s\n",
      "[CV] END criterion=log_loss, min_samples_leaf=2, min_samples_split=5, n_estimators=100; total time=   0.1s\n",
      "[CV] END criterion=log_loss, min_samples_leaf=2, min_samples_split=5, n_estimators=300; total time=   0.1s\n",
      "[CV] END criterion=log_loss, min_samples_leaf=2, min_samples_split=5, n_estimators=300; total time=   0.1s\n",
      "[CV] END criterion=log_loss, min_samples_leaf=2, min_samples_split=5, n_estimators=300; total time=   0.1s\n",
      "[CV] END criterion=log_loss, min_samples_leaf=2, min_samples_split=5, n_estimators=300; total time=   0.1s\n",
      "[CV] END criterion=log_loss, min_samples_leaf=2, min_samples_split=5, n_estimators=300; total time=   0.1s\n",
      "[CV] END criterion=log_loss, min_samples_leaf=2, min_samples_split=5, n_estimators=500; total time=   0.2s\n",
      "[CV] END criterion=log_loss, min_samples_leaf=2, min_samples_split=5, n_estimators=500; total time=   0.2s\n",
      "[CV] END criterion=log_loss, min_samples_leaf=2, min_samples_split=5, n_estimators=500; total time=   0.2s\n",
      "[CV] END criterion=log_loss, min_samples_leaf=2, min_samples_split=5, n_estimators=500; total time=   0.2s\n",
      "[CV] END criterion=log_loss, min_samples_leaf=2, min_samples_split=5, n_estimators=500; total time=   0.2s\n",
      "[CV] END criterion=log_loss, min_samples_leaf=3, min_samples_split=2, n_estimators=100; total time=   0.1s\n",
      "[CV] END criterion=log_loss, min_samples_leaf=3, min_samples_split=2, n_estimators=100; total time=   0.1s\n",
      "[CV] END criterion=log_loss, min_samples_leaf=3, min_samples_split=2, n_estimators=100; total time=   0.1s\n",
      "[CV] END criterion=log_loss, min_samples_leaf=3, min_samples_split=2, n_estimators=100; total time=   0.1s\n",
      "[CV] END criterion=log_loss, min_samples_leaf=3, min_samples_split=2, n_estimators=100; total time=   0.1s\n",
      "[CV] END criterion=log_loss, min_samples_leaf=3, min_samples_split=2, n_estimators=300; total time=   0.1s\n",
      "[CV] END criterion=log_loss, min_samples_leaf=3, min_samples_split=2, n_estimators=300; total time=   0.1s\n",
      "[CV] END criterion=log_loss, min_samples_leaf=3, min_samples_split=2, n_estimators=300; total time=   0.1s\n",
      "[CV] END criterion=log_loss, min_samples_leaf=3, min_samples_split=2, n_estimators=300; total time=   0.1s\n",
      "[CV] END criterion=log_loss, min_samples_leaf=3, min_samples_split=2, n_estimators=300; total time=   0.1s\n",
      "[CV] END criterion=log_loss, min_samples_leaf=3, min_samples_split=2, n_estimators=500; total time=   0.2s\n",
      "[CV] END criterion=log_loss, min_samples_leaf=3, min_samples_split=2, n_estimators=500; total time=   0.2s\n",
      "[CV] END criterion=log_loss, min_samples_leaf=3, min_samples_split=2, n_estimators=500; total time=   0.2s\n",
      "[CV] END criterion=log_loss, min_samples_leaf=3, min_samples_split=2, n_estimators=500; total time=   0.2s\n",
      "[CV] END criterion=log_loss, min_samples_leaf=3, min_samples_split=2, n_estimators=500; total time=   0.2s\n",
      "[CV] END criterion=log_loss, min_samples_leaf=3, min_samples_split=3, n_estimators=100; total time=   0.1s\n",
      "[CV] END criterion=log_loss, min_samples_leaf=3, min_samples_split=3, n_estimators=100; total time=   0.1s\n",
      "[CV] END criterion=log_loss, min_samples_leaf=3, min_samples_split=3, n_estimators=100; total time=   0.1s\n",
      "[CV] END criterion=log_loss, min_samples_leaf=3, min_samples_split=3, n_estimators=100; total time=   0.1s\n",
      "[CV] END criterion=log_loss, min_samples_leaf=3, min_samples_split=3, n_estimators=100; total time=   0.1s\n",
      "[CV] END criterion=log_loss, min_samples_leaf=3, min_samples_split=3, n_estimators=300; total time=   0.1s\n",
      "[CV] END criterion=log_loss, min_samples_leaf=3, min_samples_split=3, n_estimators=300; total time=   0.1s\n",
      "[CV] END criterion=log_loss, min_samples_leaf=3, min_samples_split=3, n_estimators=300; total time=   0.1s\n",
      "[CV] END criterion=log_loss, min_samples_leaf=3, min_samples_split=3, n_estimators=300; total time=   0.1s\n",
      "[CV] END criterion=log_loss, min_samples_leaf=3, min_samples_split=3, n_estimators=300; total time=   0.1s\n",
      "[CV] END criterion=log_loss, min_samples_leaf=3, min_samples_split=3, n_estimators=500; total time=   0.2s\n",
      "[CV] END criterion=log_loss, min_samples_leaf=3, min_samples_split=3, n_estimators=500; total time=   0.2s\n",
      "[CV] END criterion=log_loss, min_samples_leaf=3, min_samples_split=3, n_estimators=500; total time=   0.2s\n",
      "[CV] END criterion=log_loss, min_samples_leaf=3, min_samples_split=3, n_estimators=500; total time=   0.2s\n",
      "[CV] END criterion=log_loss, min_samples_leaf=3, min_samples_split=3, n_estimators=500; total time=   0.2s\n",
      "[CV] END criterion=log_loss, min_samples_leaf=3, min_samples_split=5, n_estimators=100; total time=   0.1s\n",
      "[CV] END criterion=log_loss, min_samples_leaf=3, min_samples_split=5, n_estimators=100; total time=   0.1s\n",
      "[CV] END criterion=log_loss, min_samples_leaf=3, min_samples_split=5, n_estimators=100; total time=   0.1s\n",
      "[CV] END criterion=log_loss, min_samples_leaf=3, min_samples_split=5, n_estimators=100; total time=   0.1s\n",
      "[CV] END criterion=log_loss, min_samples_leaf=3, min_samples_split=5, n_estimators=100; total time=   0.1s\n",
      "[CV] END criterion=log_loss, min_samples_leaf=3, min_samples_split=5, n_estimators=300; total time=   0.1s\n",
      "[CV] END criterion=log_loss, min_samples_leaf=3, min_samples_split=5, n_estimators=300; total time=   0.1s\n",
      "[CV] END criterion=log_loss, min_samples_leaf=3, min_samples_split=5, n_estimators=300; total time=   0.1s\n",
      "[CV] END criterion=log_loss, min_samples_leaf=3, min_samples_split=5, n_estimators=300; total time=   0.1s\n",
      "[CV] END criterion=log_loss, min_samples_leaf=3, min_samples_split=5, n_estimators=300; total time=   0.1s\n",
      "[CV] END criterion=log_loss, min_samples_leaf=3, min_samples_split=5, n_estimators=500; total time=   0.2s\n",
      "[CV] END criterion=log_loss, min_samples_leaf=3, min_samples_split=5, n_estimators=500; total time=   0.2s\n",
      "[CV] END criterion=log_loss, min_samples_leaf=3, min_samples_split=5, n_estimators=500; total time=   0.2s\n",
      "[CV] END criterion=log_loss, min_samples_leaf=3, min_samples_split=5, n_estimators=500; total time=   0.2s\n",
      "[CV] END criterion=log_loss, min_samples_leaf=3, min_samples_split=5, n_estimators=500; total time=   0.2s\n",
      "[CV] END criterion=log_loss, min_samples_leaf=5, min_samples_split=2, n_estimators=100; total time=   0.1s\n",
      "[CV] END criterion=log_loss, min_samples_leaf=5, min_samples_split=2, n_estimators=100; total time=   0.1s\n",
      "[CV] END criterion=log_loss, min_samples_leaf=5, min_samples_split=2, n_estimators=100; total time=   0.1s\n",
      "[CV] END criterion=log_loss, min_samples_leaf=5, min_samples_split=2, n_estimators=100; total time=   0.1s\n",
      "[CV] END criterion=log_loss, min_samples_leaf=5, min_samples_split=2, n_estimators=100; total time=   0.1s\n",
      "[CV] END criterion=log_loss, min_samples_leaf=5, min_samples_split=2, n_estimators=300; total time=   0.1s\n",
      "[CV] END criterion=log_loss, min_samples_leaf=5, min_samples_split=2, n_estimators=300; total time=   0.1s\n",
      "[CV] END criterion=log_loss, min_samples_leaf=5, min_samples_split=2, n_estimators=300; total time=   0.1s\n",
      "[CV] END criterion=log_loss, min_samples_leaf=5, min_samples_split=2, n_estimators=300; total time=   0.1s\n",
      "[CV] END criterion=log_loss, min_samples_leaf=5, min_samples_split=2, n_estimators=300; total time=   0.1s\n",
      "[CV] END criterion=log_loss, min_samples_leaf=5, min_samples_split=2, n_estimators=500; total time=   0.2s\n",
      "[CV] END criterion=log_loss, min_samples_leaf=5, min_samples_split=2, n_estimators=500; total time=   0.2s\n",
      "[CV] END criterion=log_loss, min_samples_leaf=5, min_samples_split=2, n_estimators=500; total time=   0.2s\n",
      "[CV] END criterion=log_loss, min_samples_leaf=5, min_samples_split=2, n_estimators=500; total time=   0.2s\n",
      "[CV] END criterion=log_loss, min_samples_leaf=5, min_samples_split=2, n_estimators=500; total time=   0.2s\n",
      "[CV] END criterion=log_loss, min_samples_leaf=5, min_samples_split=3, n_estimators=100; total time=   0.1s\n",
      "[CV] END criterion=log_loss, min_samples_leaf=5, min_samples_split=3, n_estimators=100; total time=   0.1s\n",
      "[CV] END criterion=log_loss, min_samples_leaf=5, min_samples_split=3, n_estimators=100; total time=   0.1s\n",
      "[CV] END criterion=log_loss, min_samples_leaf=5, min_samples_split=3, n_estimators=100; total time=   0.1s\n",
      "[CV] END criterion=log_loss, min_samples_leaf=5, min_samples_split=3, n_estimators=100; total time=   0.1s\n",
      "[CV] END criterion=log_loss, min_samples_leaf=5, min_samples_split=3, n_estimators=300; total time=   0.1s\n",
      "[CV] END criterion=log_loss, min_samples_leaf=5, min_samples_split=3, n_estimators=300; total time=   0.2s\n",
      "[CV] END criterion=log_loss, min_samples_leaf=5, min_samples_split=3, n_estimators=300; total time=   0.1s\n",
      "[CV] END criterion=log_loss, min_samples_leaf=5, min_samples_split=3, n_estimators=300; total time=   0.1s\n",
      "[CV] END criterion=log_loss, min_samples_leaf=5, min_samples_split=3, n_estimators=300; total time=   0.1s\n",
      "[CV] END criterion=log_loss, min_samples_leaf=5, min_samples_split=3, n_estimators=500; total time=   0.2s\n",
      "[CV] END criterion=log_loss, min_samples_leaf=5, min_samples_split=3, n_estimators=500; total time=   0.2s\n",
      "[CV] END criterion=log_loss, min_samples_leaf=5, min_samples_split=3, n_estimators=500; total time=   0.2s\n",
      "[CV] END criterion=log_loss, min_samples_leaf=5, min_samples_split=3, n_estimators=500; total time=   0.2s\n",
      "[CV] END criterion=log_loss, min_samples_leaf=5, min_samples_split=3, n_estimators=500; total time=   0.2s\n",
      "[CV] END criterion=log_loss, min_samples_leaf=5, min_samples_split=5, n_estimators=100; total time=   0.1s\n",
      "[CV] END criterion=log_loss, min_samples_leaf=5, min_samples_split=5, n_estimators=100; total time=   0.1s\n",
      "[CV] END criterion=log_loss, min_samples_leaf=5, min_samples_split=5, n_estimators=100; total time=   0.1s\n",
      "[CV] END criterion=log_loss, min_samples_leaf=5, min_samples_split=5, n_estimators=100; total time=   0.1s\n",
      "[CV] END criterion=log_loss, min_samples_leaf=5, min_samples_split=5, n_estimators=100; total time=   0.1s\n",
      "[CV] END criterion=log_loss, min_samples_leaf=5, min_samples_split=5, n_estimators=300; total time=   0.1s\n",
      "[CV] END criterion=log_loss, min_samples_leaf=5, min_samples_split=5, n_estimators=300; total time=   0.1s\n",
      "[CV] END criterion=log_loss, min_samples_leaf=5, min_samples_split=5, n_estimators=300; total time=   0.1s\n",
      "[CV] END criterion=log_loss, min_samples_leaf=5, min_samples_split=5, n_estimators=300; total time=   0.1s\n",
      "[CV] END criterion=log_loss, min_samples_leaf=5, min_samples_split=5, n_estimators=300; total time=   0.1s\n",
      "[CV] END criterion=log_loss, min_samples_leaf=5, min_samples_split=5, n_estimators=500; total time=   0.2s\n",
      "[CV] END criterion=log_loss, min_samples_leaf=5, min_samples_split=5, n_estimators=500; total time=   0.2s\n",
      "[CV] END criterion=log_loss, min_samples_leaf=5, min_samples_split=5, n_estimators=500; total time=   0.2s\n",
      "[CV] END criterion=log_loss, min_samples_leaf=5, min_samples_split=5, n_estimators=500; total time=   0.2s\n",
      "[CV] END criterion=log_loss, min_samples_leaf=5, min_samples_split=5, n_estimators=500; total time=   0.2s\n"
     ]
    },
    {
     "name": "stderr",
     "output_type": "stream",
     "text": [
      "C:\\Users\\ychong4\\Anaconda3\\lib\\site-packages\\sklearn\\model_selection\\_validation.py:372: FitFailedWarning: \n",
      "180 fits failed out of a total of 540.\n",
      "The score on these train-test partitions for these parameters will be set to nan.\n",
      "If these failures are not expected, you can try to debug them by setting error_score='raise'.\n",
      "\n",
      "Below are more details about the failures:\n",
      "--------------------------------------------------------------------------------\n",
      "180 fits failed with the following error:\n",
      "Traceback (most recent call last):\n",
      "  File \"C:\\Users\\ychong4\\Anaconda3\\lib\\site-packages\\sklearn\\model_selection\\_validation.py\", line 680, in _fit_and_score\n",
      "    estimator.fit(X_train, y_train, **fit_params)\n",
      "  File \"C:\\Users\\ychong4\\Anaconda3\\lib\\site-packages\\sklearn\\ensemble\\_forest.py\", line 450, in fit\n",
      "    trees = Parallel(\n",
      "  File \"C:\\Users\\ychong4\\Anaconda3\\lib\\site-packages\\joblib\\parallel.py\", line 1085, in __call__\n",
      "    if self.dispatch_one_batch(iterator):\n",
      "  File \"C:\\Users\\ychong4\\Anaconda3\\lib\\site-packages\\joblib\\parallel.py\", line 901, in dispatch_one_batch\n",
      "    self._dispatch(tasks)\n",
      "  File \"C:\\Users\\ychong4\\Anaconda3\\lib\\site-packages\\joblib\\parallel.py\", line 819, in _dispatch\n",
      "    job = self._backend.apply_async(batch, callback=cb)\n",
      "  File \"C:\\Users\\ychong4\\Anaconda3\\lib\\site-packages\\joblib\\_parallel_backends.py\", line 208, in apply_async\n",
      "    result = ImmediateResult(func)\n",
      "  File \"C:\\Users\\ychong4\\Anaconda3\\lib\\site-packages\\joblib\\_parallel_backends.py\", line 597, in __init__\n",
      "    self.results = batch()\n",
      "  File \"C:\\Users\\ychong4\\Anaconda3\\lib\\site-packages\\joblib\\parallel.py\", line 288, in __call__\n",
      "    return [func(*args, **kwargs)\n",
      "  File \"C:\\Users\\ychong4\\Anaconda3\\lib\\site-packages\\joblib\\parallel.py\", line 288, in <listcomp>\n",
      "    return [func(*args, **kwargs)\n",
      "  File \"C:\\Users\\ychong4\\Anaconda3\\lib\\site-packages\\sklearn\\utils\\fixes.py\", line 216, in __call__\n",
      "    return self.function(*args, **kwargs)\n",
      "  File \"C:\\Users\\ychong4\\Anaconda3\\lib\\site-packages\\sklearn\\ensemble\\_forest.py\", line 185, in _parallel_build_trees\n",
      "    tree.fit(X, y, sample_weight=curr_sample_weight, check_input=False)\n",
      "  File \"C:\\Users\\ychong4\\Anaconda3\\lib\\site-packages\\sklearn\\tree\\_classes.py\", line 937, in fit\n",
      "    super().fit(\n",
      "  File \"C:\\Users\\ychong4\\Anaconda3\\lib\\site-packages\\sklearn\\tree\\_classes.py\", line 352, in fit\n",
      "    criterion = CRITERIA_CLF[self.criterion](\n",
      "KeyError: 'log_loss'\n",
      "\n",
      "  warnings.warn(some_fits_failed_message, FitFailedWarning)\n",
      "C:\\Users\\ychong4\\Anaconda3\\lib\\site-packages\\sklearn\\model_selection\\_search.py:969: UserWarning: One or more of the test scores are non-finite: [0.99723087 0.99740559 0.99743811 0.99606407 0.99633778 0.99638829\n",
      " 0.99304616 0.99344239 0.9935532  0.98803489 0.98880711 0.98892392\n",
      " 0.98806704 0.9887674  0.98893788 0.98655143 0.98728823 0.98748031\n",
      " 0.97654311 0.97745044 0.97767262 0.97655988 0.97755955 0.97770383\n",
      " 0.97643311 0.97757924 0.97773997 0.95663171 0.95777261 0.95797488\n",
      " 0.95660974 0.95775046 0.95800479 0.9567628  0.95774251 0.95800369\n",
      " 0.99719378 0.99735233 0.99740491 0.99609875 0.99633962 0.99639163\n",
      " 0.99317394 0.99362325 0.99374368 0.9886515  0.98927584 0.98942554\n",
      " 0.98855861 0.98928454 0.98945835 0.98731215 0.98802708 0.98817445\n",
      " 0.9775577  0.97855906 0.97880157 0.97754537 0.97857185 0.97880416\n",
      " 0.97758086 0.9786795  0.97879015 0.9578888  0.95893565 0.95913587\n",
      " 0.95792878 0.95881554 0.95915209 0.95773805 0.95894004 0.95913321\n",
      "        nan        nan        nan        nan        nan        nan\n",
      "        nan        nan        nan        nan        nan        nan\n",
      "        nan        nan        nan        nan        nan        nan\n",
      "        nan        nan        nan        nan        nan        nan\n",
      "        nan        nan        nan        nan        nan        nan\n",
      "        nan        nan        nan        nan        nan        nan]\n",
      "  warnings.warn(\n"
     ]
    },
    {
     "data": {
      "text/plain": [
       "GridSearchCV(cv=5, estimator=RandomForestClassifier(),\n",
       "             param_grid={'criterion': ['gini', 'entropy', 'log_loss'],\n",
       "                         'min_samples_leaf': [1, 2, 3, 5],\n",
       "                         'min_samples_split': [2, 3, 5],\n",
       "                         'n_estimators': [100, 300, 500]},\n",
       "             scoring='roc_auc', verbose=2)"
      ]
     },
     "execution_count": 34,
     "metadata": {},
     "output_type": "execute_result"
    }
   ],
   "source": [
    "rf_clf = RandomForestClassifier()\n",
    "\n",
    "param = {'n_estimators': [100, 300, 500],\n",
    "        'criterion': ['gini', 'entropy', 'log_loss'],\n",
    "        'min_samples_split': [2, 3, 5],\n",
    "        'min_samples_leaf': [1, 2, 3, 5]\n",
    "        }\n",
    "\n",
    "rf_clf_cv = GridSearchCV(rf_clf, param_grid = param, scoring = 'roc_auc', cv=5, verbose=2)\n",
    "rf_clf_cv.fit(X_train, Y_train)"
   ]
  },
  {
   "cell_type": "code",
   "execution_count": 35,
   "metadata": {
    "colab": {
     "base_uri": "https://localhost:8080/"
    },
    "id": "DpxkZuM9WxNe",
    "outputId": "b0ee1493-0a15-4261-fd4b-6e59efae5596"
   },
   "outputs": [
    {
     "name": "stdout",
     "output_type": "stream",
     "text": [
      "AUC score for Random Forest training set:  0.9999121551153758\n",
      "AUC score for Random Forest validation set:  0.9488053202379229\n"
     ]
    }
   ],
   "source": [
    "rf_clf = RandomForestClassifier(**rf_clf_cv.best_params_)\n",
    "rf_clf.fit(X_train, Y_train)\n",
    "Y_pred_rf_train = rf_clf.predict(X_train)\n",
    "Y_pred_rf_val = rf_clf.predict(X_val)\n",
    "\n",
    "auc_rf_train = roc_auc_score(Y_train, Y_pred_rf_train) \n",
    "auc_rf_val = roc_auc_score(Y_val, Y_pred_rf_val)\n",
    "\n",
    "print(\"AUC score for Random Forest training set: \", auc_rf_train)\n",
    "print(\"AUC score for Random Forest validation set: \", auc_rf_val)"
   ]
  },
  {
   "cell_type": "markdown",
   "metadata": {
    "id": "kf6N5v9eci5j"
   },
   "source": [
    "### **Model 2: ExtraTrees Classifier**"
   ]
  },
  {
   "cell_type": "code",
   "execution_count": 36,
   "metadata": {
    "colab": {
     "base_uri": "https://localhost:8080/",
     "height": 1000
    },
    "id": "3fI5GDfCXXAP",
    "outputId": "748ac812-5317-42f7-9c78-f1c4cd76bebd"
   },
   "outputs": [
    {
     "name": "stdout",
     "output_type": "stream",
     "text": [
      "Fitting 5 folds for each of 108 candidates, totalling 540 fits\n",
      "[CV] END criterion=gini, min_samples_leaf=1, min_samples_split=2, n_estimators=100; total time=  51.7s\n",
      "[CV] END criterion=gini, min_samples_leaf=1, min_samples_split=2, n_estimators=100; total time=  54.7s\n",
      "[CV] END criterion=gini, min_samples_leaf=1, min_samples_split=2, n_estimators=100; total time=  52.4s\n",
      "[CV] END criterion=gini, min_samples_leaf=1, min_samples_split=2, n_estimators=100; total time=  52.1s\n",
      "[CV] END criterion=gini, min_samples_leaf=1, min_samples_split=2, n_estimators=100; total time=  53.4s\n",
      "[CV] END criterion=gini, min_samples_leaf=1, min_samples_split=2, n_estimators=300; total time= 2.6min\n",
      "[CV] END criterion=gini, min_samples_leaf=1, min_samples_split=2, n_estimators=300; total time= 2.6min\n",
      "[CV] END criterion=gini, min_samples_leaf=1, min_samples_split=2, n_estimators=300; total time= 2.5min\n",
      "[CV] END criterion=gini, min_samples_leaf=1, min_samples_split=2, n_estimators=300; total time= 2.7min\n",
      "[CV] END criterion=gini, min_samples_leaf=1, min_samples_split=2, n_estimators=300; total time= 2.9min\n",
      "[CV] END criterion=gini, min_samples_leaf=1, min_samples_split=2, n_estimators=500; total time= 4.5min\n",
      "[CV] END criterion=gini, min_samples_leaf=1, min_samples_split=2, n_estimators=500; total time= 4.4min\n",
      "[CV] END criterion=gini, min_samples_leaf=1, min_samples_split=2, n_estimators=500; total time= 4.4min\n",
      "[CV] END criterion=gini, min_samples_leaf=1, min_samples_split=2, n_estimators=500; total time= 4.5min\n",
      "[CV] END criterion=gini, min_samples_leaf=1, min_samples_split=2, n_estimators=500; total time= 4.4min\n",
      "[CV] END criterion=gini, min_samples_leaf=1, min_samples_split=3, n_estimators=100; total time=  53.7s\n",
      "[CV] END criterion=gini, min_samples_leaf=1, min_samples_split=3, n_estimators=100; total time=  52.1s\n",
      "[CV] END criterion=gini, min_samples_leaf=1, min_samples_split=3, n_estimators=100; total time=  51.4s\n",
      "[CV] END criterion=gini, min_samples_leaf=1, min_samples_split=3, n_estimators=100; total time=  52.3s\n",
      "[CV] END criterion=gini, min_samples_leaf=1, min_samples_split=3, n_estimators=100; total time=  52.7s\n",
      "[CV] END criterion=gini, min_samples_leaf=1, min_samples_split=3, n_estimators=300; total time= 2.6min\n",
      "[CV] END criterion=gini, min_samples_leaf=1, min_samples_split=3, n_estimators=300; total time= 2.6min\n",
      "[CV] END criterion=gini, min_samples_leaf=1, min_samples_split=3, n_estimators=300; total time= 2.6min\n",
      "[CV] END criterion=gini, min_samples_leaf=1, min_samples_split=3, n_estimators=300; total time= 2.7min\n",
      "[CV] END criterion=gini, min_samples_leaf=1, min_samples_split=3, n_estimators=300; total time= 2.7min\n",
      "[CV] END criterion=gini, min_samples_leaf=1, min_samples_split=3, n_estimators=500; total time= 4.6min\n",
      "[CV] END criterion=gini, min_samples_leaf=1, min_samples_split=3, n_estimators=500; total time= 4.4min\n",
      "[CV] END criterion=gini, min_samples_leaf=1, min_samples_split=3, n_estimators=500; total time= 4.4min\n",
      "[CV] END criterion=gini, min_samples_leaf=1, min_samples_split=3, n_estimators=500; total time= 4.5min\n",
      "[CV] END criterion=gini, min_samples_leaf=1, min_samples_split=3, n_estimators=500; total time= 4.5min\n",
      "[CV] END criterion=gini, min_samples_leaf=1, min_samples_split=5, n_estimators=100; total time=  51.7s\n",
      "[CV] END criterion=gini, min_samples_leaf=1, min_samples_split=5, n_estimators=100; total time=  51.8s\n",
      "[CV] END criterion=gini, min_samples_leaf=1, min_samples_split=5, n_estimators=100; total time=  51.6s\n",
      "[CV] END criterion=gini, min_samples_leaf=1, min_samples_split=5, n_estimators=100; total time=  51.1s\n",
      "[CV] END criterion=gini, min_samples_leaf=1, min_samples_split=5, n_estimators=100; total time=  51.5s\n",
      "[CV] END criterion=gini, min_samples_leaf=1, min_samples_split=5, n_estimators=300; total time= 2.7min\n",
      "[CV] END criterion=gini, min_samples_leaf=1, min_samples_split=5, n_estimators=300; total time= 2.7min\n",
      "[CV] END criterion=gini, min_samples_leaf=1, min_samples_split=5, n_estimators=300; total time= 2.8min\n",
      "[CV] END criterion=gini, min_samples_leaf=1, min_samples_split=5, n_estimators=300; total time= 2.7min\n",
      "[CV] END criterion=gini, min_samples_leaf=1, min_samples_split=5, n_estimators=300; total time= 2.7min\n",
      "[CV] END criterion=gini, min_samples_leaf=1, min_samples_split=5, n_estimators=500; total time= 4.6min\n",
      "[CV] END criterion=gini, min_samples_leaf=1, min_samples_split=5, n_estimators=500; total time= 4.6min\n",
      "[CV] END criterion=gini, min_samples_leaf=1, min_samples_split=5, n_estimators=500; total time= 4.5min\n",
      "[CV] END criterion=gini, min_samples_leaf=1, min_samples_split=5, n_estimators=500; total time= 4.6min\n",
      "[CV] END criterion=gini, min_samples_leaf=1, min_samples_split=5, n_estimators=500; total time= 4.6min\n",
      "[CV] END criterion=gini, min_samples_leaf=2, min_samples_split=2, n_estimators=100; total time=  46.4s\n",
      "[CV] END criterion=gini, min_samples_leaf=2, min_samples_split=2, n_estimators=100; total time=  48.8s\n",
      "[CV] END criterion=gini, min_samples_leaf=2, min_samples_split=2, n_estimators=100; total time=  46.2s\n",
      "[CV] END criterion=gini, min_samples_leaf=2, min_samples_split=2, n_estimators=100; total time=  46.2s\n",
      "[CV] END criterion=gini, min_samples_leaf=2, min_samples_split=2, n_estimators=100; total time=  45.8s\n",
      "[CV] END criterion=gini, min_samples_leaf=2, min_samples_split=2, n_estimators=300; total time= 2.3min\n",
      "[CV] END criterion=gini, min_samples_leaf=2, min_samples_split=2, n_estimators=300; total time= 2.3min\n",
      "[CV] END criterion=gini, min_samples_leaf=2, min_samples_split=2, n_estimators=300; total time= 2.3min\n",
      "[CV] END criterion=gini, min_samples_leaf=2, min_samples_split=2, n_estimators=300; total time= 2.3min\n",
      "[CV] END criterion=gini, min_samples_leaf=2, min_samples_split=2, n_estimators=300; total time= 2.3min\n",
      "[CV] END criterion=gini, min_samples_leaf=2, min_samples_split=2, n_estimators=500; total time= 3.9min\n",
      "[CV] END criterion=gini, min_samples_leaf=2, min_samples_split=2, n_estimators=500; total time= 3.8min\n",
      "[CV] END criterion=gini, min_samples_leaf=2, min_samples_split=2, n_estimators=500; total time= 3.7min\n",
      "[CV] END criterion=gini, min_samples_leaf=2, min_samples_split=2, n_estimators=500; total time= 3.6min\n",
      "[CV] END criterion=gini, min_samples_leaf=2, min_samples_split=2, n_estimators=500; total time= 3.6min\n",
      "[CV] END criterion=gini, min_samples_leaf=2, min_samples_split=3, n_estimators=100; total time=  43.8s\n",
      "[CV] END criterion=gini, min_samples_leaf=2, min_samples_split=3, n_estimators=100; total time=  43.3s\n",
      "[CV] END criterion=gini, min_samples_leaf=2, min_samples_split=3, n_estimators=100; total time=  42.3s\n",
      "[CV] END criterion=gini, min_samples_leaf=2, min_samples_split=3, n_estimators=100; total time=  42.7s\n",
      "[CV] END criterion=gini, min_samples_leaf=2, min_samples_split=3, n_estimators=100; total time=  42.6s\n",
      "[CV] END criterion=gini, min_samples_leaf=2, min_samples_split=3, n_estimators=300; total time= 2.5min\n",
      "[CV] END criterion=gini, min_samples_leaf=2, min_samples_split=3, n_estimators=300; total time= 2.1min\n",
      "[CV] END criterion=gini, min_samples_leaf=2, min_samples_split=3, n_estimators=300; total time= 2.1min\n",
      "[CV] END criterion=gini, min_samples_leaf=2, min_samples_split=3, n_estimators=300; total time= 2.2min\n",
      "[CV] END criterion=gini, min_samples_leaf=2, min_samples_split=3, n_estimators=300; total time= 2.1min\n",
      "[CV] END criterion=gini, min_samples_leaf=2, min_samples_split=3, n_estimators=500; total time= 3.5min\n",
      "[CV] END criterion=gini, min_samples_leaf=2, min_samples_split=3, n_estimators=500; total time= 3.5min\n",
      "[CV] END criterion=gini, min_samples_leaf=2, min_samples_split=3, n_estimators=500; total time= 3.5min\n",
      "[CV] END criterion=gini, min_samples_leaf=2, min_samples_split=3, n_estimators=500; total time= 3.6min\n",
      "[CV] END criterion=gini, min_samples_leaf=2, min_samples_split=3, n_estimators=500; total time= 3.5min\n",
      "[CV] END criterion=gini, min_samples_leaf=2, min_samples_split=5, n_estimators=100; total time=  42.5s\n",
      "[CV] END criterion=gini, min_samples_leaf=2, min_samples_split=5, n_estimators=100; total time=  42.0s\n",
      "[CV] END criterion=gini, min_samples_leaf=2, min_samples_split=5, n_estimators=100; total time=  42.7s\n",
      "[CV] END criterion=gini, min_samples_leaf=2, min_samples_split=5, n_estimators=100; total time=  42.4s\n",
      "[CV] END criterion=gini, min_samples_leaf=2, min_samples_split=5, n_estimators=100; total time=  42.7s\n",
      "[CV] END criterion=gini, min_samples_leaf=2, min_samples_split=5, n_estimators=300; total time= 2.1min\n",
      "[CV] END criterion=gini, min_samples_leaf=2, min_samples_split=5, n_estimators=300; total time= 2.2min\n",
      "[CV] END criterion=gini, min_samples_leaf=2, min_samples_split=5, n_estimators=300; total time= 2.3min\n",
      "[CV] END criterion=gini, min_samples_leaf=2, min_samples_split=5, n_estimators=300; total time= 2.2min\n",
      "[CV] END criterion=gini, min_samples_leaf=2, min_samples_split=5, n_estimators=300; total time= 2.3min\n",
      "[CV] END criterion=gini, min_samples_leaf=2, min_samples_split=5, n_estimators=500; total time= 3.7min\n",
      "[CV] END criterion=gini, min_samples_leaf=2, min_samples_split=5, n_estimators=500; total time= 3.7min\n",
      "[CV] END criterion=gini, min_samples_leaf=2, min_samples_split=5, n_estimators=500; total time= 3.8min\n",
      "[CV] END criterion=gini, min_samples_leaf=2, min_samples_split=5, n_estimators=500; total time= 3.7min\n",
      "[CV] END criterion=gini, min_samples_leaf=2, min_samples_split=5, n_estimators=500; total time= 3.8min\n",
      "[CV] END criterion=gini, min_samples_leaf=3, min_samples_split=2, n_estimators=100; total time=  43.1s\n",
      "[CV] END criterion=gini, min_samples_leaf=3, min_samples_split=2, n_estimators=100; total time=  42.3s\n",
      "[CV] END criterion=gini, min_samples_leaf=3, min_samples_split=2, n_estimators=100; total time=  42.4s\n",
      "[CV] END criterion=gini, min_samples_leaf=3, min_samples_split=2, n_estimators=100; total time=  42.1s\n",
      "[CV] END criterion=gini, min_samples_leaf=3, min_samples_split=2, n_estimators=100; total time=  42.1s\n",
      "[CV] END criterion=gini, min_samples_leaf=3, min_samples_split=2, n_estimators=300; total time= 2.1min\n",
      "[CV] END criterion=gini, min_samples_leaf=3, min_samples_split=2, n_estimators=300; total time= 2.2min\n",
      "[CV] END criterion=gini, min_samples_leaf=3, min_samples_split=2, n_estimators=300; total time= 2.1min\n",
      "[CV] END criterion=gini, min_samples_leaf=3, min_samples_split=2, n_estimators=300; total time= 2.1min\n",
      "[CV] END criterion=gini, min_samples_leaf=3, min_samples_split=2, n_estimators=300; total time= 2.1min\n",
      "[CV] END criterion=gini, min_samples_leaf=3, min_samples_split=2, n_estimators=500; total time= 3.5min\n",
      "[CV] END criterion=gini, min_samples_leaf=3, min_samples_split=2, n_estimators=500; total time= 3.6min\n",
      "[CV] END criterion=gini, min_samples_leaf=3, min_samples_split=2, n_estimators=500; total time= 3.5min\n",
      "[CV] END criterion=gini, min_samples_leaf=3, min_samples_split=2, n_estimators=500; total time= 3.5min\n",
      "[CV] END criterion=gini, min_samples_leaf=3, min_samples_split=2, n_estimators=500; total time= 3.5min\n",
      "[CV] END criterion=gini, min_samples_leaf=3, min_samples_split=3, n_estimators=100; total time=  42.7s\n",
      "[CV] END criterion=gini, min_samples_leaf=3, min_samples_split=3, n_estimators=100; total time=  41.8s\n",
      "[CV] END criterion=gini, min_samples_leaf=3, min_samples_split=3, n_estimators=100; total time=  40.6s\n",
      "[CV] END criterion=gini, min_samples_leaf=3, min_samples_split=3, n_estimators=100; total time=  40.2s\n",
      "[CV] END criterion=gini, min_samples_leaf=3, min_samples_split=3, n_estimators=100; total time=  40.6s\n",
      "[CV] END criterion=gini, min_samples_leaf=3, min_samples_split=3, n_estimators=300; total time= 2.1min\n",
      "[CV] END criterion=gini, min_samples_leaf=3, min_samples_split=3, n_estimators=300; total time= 2.0min\n",
      "[CV] END criterion=gini, min_samples_leaf=3, min_samples_split=3, n_estimators=300; total time= 2.0min\n",
      "[CV] END criterion=gini, min_samples_leaf=3, min_samples_split=3, n_estimators=300; total time= 2.0min\n",
      "[CV] END criterion=gini, min_samples_leaf=3, min_samples_split=3, n_estimators=300; total time= 2.0min\n",
      "[CV] END criterion=gini, min_samples_leaf=3, min_samples_split=3, n_estimators=500; total time= 3.4min\n",
      "[CV] END criterion=gini, min_samples_leaf=3, min_samples_split=3, n_estimators=500; total time= 3.4min\n",
      "[CV] END criterion=gini, min_samples_leaf=3, min_samples_split=3, n_estimators=500; total time= 3.3min\n",
      "[CV] END criterion=gini, min_samples_leaf=3, min_samples_split=3, n_estimators=500; total time= 3.3min\n",
      "[CV] END criterion=gini, min_samples_leaf=3, min_samples_split=3, n_estimators=500; total time= 3.3min\n",
      "[CV] END criterion=gini, min_samples_leaf=3, min_samples_split=5, n_estimators=100; total time=  40.4s\n",
      "[CV] END criterion=gini, min_samples_leaf=3, min_samples_split=5, n_estimators=100; total time=  39.6s\n",
      "[CV] END criterion=gini, min_samples_leaf=3, min_samples_split=5, n_estimators=100; total time=  40.2s\n",
      "[CV] END criterion=gini, min_samples_leaf=3, min_samples_split=5, n_estimators=100; total time=  40.1s\n",
      "[CV] END criterion=gini, min_samples_leaf=3, min_samples_split=5, n_estimators=100; total time=  40.0s\n",
      "[CV] END criterion=gini, min_samples_leaf=3, min_samples_split=5, n_estimators=300; total time= 2.1min\n",
      "[CV] END criterion=gini, min_samples_leaf=3, min_samples_split=5, n_estimators=300; total time= 2.0min\n",
      "[CV] END criterion=gini, min_samples_leaf=3, min_samples_split=5, n_estimators=300; total time= 2.0min\n",
      "[CV] END criterion=gini, min_samples_leaf=3, min_samples_split=5, n_estimators=300; total time= 2.0min\n",
      "[CV] END criterion=gini, min_samples_leaf=3, min_samples_split=5, n_estimators=300; total time= 2.0min\n",
      "[CV] END criterion=gini, min_samples_leaf=3, min_samples_split=5, n_estimators=500; total time= 3.4min\n",
      "[CV] END criterion=gini, min_samples_leaf=3, min_samples_split=5, n_estimators=500; total time= 3.4min\n",
      "[CV] END criterion=gini, min_samples_leaf=3, min_samples_split=5, n_estimators=500; total time= 3.3min\n",
      "[CV] END criterion=gini, min_samples_leaf=3, min_samples_split=5, n_estimators=500; total time= 3.3min\n",
      "[CV] END criterion=gini, min_samples_leaf=3, min_samples_split=5, n_estimators=500; total time= 3.3min\n",
      "[CV] END criterion=gini, min_samples_leaf=5, min_samples_split=2, n_estimators=100; total time=  37.8s\n",
      "[CV] END criterion=gini, min_samples_leaf=5, min_samples_split=2, n_estimators=100; total time=  38.6s\n",
      "[CV] END criterion=gini, min_samples_leaf=5, min_samples_split=2, n_estimators=100; total time=  38.8s\n",
      "[CV] END criterion=gini, min_samples_leaf=5, min_samples_split=2, n_estimators=100; total time=  38.1s\n",
      "[CV] END criterion=gini, min_samples_leaf=5, min_samples_split=2, n_estimators=100; total time=  39.5s\n",
      "[CV] END criterion=gini, min_samples_leaf=5, min_samples_split=2, n_estimators=300; total time= 2.1min\n",
      "[CV] END criterion=gini, min_samples_leaf=5, min_samples_split=2, n_estimators=300; total time= 2.0min\n",
      "[CV] END criterion=gini, min_samples_leaf=5, min_samples_split=2, n_estimators=300; total time= 2.0min\n",
      "[CV] END criterion=gini, min_samples_leaf=5, min_samples_split=2, n_estimators=300; total time= 2.0min\n",
      "[CV] END criterion=gini, min_samples_leaf=5, min_samples_split=2, n_estimators=300; total time= 2.0min\n",
      "[CV] END criterion=gini, min_samples_leaf=5, min_samples_split=2, n_estimators=500; total time= 3.3min\n",
      "[CV] END criterion=gini, min_samples_leaf=5, min_samples_split=2, n_estimators=500; total time= 3.4min\n",
      "[CV] END criterion=gini, min_samples_leaf=5, min_samples_split=2, n_estimators=500; total time= 3.3min\n",
      "[CV] END criterion=gini, min_samples_leaf=5, min_samples_split=2, n_estimators=500; total time= 3.3min\n",
      "[CV] END criterion=gini, min_samples_leaf=5, min_samples_split=2, n_estimators=500; total time= 3.3min\n",
      "[CV] END criterion=gini, min_samples_leaf=5, min_samples_split=3, n_estimators=100; total time=  41.7s\n",
      "[CV] END criterion=gini, min_samples_leaf=5, min_samples_split=3, n_estimators=100; total time=  41.3s\n",
      "[CV] END criterion=gini, min_samples_leaf=5, min_samples_split=3, n_estimators=100; total time=  41.1s\n",
      "[CV] END criterion=gini, min_samples_leaf=5, min_samples_split=3, n_estimators=100; total time=  40.4s\n",
      "[CV] END criterion=gini, min_samples_leaf=5, min_samples_split=3, n_estimators=100; total time=  40.4s\n",
      "[CV] END criterion=gini, min_samples_leaf=5, min_samples_split=3, n_estimators=300; total time= 2.1min\n",
      "[CV] END criterion=gini, min_samples_leaf=5, min_samples_split=3, n_estimators=300; total time= 2.0min\n",
      "[CV] END criterion=gini, min_samples_leaf=5, min_samples_split=3, n_estimators=300; total time= 2.0min\n",
      "[CV] END criterion=gini, min_samples_leaf=5, min_samples_split=3, n_estimators=300; total time= 2.0min\n",
      "[CV] END criterion=gini, min_samples_leaf=5, min_samples_split=3, n_estimators=300; total time= 2.0min\n",
      "[CV] END criterion=gini, min_samples_leaf=5, min_samples_split=3, n_estimators=500; total time= 3.3min\n",
      "[CV] END criterion=gini, min_samples_leaf=5, min_samples_split=3, n_estimators=500; total time= 3.4min\n",
      "[CV] END criterion=gini, min_samples_leaf=5, min_samples_split=3, n_estimators=500; total time= 3.3min\n",
      "[CV] END criterion=gini, min_samples_leaf=5, min_samples_split=3, n_estimators=500; total time= 3.3min\n",
      "[CV] END criterion=gini, min_samples_leaf=5, min_samples_split=3, n_estimators=500; total time= 3.2min\n",
      "[CV] END criterion=gini, min_samples_leaf=5, min_samples_split=5, n_estimators=100; total time=  39.4s\n",
      "[CV] END criterion=gini, min_samples_leaf=5, min_samples_split=5, n_estimators=100; total time=  38.4s\n",
      "[CV] END criterion=gini, min_samples_leaf=5, min_samples_split=5, n_estimators=100; total time=  37.0s\n",
      "[CV] END criterion=gini, min_samples_leaf=5, min_samples_split=5, n_estimators=100; total time=  37.2s\n",
      "[CV] END criterion=gini, min_samples_leaf=5, min_samples_split=5, n_estimators=100; total time=  37.0s\n",
      "[CV] END criterion=gini, min_samples_leaf=5, min_samples_split=5, n_estimators=300; total time= 1.9min\n",
      "[CV] END criterion=gini, min_samples_leaf=5, min_samples_split=5, n_estimators=300; total time= 1.9min\n",
      "[CV] END criterion=gini, min_samples_leaf=5, min_samples_split=5, n_estimators=300; total time= 1.9min\n",
      "[CV] END criterion=gini, min_samples_leaf=5, min_samples_split=5, n_estimators=300; total time= 1.9min\n",
      "[CV] END criterion=gini, min_samples_leaf=5, min_samples_split=5, n_estimators=300; total time= 1.9min\n",
      "[CV] END criterion=gini, min_samples_leaf=5, min_samples_split=5, n_estimators=500; total time= 3.1min\n",
      "[CV] END criterion=gini, min_samples_leaf=5, min_samples_split=5, n_estimators=500; total time= 3.1min\n",
      "[CV] END criterion=gini, min_samples_leaf=5, min_samples_split=5, n_estimators=500; total time= 3.1min\n",
      "[CV] END criterion=gini, min_samples_leaf=5, min_samples_split=5, n_estimators=500; total time= 3.1min\n",
      "[CV] END criterion=gini, min_samples_leaf=5, min_samples_split=5, n_estimators=500; total time= 3.1min\n",
      "[CV] END criterion=entropy, min_samples_leaf=1, min_samples_split=2, n_estimators=100; total time=  52.4s\n",
      "[CV] END criterion=entropy, min_samples_leaf=1, min_samples_split=2, n_estimators=100; total time=  52.2s\n",
      "[CV] END criterion=entropy, min_samples_leaf=1, min_samples_split=2, n_estimators=100; total time=  52.4s\n",
      "[CV] END criterion=entropy, min_samples_leaf=1, min_samples_split=2, n_estimators=100; total time=  52.3s\n",
      "[CV] END criterion=entropy, min_samples_leaf=1, min_samples_split=2, n_estimators=100; total time=  52.4s\n",
      "[CV] END criterion=entropy, min_samples_leaf=1, min_samples_split=2, n_estimators=300; total time= 2.7min\n",
      "[CV] END criterion=entropy, min_samples_leaf=1, min_samples_split=2, n_estimators=300; total time= 2.6min\n",
      "[CV] END criterion=entropy, min_samples_leaf=1, min_samples_split=2, n_estimators=300; total time= 2.6min\n",
      "[CV] END criterion=entropy, min_samples_leaf=1, min_samples_split=2, n_estimators=300; total time= 2.6min\n",
      "[CV] END criterion=entropy, min_samples_leaf=1, min_samples_split=2, n_estimators=300; total time= 2.6min\n",
      "[CV] END criterion=entropy, min_samples_leaf=1, min_samples_split=2, n_estimators=500; total time= 4.4min\n",
      "[CV] END criterion=entropy, min_samples_leaf=1, min_samples_split=2, n_estimators=500; total time= 4.4min\n",
      "[CV] END criterion=entropy, min_samples_leaf=1, min_samples_split=2, n_estimators=500; total time= 4.4min\n",
      "[CV] END criterion=entropy, min_samples_leaf=1, min_samples_split=2, n_estimators=500; total time= 4.5min\n",
      "[CV] END criterion=entropy, min_samples_leaf=1, min_samples_split=2, n_estimators=500; total time= 4.7min\n",
      "[CV] END criterion=entropy, min_samples_leaf=1, min_samples_split=3, n_estimators=100; total time=  55.1s\n",
      "[CV] END criterion=entropy, min_samples_leaf=1, min_samples_split=3, n_estimators=100; total time=  55.8s\n",
      "[CV] END criterion=entropy, min_samples_leaf=1, min_samples_split=3, n_estimators=100; total time=  55.4s\n",
      "[CV] END criterion=entropy, min_samples_leaf=1, min_samples_split=3, n_estimators=100; total time=  55.2s\n",
      "[CV] END criterion=entropy, min_samples_leaf=1, min_samples_split=3, n_estimators=100; total time=  55.8s\n",
      "[CV] END criterion=entropy, min_samples_leaf=1, min_samples_split=3, n_estimators=300; total time= 2.8min\n",
      "[CV] END criterion=entropy, min_samples_leaf=1, min_samples_split=3, n_estimators=300; total time= 2.8min\n",
      "[CV] END criterion=entropy, min_samples_leaf=1, min_samples_split=3, n_estimators=300; total time= 2.8min\n",
      "[CV] END criterion=entropy, min_samples_leaf=1, min_samples_split=3, n_estimators=300; total time= 2.8min\n",
      "[CV] END criterion=entropy, min_samples_leaf=1, min_samples_split=3, n_estimators=300; total time= 2.8min\n",
      "[CV] END criterion=entropy, min_samples_leaf=1, min_samples_split=3, n_estimators=500; total time= 4.6min\n",
      "[CV] END criterion=entropy, min_samples_leaf=1, min_samples_split=3, n_estimators=500; total time= 4.7min\n",
      "[CV] END criterion=entropy, min_samples_leaf=1, min_samples_split=3, n_estimators=500; total time= 4.6min\n",
      "[CV] END criterion=entropy, min_samples_leaf=1, min_samples_split=3, n_estimators=500; total time= 4.7min\n",
      "[CV] END criterion=entropy, min_samples_leaf=1, min_samples_split=3, n_estimators=500; total time= 4.7min\n",
      "[CV] END criterion=entropy, min_samples_leaf=1, min_samples_split=5, n_estimators=100; total time=  54.6s\n",
      "[CV] END criterion=entropy, min_samples_leaf=1, min_samples_split=5, n_estimators=100; total time=  54.7s\n",
      "[CV] END criterion=entropy, min_samples_leaf=1, min_samples_split=5, n_estimators=100; total time=  54.8s\n",
      "[CV] END criterion=entropy, min_samples_leaf=1, min_samples_split=5, n_estimators=100; total time=  54.6s\n",
      "[CV] END criterion=entropy, min_samples_leaf=1, min_samples_split=5, n_estimators=100; total time=  54.5s\n",
      "[CV] END criterion=entropy, min_samples_leaf=1, min_samples_split=5, n_estimators=300; total time= 2.7min\n",
      "[CV] END criterion=entropy, min_samples_leaf=1, min_samples_split=5, n_estimators=300; total time= 2.7min\n",
      "[CV] END criterion=entropy, min_samples_leaf=1, min_samples_split=5, n_estimators=300; total time= 2.7min\n",
      "[CV] END criterion=entropy, min_samples_leaf=1, min_samples_split=5, n_estimators=300; total time= 2.7min\n",
      "[CV] END criterion=entropy, min_samples_leaf=1, min_samples_split=5, n_estimators=300; total time= 2.6min\n",
      "[CV] END criterion=entropy, min_samples_leaf=1, min_samples_split=5, n_estimators=500; total time= 4.3min\n",
      "[CV] END criterion=entropy, min_samples_leaf=1, min_samples_split=5, n_estimators=500; total time= 4.3min\n",
      "[CV] END criterion=entropy, min_samples_leaf=1, min_samples_split=5, n_estimators=500; total time= 4.4min\n",
      "[CV] END criterion=entropy, min_samples_leaf=1, min_samples_split=5, n_estimators=500; total time= 4.3min\n",
      "[CV] END criterion=entropy, min_samples_leaf=1, min_samples_split=5, n_estimators=500; total time= 4.3min\n",
      "[CV] END criterion=entropy, min_samples_leaf=2, min_samples_split=2, n_estimators=100; total time=  43.2s\n",
      "[CV] END criterion=entropy, min_samples_leaf=2, min_samples_split=2, n_estimators=100; total time=  43.0s\n",
      "[CV] END criterion=entropy, min_samples_leaf=2, min_samples_split=2, n_estimators=100; total time=  43.3s\n",
      "[CV] END criterion=entropy, min_samples_leaf=2, min_samples_split=2, n_estimators=100; total time=  42.8s\n",
      "[CV] END criterion=entropy, min_samples_leaf=2, min_samples_split=2, n_estimators=100; total time=  43.0s\n",
      "[CV] END criterion=entropy, min_samples_leaf=2, min_samples_split=2, n_estimators=300; total time= 2.2min\n",
      "[CV] END criterion=entropy, min_samples_leaf=2, min_samples_split=2, n_estimators=300; total time= 2.1min\n",
      "[CV] END criterion=entropy, min_samples_leaf=2, min_samples_split=2, n_estimators=300; total time= 2.1min\n",
      "[CV] END criterion=entropy, min_samples_leaf=2, min_samples_split=2, n_estimators=300; total time= 2.2min\n",
      "[CV] END criterion=entropy, min_samples_leaf=2, min_samples_split=2, n_estimators=300; total time= 2.1min\n",
      "[CV] END criterion=entropy, min_samples_leaf=2, min_samples_split=2, n_estimators=500; total time= 3.6min\n",
      "[CV] END criterion=entropy, min_samples_leaf=2, min_samples_split=2, n_estimators=500; total time= 3.6min\n",
      "[CV] END criterion=entropy, min_samples_leaf=2, min_samples_split=2, n_estimators=500; total time= 3.6min\n",
      "[CV] END criterion=entropy, min_samples_leaf=2, min_samples_split=2, n_estimators=500; total time= 3.6min\n",
      "[CV] END criterion=entropy, min_samples_leaf=2, min_samples_split=2, n_estimators=500; total time= 3.7min\n",
      "[CV] END criterion=entropy, min_samples_leaf=2, min_samples_split=3, n_estimators=100; total time=  46.2s\n",
      "[CV] END criterion=entropy, min_samples_leaf=2, min_samples_split=3, n_estimators=100; total time=  51.0s\n",
      "[CV] END criterion=entropy, min_samples_leaf=2, min_samples_split=3, n_estimators=100; total time=  49.9s\n",
      "[CV] END criterion=entropy, min_samples_leaf=2, min_samples_split=3, n_estimators=100; total time=  58.4s\n",
      "[CV] END criterion=entropy, min_samples_leaf=2, min_samples_split=3, n_estimators=100; total time=  49.8s\n",
      "[CV] END criterion=entropy, min_samples_leaf=2, min_samples_split=3, n_estimators=300; total time= 2.3min\n",
      "[CV] END criterion=entropy, min_samples_leaf=2, min_samples_split=3, n_estimators=300; total time= 2.3min\n",
      "[CV] END criterion=entropy, min_samples_leaf=2, min_samples_split=3, n_estimators=300; total time= 2.5min\n",
      "[CV] END criterion=entropy, min_samples_leaf=2, min_samples_split=3, n_estimators=300; total time= 2.4min\n",
      "[CV] END criterion=entropy, min_samples_leaf=2, min_samples_split=3, n_estimators=300; total time= 2.3min\n",
      "[CV] END criterion=entropy, min_samples_leaf=2, min_samples_split=3, n_estimators=500; total time= 3.9min\n",
      "[CV] END criterion=entropy, min_samples_leaf=2, min_samples_split=3, n_estimators=500; total time= 3.8min\n",
      "[CV] END criterion=entropy, min_samples_leaf=2, min_samples_split=3, n_estimators=500; total time= 3.8min\n",
      "[CV] END criterion=entropy, min_samples_leaf=2, min_samples_split=3, n_estimators=500; total time= 3.8min\n",
      "[CV] END criterion=entropy, min_samples_leaf=2, min_samples_split=3, n_estimators=500; total time= 3.9min\n",
      "[CV] END criterion=entropy, min_samples_leaf=2, min_samples_split=5, n_estimators=100; total time=  44.9s\n",
      "[CV] END criterion=entropy, min_samples_leaf=2, min_samples_split=5, n_estimators=100; total time=  45.3s\n",
      "[CV] END criterion=entropy, min_samples_leaf=2, min_samples_split=5, n_estimators=100; total time=  45.6s\n",
      "[CV] END criterion=entropy, min_samples_leaf=2, min_samples_split=5, n_estimators=100; total time=  45.8s\n",
      "[CV] END criterion=entropy, min_samples_leaf=2, min_samples_split=5, n_estimators=100; total time=  45.3s\n",
      "[CV] END criterion=entropy, min_samples_leaf=2, min_samples_split=5, n_estimators=300; total time= 2.3min\n",
      "[CV] END criterion=entropy, min_samples_leaf=2, min_samples_split=5, n_estimators=300; total time= 2.3min\n",
      "[CV] END criterion=entropy, min_samples_leaf=2, min_samples_split=5, n_estimators=300; total time= 2.3min\n",
      "[CV] END criterion=entropy, min_samples_leaf=2, min_samples_split=5, n_estimators=300; total time= 2.3min\n",
      "[CV] END criterion=entropy, min_samples_leaf=2, min_samples_split=5, n_estimators=300; total time= 2.3min\n",
      "[CV] END criterion=entropy, min_samples_leaf=2, min_samples_split=5, n_estimators=500; total time= 3.8min\n",
      "[CV] END criterion=entropy, min_samples_leaf=2, min_samples_split=5, n_estimators=500; total time= 3.8min\n",
      "[CV] END criterion=entropy, min_samples_leaf=2, min_samples_split=5, n_estimators=500; total time= 3.7min\n",
      "[CV] END criterion=entropy, min_samples_leaf=2, min_samples_split=5, n_estimators=500; total time= 3.6min\n",
      "[CV] END criterion=entropy, min_samples_leaf=2, min_samples_split=5, n_estimators=500; total time= 3.6min\n",
      "[CV] END criterion=entropy, min_samples_leaf=3, min_samples_split=2, n_estimators=100; total time=  40.4s\n",
      "[CV] END criterion=entropy, min_samples_leaf=3, min_samples_split=2, n_estimators=100; total time=  41.0s\n",
      "[CV] END criterion=entropy, min_samples_leaf=3, min_samples_split=2, n_estimators=100; total time=  40.2s\n",
      "[CV] END criterion=entropy, min_samples_leaf=3, min_samples_split=2, n_estimators=100; total time=  40.5s\n",
      "[CV] END criterion=entropy, min_samples_leaf=3, min_samples_split=2, n_estimators=100; total time=  40.3s\n",
      "[CV] END criterion=entropy, min_samples_leaf=3, min_samples_split=2, n_estimators=300; total time= 2.0min\n",
      "[CV] END criterion=entropy, min_samples_leaf=3, min_samples_split=2, n_estimators=300; total time= 2.0min\n",
      "[CV] END criterion=entropy, min_samples_leaf=3, min_samples_split=2, n_estimators=300; total time= 2.0min\n",
      "[CV] END criterion=entropy, min_samples_leaf=3, min_samples_split=2, n_estimators=300; total time= 2.0min\n",
      "[CV] END criterion=entropy, min_samples_leaf=3, min_samples_split=2, n_estimators=300; total time= 2.0min\n",
      "[CV] END criterion=entropy, min_samples_leaf=3, min_samples_split=2, n_estimators=500; total time= 3.4min\n",
      "[CV] END criterion=entropy, min_samples_leaf=3, min_samples_split=2, n_estimators=500; total time= 3.4min\n",
      "[CV] END criterion=entropy, min_samples_leaf=3, min_samples_split=2, n_estimators=500; total time= 3.4min\n",
      "[CV] END criterion=entropy, min_samples_leaf=3, min_samples_split=2, n_estimators=500; total time= 3.4min\n",
      "[CV] END criterion=entropy, min_samples_leaf=3, min_samples_split=2, n_estimators=500; total time= 3.4min\n",
      "[CV] END criterion=entropy, min_samples_leaf=3, min_samples_split=3, n_estimators=100; total time=  41.1s\n",
      "[CV] END criterion=entropy, min_samples_leaf=3, min_samples_split=3, n_estimators=100; total time=  40.5s\n",
      "[CV] END criterion=entropy, min_samples_leaf=3, min_samples_split=3, n_estimators=100; total time=  40.3s\n",
      "[CV] END criterion=entropy, min_samples_leaf=3, min_samples_split=3, n_estimators=100; total time=  40.9s\n",
      "[CV] END criterion=entropy, min_samples_leaf=3, min_samples_split=3, n_estimators=100; total time=  40.7s\n",
      "[CV] END criterion=entropy, min_samples_leaf=3, min_samples_split=3, n_estimators=300; total time= 2.1min\n",
      "[CV] END criterion=entropy, min_samples_leaf=3, min_samples_split=3, n_estimators=300; total time= 2.1min\n",
      "[CV] END criterion=entropy, min_samples_leaf=3, min_samples_split=3, n_estimators=300; total time= 2.0min\n",
      "[CV] END criterion=entropy, min_samples_leaf=3, min_samples_split=3, n_estimators=300; total time= 2.0min\n",
      "[CV] END criterion=entropy, min_samples_leaf=3, min_samples_split=3, n_estimators=300; total time= 2.0min\n",
      "[CV] END criterion=entropy, min_samples_leaf=3, min_samples_split=3, n_estimators=500; total time= 3.4min\n",
      "[CV] END criterion=entropy, min_samples_leaf=3, min_samples_split=3, n_estimators=500; total time= 3.5min\n",
      "[CV] END criterion=entropy, min_samples_leaf=3, min_samples_split=3, n_estimators=500; total time= 3.7min\n",
      "[CV] END criterion=entropy, min_samples_leaf=3, min_samples_split=3, n_estimators=500; total time= 3.6min\n",
      "[CV] END criterion=entropy, min_samples_leaf=3, min_samples_split=3, n_estimators=500; total time= 3.6min\n",
      "[CV] END criterion=entropy, min_samples_leaf=3, min_samples_split=5, n_estimators=100; total time=  43.3s\n",
      "[CV] END criterion=entropy, min_samples_leaf=3, min_samples_split=5, n_estimators=100; total time=  42.8s\n",
      "[CV] END criterion=entropy, min_samples_leaf=3, min_samples_split=5, n_estimators=100; total time=  43.1s\n",
      "[CV] END criterion=entropy, min_samples_leaf=3, min_samples_split=5, n_estimators=100; total time=  42.7s\n",
      "[CV] END criterion=entropy, min_samples_leaf=3, min_samples_split=5, n_estimators=100; total time=  42.9s\n",
      "[CV] END criterion=entropy, min_samples_leaf=3, min_samples_split=5, n_estimators=300; total time= 2.2min\n",
      "[CV] END criterion=entropy, min_samples_leaf=3, min_samples_split=5, n_estimators=300; total time= 2.2min\n",
      "[CV] END criterion=entropy, min_samples_leaf=3, min_samples_split=5, n_estimators=300; total time= 2.1min\n",
      "[CV] END criterion=entropy, min_samples_leaf=3, min_samples_split=5, n_estimators=300; total time= 2.1min\n",
      "[CV] END criterion=entropy, min_samples_leaf=3, min_samples_split=5, n_estimators=300; total time= 2.1min\n",
      "[CV] END criterion=entropy, min_samples_leaf=3, min_samples_split=5, n_estimators=500; total time= 3.6min\n",
      "[CV] END criterion=entropy, min_samples_leaf=3, min_samples_split=5, n_estimators=500; total time= 3.6min\n",
      "[CV] END criterion=entropy, min_samples_leaf=3, min_samples_split=5, n_estimators=500; total time= 3.6min\n",
      "[CV] END criterion=entropy, min_samples_leaf=3, min_samples_split=5, n_estimators=500; total time= 3.6min\n",
      "[CV] END criterion=entropy, min_samples_leaf=3, min_samples_split=5, n_estimators=500; total time= 3.6min\n",
      "[CV] END criterion=entropy, min_samples_leaf=5, min_samples_split=2, n_estimators=100; total time=  39.7s\n",
      "[CV] END criterion=entropy, min_samples_leaf=5, min_samples_split=2, n_estimators=100; total time=  39.8s\n",
      "[CV] END criterion=entropy, min_samples_leaf=5, min_samples_split=2, n_estimators=100; total time=  39.5s\n",
      "[CV] END criterion=entropy, min_samples_leaf=5, min_samples_split=2, n_estimators=100; total time=  40.8s\n",
      "[CV] END criterion=entropy, min_samples_leaf=5, min_samples_split=2, n_estimators=100; total time=  44.2s\n",
      "[CV] END criterion=entropy, min_samples_leaf=5, min_samples_split=2, n_estimators=300; total time= 2.0min\n",
      "[CV] END criterion=entropy, min_samples_leaf=5, min_samples_split=2, n_estimators=300; total time= 2.0min\n",
      "[CV] END criterion=entropy, min_samples_leaf=5, min_samples_split=2, n_estimators=300; total time= 2.0min\n",
      "[CV] END criterion=entropy, min_samples_leaf=5, min_samples_split=2, n_estimators=300; total time= 2.0min\n",
      "[CV] END criterion=entropy, min_samples_leaf=5, min_samples_split=2, n_estimators=300; total time= 2.0min\n",
      "[CV] END criterion=entropy, min_samples_leaf=5, min_samples_split=2, n_estimators=500; total time= 3.2min\n",
      "[CV] END criterion=entropy, min_samples_leaf=5, min_samples_split=2, n_estimators=500; total time= 3.2min\n",
      "[CV] END criterion=entropy, min_samples_leaf=5, min_samples_split=2, n_estimators=500; total time= 3.1min\n",
      "[CV] END criterion=entropy, min_samples_leaf=5, min_samples_split=2, n_estimators=500; total time= 3.3min\n",
      "[CV] END criterion=entropy, min_samples_leaf=5, min_samples_split=2, n_estimators=500; total time= 3.1min\n",
      "[CV] END criterion=entropy, min_samples_leaf=5, min_samples_split=3, n_estimators=100; total time=  37.8s\n",
      "[CV] END criterion=entropy, min_samples_leaf=5, min_samples_split=3, n_estimators=100; total time=  37.5s\n",
      "[CV] END criterion=entropy, min_samples_leaf=5, min_samples_split=3, n_estimators=100; total time=  38.0s\n",
      "[CV] END criterion=entropy, min_samples_leaf=5, min_samples_split=3, n_estimators=100; total time=  37.6s\n",
      "[CV] END criterion=entropy, min_samples_leaf=5, min_samples_split=3, n_estimators=100; total time=  37.6s\n",
      "[CV] END criterion=entropy, min_samples_leaf=5, min_samples_split=3, n_estimators=300; total time= 2.0min\n",
      "[CV] END criterion=entropy, min_samples_leaf=5, min_samples_split=3, n_estimators=300; total time= 1.9min\n",
      "[CV] END criterion=entropy, min_samples_leaf=5, min_samples_split=3, n_estimators=300; total time= 1.9min\n",
      "[CV] END criterion=entropy, min_samples_leaf=5, min_samples_split=3, n_estimators=300; total time= 1.9min\n",
      "[CV] END criterion=entropy, min_samples_leaf=5, min_samples_split=3, n_estimators=300; total time= 1.9min\n",
      "[CV] END criterion=entropy, min_samples_leaf=5, min_samples_split=3, n_estimators=500; total time= 3.2min\n",
      "[CV] END criterion=entropy, min_samples_leaf=5, min_samples_split=3, n_estimators=500; total time= 3.2min\n",
      "[CV] END criterion=entropy, min_samples_leaf=5, min_samples_split=3, n_estimators=500; total time= 3.1min\n",
      "[CV] END criterion=entropy, min_samples_leaf=5, min_samples_split=3, n_estimators=500; total time= 3.2min\n",
      "[CV] END criterion=entropy, min_samples_leaf=5, min_samples_split=3, n_estimators=500; total time= 3.2min\n",
      "[CV] END criterion=entropy, min_samples_leaf=5, min_samples_split=5, n_estimators=100; total time=  37.9s\n",
      "[CV] END criterion=entropy, min_samples_leaf=5, min_samples_split=5, n_estimators=100; total time=  37.9s\n",
      "[CV] END criterion=entropy, min_samples_leaf=5, min_samples_split=5, n_estimators=100; total time=  37.3s\n",
      "[CV] END criterion=entropy, min_samples_leaf=5, min_samples_split=5, n_estimators=100; total time=  37.2s\n",
      "[CV] END criterion=entropy, min_samples_leaf=5, min_samples_split=5, n_estimators=100; total time=  38.0s\n",
      "[CV] END criterion=entropy, min_samples_leaf=5, min_samples_split=5, n_estimators=300; total time= 1.9min\n",
      "[CV] END criterion=entropy, min_samples_leaf=5, min_samples_split=5, n_estimators=300; total time= 1.9min\n",
      "[CV] END criterion=entropy, min_samples_leaf=5, min_samples_split=5, n_estimators=300; total time= 1.9min\n",
      "[CV] END criterion=entropy, min_samples_leaf=5, min_samples_split=5, n_estimators=300; total time= 1.9min\n",
      "[CV] END criterion=entropy, min_samples_leaf=5, min_samples_split=5, n_estimators=300; total time= 1.9min\n",
      "[CV] END criterion=entropy, min_samples_leaf=5, min_samples_split=5, n_estimators=500; total time= 3.2min\n",
      "[CV] END criterion=entropy, min_samples_leaf=5, min_samples_split=5, n_estimators=500; total time= 3.3min\n",
      "[CV] END criterion=entropy, min_samples_leaf=5, min_samples_split=5, n_estimators=500; total time= 3.4min\n",
      "[CV] END criterion=entropy, min_samples_leaf=5, min_samples_split=5, n_estimators=500; total time= 3.3min\n",
      "[CV] END criterion=entropy, min_samples_leaf=5, min_samples_split=5, n_estimators=500; total time= 3.3min\n",
      "[CV] END criterion=log_loss, min_samples_leaf=1, min_samples_split=2, n_estimators=100; total time=   0.1s\n",
      "[CV] END criterion=log_loss, min_samples_leaf=1, min_samples_split=2, n_estimators=100; total time=   0.1s\n",
      "[CV] END criterion=log_loss, min_samples_leaf=1, min_samples_split=2, n_estimators=100; total time=   0.1s\n",
      "[CV] END criterion=log_loss, min_samples_leaf=1, min_samples_split=2, n_estimators=100; total time=   0.1s\n",
      "[CV] END criterion=log_loss, min_samples_leaf=1, min_samples_split=2, n_estimators=100; total time=   0.1s\n",
      "[CV] END criterion=log_loss, min_samples_leaf=1, min_samples_split=2, n_estimators=300; total time=   0.1s\n",
      "[CV] END criterion=log_loss, min_samples_leaf=1, min_samples_split=2, n_estimators=300; total time=   0.1s\n",
      "[CV] END criterion=log_loss, min_samples_leaf=1, min_samples_split=2, n_estimators=300; total time=   0.1s\n",
      "[CV] END criterion=log_loss, min_samples_leaf=1, min_samples_split=2, n_estimators=300; total time=   0.1s\n",
      "[CV] END criterion=log_loss, min_samples_leaf=1, min_samples_split=2, n_estimators=300; total time=   0.1s\n",
      "[CV] END criterion=log_loss, min_samples_leaf=1, min_samples_split=2, n_estimators=500; total time=   0.2s\n",
      "[CV] END criterion=log_loss, min_samples_leaf=1, min_samples_split=2, n_estimators=500; total time=   0.2s\n",
      "[CV] END criterion=log_loss, min_samples_leaf=1, min_samples_split=2, n_estimators=500; total time=   0.2s\n",
      "[CV] END criterion=log_loss, min_samples_leaf=1, min_samples_split=2, n_estimators=500; total time=   0.2s\n",
      "[CV] END criterion=log_loss, min_samples_leaf=1, min_samples_split=2, n_estimators=500; total time=   0.2s\n",
      "[CV] END criterion=log_loss, min_samples_leaf=1, min_samples_split=3, n_estimators=100; total time=   0.1s\n",
      "[CV] END criterion=log_loss, min_samples_leaf=1, min_samples_split=3, n_estimators=100; total time=   0.1s\n",
      "[CV] END criterion=log_loss, min_samples_leaf=1, min_samples_split=3, n_estimators=100; total time=   0.1s\n",
      "[CV] END criterion=log_loss, min_samples_leaf=1, min_samples_split=3, n_estimators=100; total time=   0.1s\n",
      "[CV] END criterion=log_loss, min_samples_leaf=1, min_samples_split=3, n_estimators=100; total time=   0.1s\n",
      "[CV] END criterion=log_loss, min_samples_leaf=1, min_samples_split=3, n_estimators=300; total time=   0.1s\n",
      "[CV] END criterion=log_loss, min_samples_leaf=1, min_samples_split=3, n_estimators=300; total time=   0.1s\n",
      "[CV] END criterion=log_loss, min_samples_leaf=1, min_samples_split=3, n_estimators=300; total time=   0.1s\n",
      "[CV] END criterion=log_loss, min_samples_leaf=1, min_samples_split=3, n_estimators=300; total time=   0.1s\n",
      "[CV] END criterion=log_loss, min_samples_leaf=1, min_samples_split=3, n_estimators=300; total time=   0.1s\n",
      "[CV] END criterion=log_loss, min_samples_leaf=1, min_samples_split=3, n_estimators=500; total time=   0.2s\n",
      "[CV] END criterion=log_loss, min_samples_leaf=1, min_samples_split=3, n_estimators=500; total time=   0.2s\n",
      "[CV] END criterion=log_loss, min_samples_leaf=1, min_samples_split=3, n_estimators=500; total time=   0.2s\n",
      "[CV] END criterion=log_loss, min_samples_leaf=1, min_samples_split=3, n_estimators=500; total time=   0.2s\n",
      "[CV] END criterion=log_loss, min_samples_leaf=1, min_samples_split=3, n_estimators=500; total time=   0.2s\n",
      "[CV] END criterion=log_loss, min_samples_leaf=1, min_samples_split=5, n_estimators=100; total time=   0.1s\n",
      "[CV] END criterion=log_loss, min_samples_leaf=1, min_samples_split=5, n_estimators=100; total time=   0.1s\n",
      "[CV] END criterion=log_loss, min_samples_leaf=1, min_samples_split=5, n_estimators=100; total time=   0.1s\n",
      "[CV] END criterion=log_loss, min_samples_leaf=1, min_samples_split=5, n_estimators=100; total time=   0.1s\n",
      "[CV] END criterion=log_loss, min_samples_leaf=1, min_samples_split=5, n_estimators=100; total time=   0.1s\n",
      "[CV] END criterion=log_loss, min_samples_leaf=1, min_samples_split=5, n_estimators=300; total time=   0.1s\n",
      "[CV] END criterion=log_loss, min_samples_leaf=1, min_samples_split=5, n_estimators=300; total time=   0.1s\n",
      "[CV] END criterion=log_loss, min_samples_leaf=1, min_samples_split=5, n_estimators=300; total time=   0.1s\n",
      "[CV] END criterion=log_loss, min_samples_leaf=1, min_samples_split=5, n_estimators=300; total time=   0.1s\n",
      "[CV] END criterion=log_loss, min_samples_leaf=1, min_samples_split=5, n_estimators=300; total time=   0.1s\n",
      "[CV] END criterion=log_loss, min_samples_leaf=1, min_samples_split=5, n_estimators=500; total time=   0.2s\n",
      "[CV] END criterion=log_loss, min_samples_leaf=1, min_samples_split=5, n_estimators=500; total time=   0.2s\n",
      "[CV] END criterion=log_loss, min_samples_leaf=1, min_samples_split=5, n_estimators=500; total time=   0.2s\n",
      "[CV] END criterion=log_loss, min_samples_leaf=1, min_samples_split=5, n_estimators=500; total time=   0.2s\n",
      "[CV] END criterion=log_loss, min_samples_leaf=1, min_samples_split=5, n_estimators=500; total time=   0.2s\n",
      "[CV] END criterion=log_loss, min_samples_leaf=2, min_samples_split=2, n_estimators=100; total time=   0.1s\n",
      "[CV] END criterion=log_loss, min_samples_leaf=2, min_samples_split=2, n_estimators=100; total time=   0.1s\n",
      "[CV] END criterion=log_loss, min_samples_leaf=2, min_samples_split=2, n_estimators=100; total time=   0.1s\n",
      "[CV] END criterion=log_loss, min_samples_leaf=2, min_samples_split=2, n_estimators=100; total time=   0.1s\n",
      "[CV] END criterion=log_loss, min_samples_leaf=2, min_samples_split=2, n_estimators=100; total time=   0.1s\n",
      "[CV] END criterion=log_loss, min_samples_leaf=2, min_samples_split=2, n_estimators=300; total time=   0.1s\n",
      "[CV] END criterion=log_loss, min_samples_leaf=2, min_samples_split=2, n_estimators=300; total time=   0.2s\n",
      "[CV] END criterion=log_loss, min_samples_leaf=2, min_samples_split=2, n_estimators=300; total time=   0.1s\n",
      "[CV] END criterion=log_loss, min_samples_leaf=2, min_samples_split=2, n_estimators=300; total time=   0.1s\n",
      "[CV] END criterion=log_loss, min_samples_leaf=2, min_samples_split=2, n_estimators=300; total time=   0.2s\n",
      "[CV] END criterion=log_loss, min_samples_leaf=2, min_samples_split=2, n_estimators=500; total time=   0.2s\n",
      "[CV] END criterion=log_loss, min_samples_leaf=2, min_samples_split=2, n_estimators=500; total time=   0.2s\n",
      "[CV] END criterion=log_loss, min_samples_leaf=2, min_samples_split=2, n_estimators=500; total time=   0.2s\n",
      "[CV] END criterion=log_loss, min_samples_leaf=2, min_samples_split=2, n_estimators=500; total time=   0.2s\n",
      "[CV] END criterion=log_loss, min_samples_leaf=2, min_samples_split=2, n_estimators=500; total time=   0.2s\n",
      "[CV] END criterion=log_loss, min_samples_leaf=2, min_samples_split=3, n_estimators=100; total time=   0.1s\n",
      "[CV] END criterion=log_loss, min_samples_leaf=2, min_samples_split=3, n_estimators=100; total time=   0.1s\n",
      "[CV] END criterion=log_loss, min_samples_leaf=2, min_samples_split=3, n_estimators=100; total time=   0.1s\n",
      "[CV] END criterion=log_loss, min_samples_leaf=2, min_samples_split=3, n_estimators=100; total time=   0.1s\n",
      "[CV] END criterion=log_loss, min_samples_leaf=2, min_samples_split=3, n_estimators=100; total time=   0.1s\n",
      "[CV] END criterion=log_loss, min_samples_leaf=2, min_samples_split=3, n_estimators=300; total time=   0.1s\n",
      "[CV] END criterion=log_loss, min_samples_leaf=2, min_samples_split=3, n_estimators=300; total time=   0.1s\n",
      "[CV] END criterion=log_loss, min_samples_leaf=2, min_samples_split=3, n_estimators=300; total time=   0.1s\n",
      "[CV] END criterion=log_loss, min_samples_leaf=2, min_samples_split=3, n_estimators=300; total time=   0.1s\n",
      "[CV] END criterion=log_loss, min_samples_leaf=2, min_samples_split=3, n_estimators=300; total time=   0.1s\n",
      "[CV] END criterion=log_loss, min_samples_leaf=2, min_samples_split=3, n_estimators=500; total time=   0.2s\n",
      "[CV] END criterion=log_loss, min_samples_leaf=2, min_samples_split=3, n_estimators=500; total time=   0.2s\n",
      "[CV] END criterion=log_loss, min_samples_leaf=2, min_samples_split=3, n_estimators=500; total time=   0.2s\n",
      "[CV] END criterion=log_loss, min_samples_leaf=2, min_samples_split=3, n_estimators=500; total time=   0.2s\n",
      "[CV] END criterion=log_loss, min_samples_leaf=2, min_samples_split=3, n_estimators=500; total time=   0.2s\n",
      "[CV] END criterion=log_loss, min_samples_leaf=2, min_samples_split=5, n_estimators=100; total time=   0.1s\n",
      "[CV] END criterion=log_loss, min_samples_leaf=2, min_samples_split=5, n_estimators=100; total time=   0.1s\n",
      "[CV] END criterion=log_loss, min_samples_leaf=2, min_samples_split=5, n_estimators=100; total time=   0.1s\n",
      "[CV] END criterion=log_loss, min_samples_leaf=2, min_samples_split=5, n_estimators=100; total time=   0.1s\n",
      "[CV] END criterion=log_loss, min_samples_leaf=2, min_samples_split=5, n_estimators=100; total time=   0.1s\n",
      "[CV] END criterion=log_loss, min_samples_leaf=2, min_samples_split=5, n_estimators=300; total time=   0.1s\n",
      "[CV] END criterion=log_loss, min_samples_leaf=2, min_samples_split=5, n_estimators=300; total time=   0.1s\n",
      "[CV] END criterion=log_loss, min_samples_leaf=2, min_samples_split=5, n_estimators=300; total time=   0.1s\n",
      "[CV] END criterion=log_loss, min_samples_leaf=2, min_samples_split=5, n_estimators=300; total time=   0.1s\n",
      "[CV] END criterion=log_loss, min_samples_leaf=2, min_samples_split=5, n_estimators=300; total time=   0.1s\n",
      "[CV] END criterion=log_loss, min_samples_leaf=2, min_samples_split=5, n_estimators=500; total time=   0.2s\n",
      "[CV] END criterion=log_loss, min_samples_leaf=2, min_samples_split=5, n_estimators=500; total time=   0.2s\n",
      "[CV] END criterion=log_loss, min_samples_leaf=2, min_samples_split=5, n_estimators=500; total time=   0.2s\n",
      "[CV] END criterion=log_loss, min_samples_leaf=2, min_samples_split=5, n_estimators=500; total time=   0.2s\n",
      "[CV] END criterion=log_loss, min_samples_leaf=2, min_samples_split=5, n_estimators=500; total time=   0.2s\n",
      "[CV] END criterion=log_loss, min_samples_leaf=3, min_samples_split=2, n_estimators=100; total time=   0.1s\n",
      "[CV] END criterion=log_loss, min_samples_leaf=3, min_samples_split=2, n_estimators=100; total time=   0.1s\n",
      "[CV] END criterion=log_loss, min_samples_leaf=3, min_samples_split=2, n_estimators=100; total time=   0.1s\n",
      "[CV] END criterion=log_loss, min_samples_leaf=3, min_samples_split=2, n_estimators=100; total time=   0.1s\n",
      "[CV] END criterion=log_loss, min_samples_leaf=3, min_samples_split=2, n_estimators=100; total time=   0.1s\n",
      "[CV] END criterion=log_loss, min_samples_leaf=3, min_samples_split=2, n_estimators=300; total time=   0.1s\n",
      "[CV] END criterion=log_loss, min_samples_leaf=3, min_samples_split=2, n_estimators=300; total time=   0.1s\n",
      "[CV] END criterion=log_loss, min_samples_leaf=3, min_samples_split=2, n_estimators=300; total time=   0.1s\n",
      "[CV] END criterion=log_loss, min_samples_leaf=3, min_samples_split=2, n_estimators=300; total time=   0.1s\n",
      "[CV] END criterion=log_loss, min_samples_leaf=3, min_samples_split=2, n_estimators=300; total time=   0.1s\n",
      "[CV] END criterion=log_loss, min_samples_leaf=3, min_samples_split=2, n_estimators=500; total time=   0.2s\n",
      "[CV] END criterion=log_loss, min_samples_leaf=3, min_samples_split=2, n_estimators=500; total time=   0.2s\n",
      "[CV] END criterion=log_loss, min_samples_leaf=3, min_samples_split=2, n_estimators=500; total time=   0.2s\n",
      "[CV] END criterion=log_loss, min_samples_leaf=3, min_samples_split=2, n_estimators=500; total time=   0.2s\n",
      "[CV] END criterion=log_loss, min_samples_leaf=3, min_samples_split=2, n_estimators=500; total time=   0.2s\n",
      "[CV] END criterion=log_loss, min_samples_leaf=3, min_samples_split=3, n_estimators=100; total time=   0.1s\n",
      "[CV] END criterion=log_loss, min_samples_leaf=3, min_samples_split=3, n_estimators=100; total time=   0.1s\n",
      "[CV] END criterion=log_loss, min_samples_leaf=3, min_samples_split=3, n_estimators=100; total time=   0.1s\n",
      "[CV] END criterion=log_loss, min_samples_leaf=3, min_samples_split=3, n_estimators=100; total time=   0.1s\n",
      "[CV] END criterion=log_loss, min_samples_leaf=3, min_samples_split=3, n_estimators=100; total time=   0.1s\n",
      "[CV] END criterion=log_loss, min_samples_leaf=3, min_samples_split=3, n_estimators=300; total time=   0.1s\n",
      "[CV] END criterion=log_loss, min_samples_leaf=3, min_samples_split=3, n_estimators=300; total time=   0.1s\n",
      "[CV] END criterion=log_loss, min_samples_leaf=3, min_samples_split=3, n_estimators=300; total time=   0.1s\n",
      "[CV] END criterion=log_loss, min_samples_leaf=3, min_samples_split=3, n_estimators=300; total time=   0.1s\n",
      "[CV] END criterion=log_loss, min_samples_leaf=3, min_samples_split=3, n_estimators=300; total time=   0.1s\n",
      "[CV] END criterion=log_loss, min_samples_leaf=3, min_samples_split=3, n_estimators=500; total time=   0.2s\n",
      "[CV] END criterion=log_loss, min_samples_leaf=3, min_samples_split=3, n_estimators=500; total time=   0.2s\n",
      "[CV] END criterion=log_loss, min_samples_leaf=3, min_samples_split=3, n_estimators=500; total time=   0.2s\n",
      "[CV] END criterion=log_loss, min_samples_leaf=3, min_samples_split=3, n_estimators=500; total time=   0.2s\n",
      "[CV] END criterion=log_loss, min_samples_leaf=3, min_samples_split=3, n_estimators=500; total time=   0.2s\n",
      "[CV] END criterion=log_loss, min_samples_leaf=3, min_samples_split=5, n_estimators=100; total time=   0.1s\n",
      "[CV] END criterion=log_loss, min_samples_leaf=3, min_samples_split=5, n_estimators=100; total time=   0.1s\n",
      "[CV] END criterion=log_loss, min_samples_leaf=3, min_samples_split=5, n_estimators=100; total time=   0.1s\n",
      "[CV] END criterion=log_loss, min_samples_leaf=3, min_samples_split=5, n_estimators=100; total time=   0.1s\n",
      "[CV] END criterion=log_loss, min_samples_leaf=3, min_samples_split=5, n_estimators=100; total time=   0.1s\n",
      "[CV] END criterion=log_loss, min_samples_leaf=3, min_samples_split=5, n_estimators=300; total time=   0.1s\n",
      "[CV] END criterion=log_loss, min_samples_leaf=3, min_samples_split=5, n_estimators=300; total time=   0.1s\n",
      "[CV] END criterion=log_loss, min_samples_leaf=3, min_samples_split=5, n_estimators=300; total time=   0.1s\n",
      "[CV] END criterion=log_loss, min_samples_leaf=3, min_samples_split=5, n_estimators=300; total time=   0.1s\n",
      "[CV] END criterion=log_loss, min_samples_leaf=3, min_samples_split=5, n_estimators=300; total time=   0.1s\n",
      "[CV] END criterion=log_loss, min_samples_leaf=3, min_samples_split=5, n_estimators=500; total time=   0.2s\n",
      "[CV] END criterion=log_loss, min_samples_leaf=3, min_samples_split=5, n_estimators=500; total time=   0.2s\n",
      "[CV] END criterion=log_loss, min_samples_leaf=3, min_samples_split=5, n_estimators=500; total time=   0.2s\n",
      "[CV] END criterion=log_loss, min_samples_leaf=3, min_samples_split=5, n_estimators=500; total time=   0.2s\n",
      "[CV] END criterion=log_loss, min_samples_leaf=3, min_samples_split=5, n_estimators=500; total time=   0.2s\n",
      "[CV] END criterion=log_loss, min_samples_leaf=5, min_samples_split=2, n_estimators=100; total time=   0.1s\n",
      "[CV] END criterion=log_loss, min_samples_leaf=5, min_samples_split=2, n_estimators=100; total time=   0.1s\n",
      "[CV] END criterion=log_loss, min_samples_leaf=5, min_samples_split=2, n_estimators=100; total time=   0.1s\n",
      "[CV] END criterion=log_loss, min_samples_leaf=5, min_samples_split=2, n_estimators=100; total time=   0.1s\n",
      "[CV] END criterion=log_loss, min_samples_leaf=5, min_samples_split=2, n_estimators=100; total time=   0.1s\n",
      "[CV] END criterion=log_loss, min_samples_leaf=5, min_samples_split=2, n_estimators=300; total time=   0.1s\n",
      "[CV] END criterion=log_loss, min_samples_leaf=5, min_samples_split=2, n_estimators=300; total time=   0.1s\n",
      "[CV] END criterion=log_loss, min_samples_leaf=5, min_samples_split=2, n_estimators=300; total time=   0.1s\n",
      "[CV] END criterion=log_loss, min_samples_leaf=5, min_samples_split=2, n_estimators=300; total time=   0.1s\n",
      "[CV] END criterion=log_loss, min_samples_leaf=5, min_samples_split=2, n_estimators=300; total time=   0.1s\n",
      "[CV] END criterion=log_loss, min_samples_leaf=5, min_samples_split=2, n_estimators=500; total time=   0.2s\n",
      "[CV] END criterion=log_loss, min_samples_leaf=5, min_samples_split=2, n_estimators=500; total time=   0.2s\n",
      "[CV] END criterion=log_loss, min_samples_leaf=5, min_samples_split=2, n_estimators=500; total time=   0.2s\n",
      "[CV] END criterion=log_loss, min_samples_leaf=5, min_samples_split=2, n_estimators=500; total time=   0.2s\n",
      "[CV] END criterion=log_loss, min_samples_leaf=5, min_samples_split=2, n_estimators=500; total time=   0.2s\n",
      "[CV] END criterion=log_loss, min_samples_leaf=5, min_samples_split=3, n_estimators=100; total time=   0.1s\n",
      "[CV] END criterion=log_loss, min_samples_leaf=5, min_samples_split=3, n_estimators=100; total time=   0.1s\n",
      "[CV] END criterion=log_loss, min_samples_leaf=5, min_samples_split=3, n_estimators=100; total time=   0.1s\n",
      "[CV] END criterion=log_loss, min_samples_leaf=5, min_samples_split=3, n_estimators=100; total time=   0.1s\n",
      "[CV] END criterion=log_loss, min_samples_leaf=5, min_samples_split=3, n_estimators=100; total time=   0.1s\n",
      "[CV] END criterion=log_loss, min_samples_leaf=5, min_samples_split=3, n_estimators=300; total time=   0.1s\n",
      "[CV] END criterion=log_loss, min_samples_leaf=5, min_samples_split=3, n_estimators=300; total time=   0.1s\n",
      "[CV] END criterion=log_loss, min_samples_leaf=5, min_samples_split=3, n_estimators=300; total time=   0.1s\n",
      "[CV] END criterion=log_loss, min_samples_leaf=5, min_samples_split=3, n_estimators=300; total time=   0.1s\n",
      "[CV] END criterion=log_loss, min_samples_leaf=5, min_samples_split=3, n_estimators=300; total time=   0.1s\n",
      "[CV] END criterion=log_loss, min_samples_leaf=5, min_samples_split=3, n_estimators=500; total time=   0.2s\n",
      "[CV] END criterion=log_loss, min_samples_leaf=5, min_samples_split=3, n_estimators=500; total time=   0.2s\n",
      "[CV] END criterion=log_loss, min_samples_leaf=5, min_samples_split=3, n_estimators=500; total time=   0.2s\n",
      "[CV] END criterion=log_loss, min_samples_leaf=5, min_samples_split=3, n_estimators=500; total time=   0.2s\n",
      "[CV] END criterion=log_loss, min_samples_leaf=5, min_samples_split=3, n_estimators=500; total time=   0.2s\n",
      "[CV] END criterion=log_loss, min_samples_leaf=5, min_samples_split=5, n_estimators=100; total time=   0.1s\n",
      "[CV] END criterion=log_loss, min_samples_leaf=5, min_samples_split=5, n_estimators=100; total time=   0.1s\n",
      "[CV] END criterion=log_loss, min_samples_leaf=5, min_samples_split=5, n_estimators=100; total time=   0.1s\n",
      "[CV] END criterion=log_loss, min_samples_leaf=5, min_samples_split=5, n_estimators=100; total time=   0.1s\n",
      "[CV] END criterion=log_loss, min_samples_leaf=5, min_samples_split=5, n_estimators=100; total time=   0.1s\n",
      "[CV] END criterion=log_loss, min_samples_leaf=5, min_samples_split=5, n_estimators=300; total time=   0.1s\n",
      "[CV] END criterion=log_loss, min_samples_leaf=5, min_samples_split=5, n_estimators=300; total time=   0.1s\n",
      "[CV] END criterion=log_loss, min_samples_leaf=5, min_samples_split=5, n_estimators=300; total time=   0.1s\n",
      "[CV] END criterion=log_loss, min_samples_leaf=5, min_samples_split=5, n_estimators=300; total time=   0.1s\n",
      "[CV] END criterion=log_loss, min_samples_leaf=5, min_samples_split=5, n_estimators=300; total time=   0.1s\n",
      "[CV] END criterion=log_loss, min_samples_leaf=5, min_samples_split=5, n_estimators=500; total time=   0.2s\n",
      "[CV] END criterion=log_loss, min_samples_leaf=5, min_samples_split=5, n_estimators=500; total time=   0.2s\n",
      "[CV] END criterion=log_loss, min_samples_leaf=5, min_samples_split=5, n_estimators=500; total time=   0.2s\n",
      "[CV] END criterion=log_loss, min_samples_leaf=5, min_samples_split=5, n_estimators=500; total time=   0.2s\n",
      "[CV] END criterion=log_loss, min_samples_leaf=5, min_samples_split=5, n_estimators=500; total time=   0.2s\n"
     ]
    },
    {
     "name": "stderr",
     "output_type": "stream",
     "text": [
      "C:\\Users\\ychong4\\Anaconda3\\lib\\site-packages\\sklearn\\model_selection\\_validation.py:372: FitFailedWarning: \n",
      "180 fits failed out of a total of 540.\n",
      "The score on these train-test partitions for these parameters will be set to nan.\n",
      "If these failures are not expected, you can try to debug them by setting error_score='raise'.\n",
      "\n",
      "Below are more details about the failures:\n",
      "--------------------------------------------------------------------------------\n",
      "180 fits failed with the following error:\n",
      "Traceback (most recent call last):\n",
      "  File \"C:\\Users\\ychong4\\Anaconda3\\lib\\site-packages\\sklearn\\model_selection\\_validation.py\", line 680, in _fit_and_score\n",
      "    estimator.fit(X_train, y_train, **fit_params)\n",
      "  File \"C:\\Users\\ychong4\\Anaconda3\\lib\\site-packages\\sklearn\\ensemble\\_forest.py\", line 450, in fit\n",
      "    trees = Parallel(\n",
      "  File \"C:\\Users\\ychong4\\Anaconda3\\lib\\site-packages\\joblib\\parallel.py\", line 1085, in __call__\n",
      "    if self.dispatch_one_batch(iterator):\n",
      "  File \"C:\\Users\\ychong4\\Anaconda3\\lib\\site-packages\\joblib\\parallel.py\", line 901, in dispatch_one_batch\n",
      "    self._dispatch(tasks)\n",
      "  File \"C:\\Users\\ychong4\\Anaconda3\\lib\\site-packages\\joblib\\parallel.py\", line 819, in _dispatch\n",
      "    job = self._backend.apply_async(batch, callback=cb)\n",
      "  File \"C:\\Users\\ychong4\\Anaconda3\\lib\\site-packages\\joblib\\_parallel_backends.py\", line 208, in apply_async\n",
      "    result = ImmediateResult(func)\n",
      "  File \"C:\\Users\\ychong4\\Anaconda3\\lib\\site-packages\\joblib\\_parallel_backends.py\", line 597, in __init__\n",
      "    self.results = batch()\n",
      "  File \"C:\\Users\\ychong4\\Anaconda3\\lib\\site-packages\\joblib\\parallel.py\", line 288, in __call__\n",
      "    return [func(*args, **kwargs)\n",
      "  File \"C:\\Users\\ychong4\\Anaconda3\\lib\\site-packages\\joblib\\parallel.py\", line 288, in <listcomp>\n",
      "    return [func(*args, **kwargs)\n",
      "  File \"C:\\Users\\ychong4\\Anaconda3\\lib\\site-packages\\sklearn\\utils\\fixes.py\", line 216, in __call__\n",
      "    return self.function(*args, **kwargs)\n",
      "  File \"C:\\Users\\ychong4\\Anaconda3\\lib\\site-packages\\sklearn\\ensemble\\_forest.py\", line 187, in _parallel_build_trees\n",
      "    tree.fit(X, y, sample_weight=sample_weight, check_input=False)\n",
      "  File \"C:\\Users\\ychong4\\Anaconda3\\lib\\site-packages\\sklearn\\tree\\_classes.py\", line 937, in fit\n",
      "    super().fit(\n",
      "  File \"C:\\Users\\ychong4\\Anaconda3\\lib\\site-packages\\sklearn\\tree\\_classes.py\", line 352, in fit\n",
      "    criterion = CRITERIA_CLF[self.criterion](\n",
      "KeyError: 'log_loss'\n",
      "\n",
      "  warnings.warn(some_fits_failed_message, FitFailedWarning)\n",
      "C:\\Users\\ychong4\\Anaconda3\\lib\\site-packages\\sklearn\\model_selection\\_search.py:969: UserWarning: One or more of the test scores are non-finite: [0.99838962 0.99843215 0.99843319 0.99791938 0.99798141 0.99799743\n",
      " 0.9957496  0.99591923 0.99593881 0.96999825 0.9710708  0.9711254\n",
      " 0.97022819 0.97094559 0.97128305 0.9692561  0.97018416 0.97028756\n",
      " 0.94002814 0.94082666 0.94100913 0.94003386 0.94077122 0.94106167\n",
      " 0.94012786 0.94061169 0.94093108 0.90955747 0.91012255 0.91046293\n",
      " 0.90943248 0.91021161 0.91025029 0.90954688 0.91024694 0.91030191\n",
      " 0.99836338 0.99841388 0.99842843 0.99788889 0.99798101 0.9980017\n",
      " 0.99575089 0.99590855 0.99594413 0.97017781 0.97100714 0.97119179\n",
      " 0.97027504 0.97117723 0.97126842 0.96889412 0.97013996 0.97030756\n",
      " 0.94014882 0.94079427 0.94096761 0.94006421 0.94086114 0.94092383\n",
      " 0.94008643 0.94085787 0.9408549  0.90954494 0.91013934 0.91033605\n",
      " 0.90965425 0.91027177 0.91029045 0.90942095 0.91027964 0.91028158\n",
      "        nan        nan        nan        nan        nan        nan\n",
      "        nan        nan        nan        nan        nan        nan\n",
      "        nan        nan        nan        nan        nan        nan\n",
      "        nan        nan        nan        nan        nan        nan\n",
      "        nan        nan        nan        nan        nan        nan\n",
      "        nan        nan        nan        nan        nan        nan]\n",
      "  warnings.warn(\n"
     ]
    },
    {
     "data": {
      "text/plain": [
       "GridSearchCV(cv=5, estimator=ExtraTreesClassifier(),\n",
       "             param_grid={'criterion': ['gini', 'entropy', 'log_loss'],\n",
       "                         'min_samples_leaf': [1, 2, 3, 5],\n",
       "                         'min_samples_split': [2, 3, 5],\n",
       "                         'n_estimators': [100, 300, 500]},\n",
       "             scoring='roc_auc', verbose=2)"
      ]
     },
     "execution_count": 36,
     "metadata": {},
     "output_type": "execute_result"
    }
   ],
   "source": [
    "xt_clf = ExtraTreesClassifier()\n",
    "\n",
    "param = {'n_estimators': [100, 300, 500],\n",
    "        'criterion': ['gini', 'entropy', 'log_loss'],\n",
    "        'min_samples_split': [2, 3, 5],\n",
    "        'min_samples_leaf': [1, 2, 3, 5]\n",
    "        }\n",
    "\n",
    "xt_clf_cv = GridSearchCV(xt_clf, param_grid = param, scoring = 'roc_auc', cv=5, verbose=2)\n",
    "xt_clf_cv.fit(X_train, Y_train)"
   ]
  },
  {
   "cell_type": "code",
   "execution_count": 37,
   "metadata": {
    "colab": {
     "base_uri": "https://localhost:8080/",
     "height": 380
    },
    "id": "tVVysMTdddqQ",
    "outputId": "0217512c-8d52-4c2d-a5c9-48f263a99f3a"
   },
   "outputs": [
    {
     "name": "stdout",
     "output_type": "stream",
     "text": [
      "AUC score for ExtraTrees Classifier training set:  0.9999121718591162\n",
      "AUC score for ExtraTrees Classifier validation set:  0.9713248187044216\n"
     ]
    }
   ],
   "source": [
    "xt_clf = ExtraTreesClassifier(**xt_clf_cv.best_params_)\n",
    "\n",
    "xt_clf.fit(X_train, Y_train)\n",
    "Y_pred_xt_train = xt_clf.predict(X_train)\n",
    "Y_pred_xt_val = xt_clf.predict(X_val)\n",
    "auc_xt_train = roc_auc_score(Y_pred_xt_train, Y_train)\n",
    "auc_xt_val = roc_auc_score(Y_pred_xt_val, Y_val)\n",
    "\n",
    "print(\"AUC score for ExtraTrees Classifier training set: \", auc_xt_train)\n",
    "print(\"AUC score for ExtraTrees Classifier validation set: \", auc_xt_val)"
   ]
  },
  {
   "cell_type": "markdown",
   "metadata": {
    "id": "eNRJ8ehvfy3z"
   },
   "source": [
    "## **Model 3: Voting Classifier**"
   ]
  },
  {
   "cell_type": "code",
   "execution_count": 38,
   "metadata": {
    "id": "Jp4N4J2BeMjr"
   },
   "outputs": [
    {
     "name": "stdout",
     "output_type": "stream",
     "text": [
      "Fitting 5 folds for each of 1 candidates, totalling 5 fits\n",
      "[CV] END ........................................voting=soft; total time= 2.4min\n",
      "[CV] END ........................................voting=soft; total time= 2.4min\n",
      "[CV] END ........................................voting=soft; total time= 2.5min\n",
      "[CV] END ........................................voting=soft; total time= 2.4min\n",
      "[CV] END ........................................voting=soft; total time= 2.4min\n"
     ]
    },
    {
     "data": {
      "text/plain": [
       "GridSearchCV(cv=5,\n",
       "             estimator=VotingClassifier(estimators=[('RF',\n",
       "                                                     RandomForestClassifier()),\n",
       "                                                    ('XT',\n",
       "                                                     ExtraTreesClassifier())]),\n",
       "             param_grid={'voting': ['soft']}, scoring='roc_auc', verbose=2)"
      ]
     },
     "execution_count": 38,
     "metadata": {},
     "output_type": "execute_result"
    }
   ],
   "source": [
    "vt_clf = VotingClassifier(estimators=estimators)\n",
    "\n",
    "param = {    \n",
    "        'voting': ['soft'],\n",
    "        }\n",
    "\n",
    "vt_clf_cv = GridSearchCV(vt_clf, param_grid = param, scoring = 'roc_auc', cv=5, verbose=2)\n",
    "vt_clf_cv.fit(X_train, Y_train)"
   ]
  },
  {
   "cell_type": "code",
   "execution_count": 39,
   "metadata": {
    "id": "zmYNzP01gFTD"
   },
   "outputs": [
    {
     "name": "stdout",
     "output_type": "stream",
     "text": [
      "AUC score for Voting Classifier training set:  0.9999121718591162\n",
      "AUC score for Voting Classifier validation set:  0.9636539341542348\n"
     ]
    }
   ],
   "source": [
    "vt_clf = VotingClassifier(estimators=estimators, **vt_clf_cv.best_params_)\n",
    "\n",
    "vt_clf.fit(X_train, Y_train)\n",
    "Y_pred_vt_train = vt_clf.predict(X_train)\n",
    "Y_pred_vt_val = vt_clf.predict(X_val)\n",
    "auc_vt_train = roc_auc_score(Y_pred_vt_train, Y_train)\n",
    "auc_vt_val = roc_auc_score(Y_pred_vt_val, Y_val)\n",
    "\n",
    "print(\"AUC score for Voting Classifier training set: \", auc_vt_train)\n",
    "print(\"AUC score for Voting Classifier validation set: \", auc_vt_val)"
   ]
  },
  {
   "cell_type": "markdown",
   "metadata": {
    "id": "ECdqcMHXhNDq"
   },
   "source": [
    "## **Selecting Model With Highest Accuracy**"
   ]
  },
  {
   "cell_type": "code",
   "execution_count": 44,
   "metadata": {
    "id": "XBJ8P1w6hSay"
   },
   "outputs": [
    {
     "data": {
      "text/html": [
       "<div>\n",
       "<style scoped>\n",
       "    .dataframe tbody tr th:only-of-type {\n",
       "        vertical-align: middle;\n",
       "    }\n",
       "\n",
       "    .dataframe tbody tr th {\n",
       "        vertical-align: top;\n",
       "    }\n",
       "\n",
       "    .dataframe thead th {\n",
       "        text-align: right;\n",
       "    }\n",
       "</style>\n",
       "<table border=\"1\" class=\"dataframe\">\n",
       "  <thead>\n",
       "    <tr style=\"text-align: right;\">\n",
       "      <th></th>\n",
       "      <th>Model</th>\n",
       "      <th>Train_Set_AUC</th>\n",
       "      <th>Val_Set_AUC</th>\n",
       "    </tr>\n",
       "  </thead>\n",
       "  <tbody>\n",
       "    <tr>\n",
       "      <th>0</th>\n",
       "      <td>Random Forest Classifier</td>\n",
       "      <td>0.999912</td>\n",
       "      <td>0.948805</td>\n",
       "    </tr>\n",
       "    <tr>\n",
       "      <th>1</th>\n",
       "      <td>ExtraTrees Classifier</td>\n",
       "      <td>0.999912</td>\n",
       "      <td>0.971325</td>\n",
       "    </tr>\n",
       "    <tr>\n",
       "      <th>2</th>\n",
       "      <td>Voting Classifier</td>\n",
       "      <td>0.999912</td>\n",
       "      <td>0.963654</td>\n",
       "    </tr>\n",
       "  </tbody>\n",
       "</table>\n",
       "</div>"
      ],
      "text/plain": [
       "                      Model  Train_Set_AUC  Val_Set_AUC\n",
       "0  Random Forest Classifier       0.999912     0.948805\n",
       "1     ExtraTrees Classifier       0.999912     0.971325\n",
       "2         Voting Classifier       0.999912     0.963654"
      ]
     },
     "execution_count": 44,
     "metadata": {},
     "output_type": "execute_result"
    }
   ],
   "source": [
    "models =['Random Forest Classifier', 'ExtraTrees Classifier', 'Voting Classifier']\n",
    "auc_train = [auc_rf_train, auc_xt_train, auc_vt_train]\n",
    "auc_val = [auc_rf_val, auc_xt_val, auc_vt_val]\n",
    "\n",
    "models_cv_scores = pd.DataFrame({'Model': models, 'Train_Set_AUC': auc_train, 'Val_Set_AUC': auc_val,})\n",
    "models_cv_scores"
   ]
  },
  {
   "cell_type": "code",
   "execution_count": 45,
   "metadata": {
    "id": "JNXQD6LshSiH"
   },
   "outputs": [
    {
     "name": "stdout",
     "output_type": "stream",
     "text": [
      "The best model is:  ExtraTrees Classifier , with an AUC score of 0.9713248187044216\n"
     ]
    }
   ],
   "source": [
    "auc_max = models_cv_scores['Val_Set_AUC'].max()\n",
    "idx = models_cv_scores['Val_Set_AUC'].idxmax()\n",
    "model_max = models_cv_scores.iloc[idx,0]\n",
    "\n",
    "print(\"The best model is: \", model_max, \", with an AUC score of\", auc_max)"
   ]
  },
  {
   "cell_type": "code",
   "execution_count": 46,
   "metadata": {
    "id": "_54CS6qBhSkw"
   },
   "outputs": [],
   "source": [
    "if model_max == 'Random Forest Classifier':\n",
    "    y_pred = rf_clf.predict(X_test)\n",
    "elif model_max == 'ExtraTrees Classifier':\n",
    "    y_pred = xt_clf.predict(X_test)\n",
    "elif model_max == 'Voting Classifier':\n",
    "    y_pred = vt_clf.predict(X_test)\n",
    "\n",
    "dfTest['Response'] = y_pred"
   ]
  },
  {
   "cell_type": "code",
   "execution_count": 47,
   "metadata": {
    "id": "Ii378QHS8HwW"
   },
   "outputs": [
    {
     "data": {
      "text/html": [
       "<div>\n",
       "<style scoped>\n",
       "    .dataframe tbody tr th:only-of-type {\n",
       "        vertical-align: middle;\n",
       "    }\n",
       "\n",
       "    .dataframe tbody tr th {\n",
       "        vertical-align: top;\n",
       "    }\n",
       "\n",
       "    .dataframe thead th {\n",
       "        text-align: right;\n",
       "    }\n",
       "</style>\n",
       "<table border=\"1\" class=\"dataframe\">\n",
       "  <thead>\n",
       "    <tr style=\"text-align: right;\">\n",
       "      <th></th>\n",
       "      <th>id</th>\n",
       "      <th>Gender</th>\n",
       "      <th>Age</th>\n",
       "      <th>Region_Code</th>\n",
       "      <th>Previously_Insured</th>\n",
       "      <th>Vehicle_Age</th>\n",
       "      <th>Vehicle_Damage</th>\n",
       "      <th>Annual_Premium</th>\n",
       "      <th>Policy_Sales_Channel</th>\n",
       "      <th>Vintage</th>\n",
       "      <th>Response</th>\n",
       "    </tr>\n",
       "  </thead>\n",
       "  <tbody>\n",
       "    <tr>\n",
       "      <th>1</th>\n",
       "      <td>381111</td>\n",
       "      <td>1</td>\n",
       "      <td>40</td>\n",
       "      <td>28.0</td>\n",
       "      <td>0</td>\n",
       "      <td>0</td>\n",
       "      <td>1</td>\n",
       "      <td>33762.0</td>\n",
       "      <td>7.0</td>\n",
       "      <td>111</td>\n",
       "      <td>1.0</td>\n",
       "    </tr>\n",
       "    <tr>\n",
       "      <th>2</th>\n",
       "      <td>381112</td>\n",
       "      <td>1</td>\n",
       "      <td>47</td>\n",
       "      <td>28.0</td>\n",
       "      <td>0</td>\n",
       "      <td>0</td>\n",
       "      <td>1</td>\n",
       "      <td>40050.0</td>\n",
       "      <td>124.0</td>\n",
       "      <td>199</td>\n",
       "      <td>0.0</td>\n",
       "    </tr>\n",
       "    <tr>\n",
       "      <th>3</th>\n",
       "      <td>381113</td>\n",
       "      <td>1</td>\n",
       "      <td>24</td>\n",
       "      <td>27.0</td>\n",
       "      <td>1</td>\n",
       "      <td>1</td>\n",
       "      <td>1</td>\n",
       "      <td>37356.0</td>\n",
       "      <td>152.0</td>\n",
       "      <td>187</td>\n",
       "      <td>0.0</td>\n",
       "    </tr>\n",
       "    <tr>\n",
       "      <th>4</th>\n",
       "      <td>381114</td>\n",
       "      <td>1</td>\n",
       "      <td>27</td>\n",
       "      <td>28.0</td>\n",
       "      <td>1</td>\n",
       "      <td>1</td>\n",
       "      <td>0</td>\n",
       "      <td>59097.0</td>\n",
       "      <td>152.0</td>\n",
       "      <td>297</td>\n",
       "      <td>0.0</td>\n",
       "    </tr>\n",
       "    <tr>\n",
       "      <th>5</th>\n",
       "      <td>381115</td>\n",
       "      <td>1</td>\n",
       "      <td>22</td>\n",
       "      <td>30.0</td>\n",
       "      <td>1</td>\n",
       "      <td>1</td>\n",
       "      <td>0</td>\n",
       "      <td>40207.0</td>\n",
       "      <td>152.0</td>\n",
       "      <td>266</td>\n",
       "      <td>0.0</td>\n",
       "    </tr>\n",
       "    <tr>\n",
       "      <th>...</th>\n",
       "      <td>...</td>\n",
       "      <td>...</td>\n",
       "      <td>...</td>\n",
       "      <td>...</td>\n",
       "      <td>...</td>\n",
       "      <td>...</td>\n",
       "      <td>...</td>\n",
       "      <td>...</td>\n",
       "      <td>...</td>\n",
       "      <td>...</td>\n",
       "      <td>...</td>\n",
       "    </tr>\n",
       "    <tr>\n",
       "      <th>127032</th>\n",
       "      <td>508142</td>\n",
       "      <td>0</td>\n",
       "      <td>26</td>\n",
       "      <td>37.0</td>\n",
       "      <td>1</td>\n",
       "      <td>1</td>\n",
       "      <td>0</td>\n",
       "      <td>30867.0</td>\n",
       "      <td>152.0</td>\n",
       "      <td>56</td>\n",
       "      <td>0.0</td>\n",
       "    </tr>\n",
       "    <tr>\n",
       "      <th>127033</th>\n",
       "      <td>508143</td>\n",
       "      <td>0</td>\n",
       "      <td>38</td>\n",
       "      <td>28.0</td>\n",
       "      <td>0</td>\n",
       "      <td>0</td>\n",
       "      <td>1</td>\n",
       "      <td>28700.0</td>\n",
       "      <td>122.0</td>\n",
       "      <td>165</td>\n",
       "      <td>0.0</td>\n",
       "    </tr>\n",
       "    <tr>\n",
       "      <th>127034</th>\n",
       "      <td>508144</td>\n",
       "      <td>1</td>\n",
       "      <td>21</td>\n",
       "      <td>46.0</td>\n",
       "      <td>1</td>\n",
       "      <td>1</td>\n",
       "      <td>0</td>\n",
       "      <td>29802.0</td>\n",
       "      <td>152.0</td>\n",
       "      <td>74</td>\n",
       "      <td>0.0</td>\n",
       "    </tr>\n",
       "    <tr>\n",
       "      <th>127035</th>\n",
       "      <td>508145</td>\n",
       "      <td>1</td>\n",
       "      <td>71</td>\n",
       "      <td>28.0</td>\n",
       "      <td>1</td>\n",
       "      <td>0</td>\n",
       "      <td>0</td>\n",
       "      <td>62875.0</td>\n",
       "      <td>26.0</td>\n",
       "      <td>265</td>\n",
       "      <td>0.0</td>\n",
       "    </tr>\n",
       "    <tr>\n",
       "      <th>127036</th>\n",
       "      <td>508146</td>\n",
       "      <td>1</td>\n",
       "      <td>41</td>\n",
       "      <td>29.0</td>\n",
       "      <td>1</td>\n",
       "      <td>0</td>\n",
       "      <td>0</td>\n",
       "      <td>27927.0</td>\n",
       "      <td>124.0</td>\n",
       "      <td>231</td>\n",
       "      <td>0.0</td>\n",
       "    </tr>\n",
       "  </tbody>\n",
       "</table>\n",
       "<p>127036 rows × 11 columns</p>\n",
       "</div>"
      ],
      "text/plain": [
       "            id  Gender  Age  Region_Code  Previously_Insured  Vehicle_Age  \\\n",
       "1       381111       1   40         28.0                   0            0   \n",
       "2       381112       1   47         28.0                   0            0   \n",
       "3       381113       1   24         27.0                   1            1   \n",
       "4       381114       1   27         28.0                   1            1   \n",
       "5       381115       1   22         30.0                   1            1   \n",
       "...        ...     ...  ...          ...                 ...          ...   \n",
       "127032  508142       0   26         37.0                   1            1   \n",
       "127033  508143       0   38         28.0                   0            0   \n",
       "127034  508144       1   21         46.0                   1            1   \n",
       "127035  508145       1   71         28.0                   1            0   \n",
       "127036  508146       1   41         29.0                   1            0   \n",
       "\n",
       "        Vehicle_Damage  Annual_Premium  Policy_Sales_Channel  Vintage  \\\n",
       "1                    1         33762.0                   7.0      111   \n",
       "2                    1         40050.0                 124.0      199   \n",
       "3                    1         37356.0                 152.0      187   \n",
       "4                    0         59097.0                 152.0      297   \n",
       "5                    0         40207.0                 152.0      266   \n",
       "...                ...             ...                   ...      ...   \n",
       "127032               0         30867.0                 152.0       56   \n",
       "127033               1         28700.0                 122.0      165   \n",
       "127034               0         29802.0                 152.0       74   \n",
       "127035               0         62875.0                  26.0      265   \n",
       "127036               0         27927.0                 124.0      231   \n",
       "\n",
       "        Response  \n",
       "1            1.0  \n",
       "2            0.0  \n",
       "3            0.0  \n",
       "4            0.0  \n",
       "5            0.0  \n",
       "...          ...  \n",
       "127032       0.0  \n",
       "127033       0.0  \n",
       "127034       0.0  \n",
       "127035       0.0  \n",
       "127036       0.0  \n",
       "\n",
       "[127036 rows x 11 columns]"
      ]
     },
     "execution_count": 47,
     "metadata": {},
     "output_type": "execute_result"
    }
   ],
   "source": [
    "dfTest"
   ]
  },
  {
   "cell_type": "markdown",
   "metadata": {},
   "source": [
    "## **Visualization on Test Set**"
   ]
  },
  {
   "cell_type": "code",
   "execution_count": 48,
   "metadata": {},
   "outputs": [
    {
     "data": {
      "text/plain": [
       "<AxesSubplot:xlabel='Response', ylabel='count'>"
      ]
     },
     "execution_count": 48,
     "metadata": {},
     "output_type": "execute_result"
    },
    {
     "data": {
      "image/png": "[encoded data removed]",
      "text/plain": [
       "<Figure size 432x288 with 1 Axes>"
      ]
     },
     "metadata": {},
     "output_type": "display_data"
    }
   ],
   "source": [
    "# Visualizing Predictor variable\n",
    "\n",
    "sns.countplot(x= 'Response', data=dfTest)"
   ]
  },
  {
   "cell_type": "code",
   "execution_count": 49,
   "metadata": {},
   "outputs": [
    {
     "data": {
      "image/png": "[encoded data removed]",
      "text/plain": [
       "<Figure size 1440x1080 with 4 Axes>"
      ]
     },
     "metadata": {},
     "output_type": "display_data"
    }
   ],
   "source": [
    "# Bivariate Analysis for categorical variables\n",
    "\n",
    "plt.figure(figsize=(20,15))\n",
    "\n",
    "for i, col in enumerate(cat_col):\n",
    "    plt.subplot(4, 2, cat_col.index(col)+1)\n",
    "    sns.countplot(x= 'Response', hue =col, data=dfTest)"
   ]
  },
  {
   "cell_type": "code",
   "execution_count": 50,
   "metadata": {},
   "outputs": [
    {
     "data": {
      "image/png": "[encoded data removed]",
      "text/plain": [
       "<Figure size 1440x1080 with 5 Axes>"
      ]
     },
     "metadata": {},
     "output_type": "display_data"
    }
   ],
   "source": [
    "# Bivariate analysis for numerical variables\n",
    "\n",
    "plt.figure(figsize=(20,15))\n",
    "\n",
    "for i, col in enumerate(numeric_col):\n",
    "    plt.subplot(4, 2, numeric_col.index(col)+1)\n",
    "    sns.kdeplot(x= col, hue= 'Response', data=dfTest, fill=True)"
   ]
  },
  {
   "cell_type": "markdown",
   "metadata": {},
   "source": [
    "## Conclusion"
   ]
  },
  {
   "cell_type": "markdown",
   "metadata": {},
   "source": [
    "The Algorithm predicts the response on test set. We performed bivariate analysis on the predicted response and found that the algorithm targeted some participant groups for response 1:\n",
    "\n",
    "(1) Previously insured\n",
    "</br>\n",
    "(2) Had vehicle damage\n",
    "\n",
    "So, these are the participant groups the marketing team should put more focus on."
   ]
  },
  {
   "cell_type": "code",
   "execution_count": null,
   "metadata": {},
   "outputs": [],
   "source": []
  },
  {
   "cell_type": "code",
   "execution_count": null,
   "metadata": {},
   "outputs": [],
   "source": []
  }
 ],
 "metadata": {
  "colab": {
   "provenance": []
  },
  "kernelspec": {
   "display_name": "Python 3 (ipykernel)",
   "language": "python",
   "name": "python3"
  },
  "language_info": {
   "codemirror_mode": {
    "name": "ipython",
    "version": 3
   },
   "file_extension": ".py",
   "mimetype": "text/x-python",
   "name": "python",
   "nbconvert_exporter": "python",
   "pygments_lexer": "ipython3",
   "version": "3.9.12"
  }
 },
 "nbformat": 4,
 "nbformat_minor": 1
}
